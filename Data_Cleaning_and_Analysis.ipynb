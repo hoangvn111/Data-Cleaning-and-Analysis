{
  "nbformat": 4,
  "nbformat_minor": 0,
  "metadata": {
    "colab": {
      "name": "Data Cleaning and Analysis.ipynb",
      "provenance": [],
      "collapsed_sections": [
        "NeWnwB3T5hiA",
        "m5aGSfmpPtT8",
        "2FBC1XpjQhpk",
        "20OkERMuRiJa",
        "WAqb9QRIRsiH",
        "-cI5G1DWSG_w",
        "zyymdFEYVrec",
        "-zYZgYW6WQeU",
        "QCDKyUsXYWGt",
        "-EPio1AsY99R",
        "dPxS9jr-b7i8",
        "Yvgevw8PgLr4",
        "qgDTXNz1lQ7d",
        "Hpeb6O16Bc4A",
        "0jcCBRVMF4H1",
        "ZRJZIn0fJGzS",
        "8d0eIEJsLJHf",
        "GEzY3yqOPFxS",
        "41LT_IqnRNlp",
        "Hni6CFhG6KuE",
        "JlIQWBokoFbN",
        "a0kLEHu7oXXH",
        "XvnfEFX6yJCt",
        "SmirHAAd0N8U",
        "t8jLqYdf3aOh",
        "HRBPQvJb9JEb",
        "DlE1Q15JYNnA",
        "gic7n9Qkdb1M",
        "ykmZyqRiilK9"
      ],
      "authorship_tag": "ABX9TyP0yZdQapIicMtbJmbScg28",
      "include_colab_link": true
    },
    "kernelspec": {
      "name": "python3",
      "display_name": "Python 3"
    },
    "language_info": {
      "name": "python"
    }
  },
  "cells": [
    {
      "cell_type": "markdown",
      "metadata": {
        "id": "view-in-github",
        "colab_type": "text"
      },
      "source": [
        "<a href=\"https://colab.research.google.com/github/hoangvn111/Data-Cleaning-and-Analysis/blob/master/Data_Cleaning_and_Analysis.ipynb\" target=\"_parent\"><img src=\"https://colab.research.google.com/assets/colab-badge.svg\" alt=\"Open In Colab\"/></a>"
      ]
    },
    {
      "cell_type": "code",
      "metadata": {
        "colab": {
          "base_uri": "https://localhost:8080/"
        },
        "id": "xHjS5C-Z32nx",
        "outputId": "6b7215e2-bb1b-4886-c230-ceeb1d9c721f"
      },
      "source": [
        "from google.colab import drive\n",
        "drive.mount('/content/drive')"
      ],
      "execution_count": null,
      "outputs": [
        {
          "output_type": "stream",
          "text": [
            "Drive already mounted at /content/drive; to attempt to forcibly remount, call drive.mount(\"/content/drive\", force_remount=True).\n"
          ],
          "name": "stdout"
        }
      ]
    },
    {
      "cell_type": "markdown",
      "metadata": {
        "id": "NeWnwB3T5hiA"
      },
      "source": [
        "# Data Aggregation"
      ]
    },
    {
      "cell_type": "code",
      "metadata": {
        "id": "sQVClrqb4CcA"
      },
      "source": [
        "import pandas as pd \n",
        "\n",
        "happiness2015 = pd.read_csv('/content/drive/MyDrive/my_datasets/Data Cleaning and Analysis/World_Happiness_2015.csv')"
      ],
      "execution_count": null,
      "outputs": []
    },
    {
      "cell_type": "markdown",
      "metadata": {
        "id": "6hTGAlE2PZHY"
      },
      "source": [
        "## Introduce data"
      ]
    },
    {
      "cell_type": "code",
      "metadata": {
        "id": "HQ9Crpza4952"
      },
      "source": [
        "first_5 = happiness2015.head().copy()"
      ],
      "execution_count": null,
      "outputs": []
    },
    {
      "cell_type": "code",
      "metadata": {
        "colab": {
          "base_uri": "https://localhost:8080/"
        },
        "id": "naRRvgKo5A2R",
        "outputId": "5c5d9a5d-52fa-4348-db2a-4a06fcc0dbf6"
      },
      "source": [
        "happiness2015.info()"
      ],
      "execution_count": null,
      "outputs": [
        {
          "output_type": "stream",
          "text": [
            "<class 'pandas.core.frame.DataFrame'>\n",
            "RangeIndex: 158 entries, 0 to 157\n",
            "Data columns (total 12 columns):\n",
            " #   Column                         Non-Null Count  Dtype  \n",
            "---  ------                         --------------  -----  \n",
            " 0   Country                        158 non-null    object \n",
            " 1   Region                         158 non-null    object \n",
            " 2   Happiness Rank                 158 non-null    int64  \n",
            " 3   Happiness Score                158 non-null    float64\n",
            " 4   Standard Error                 158 non-null    float64\n",
            " 5   Economy (GDP per Capita)       158 non-null    float64\n",
            " 6   Family                         158 non-null    float64\n",
            " 7   Health (Life Expectancy)       158 non-null    float64\n",
            " 8   Freedom                        158 non-null    float64\n",
            " 9   Trust (Government Corruption)  158 non-null    float64\n",
            " 10  Generosity                     158 non-null    float64\n",
            " 11  Dystopia Residual              158 non-null    float64\n",
            "dtypes: float64(9), int64(1), object(2)\n",
            "memory usage: 14.9+ KB\n"
          ],
          "name": "stdout"
        }
      ]
    },
    {
      "cell_type": "code",
      "metadata": {
        "colab": {
          "base_uri": "https://localhost:8080/",
          "height": 296
        },
        "id": "IlnXng_S5Fie",
        "outputId": "cfe9be1e-c6fd-484d-fdd4-ac00237f915d"
      },
      "source": [
        "first_5"
      ],
      "execution_count": null,
      "outputs": [
        {
          "output_type": "execute_result",
          "data": {
            "text/html": [
              "<div>\n",
              "<style scoped>\n",
              "    .dataframe tbody tr th:only-of-type {\n",
              "        vertical-align: middle;\n",
              "    }\n",
              "\n",
              "    .dataframe tbody tr th {\n",
              "        vertical-align: top;\n",
              "    }\n",
              "\n",
              "    .dataframe thead th {\n",
              "        text-align: right;\n",
              "    }\n",
              "</style>\n",
              "<table border=\"1\" class=\"dataframe\">\n",
              "  <thead>\n",
              "    <tr style=\"text-align: right;\">\n",
              "      <th></th>\n",
              "      <th>Country</th>\n",
              "      <th>Region</th>\n",
              "      <th>Happiness Rank</th>\n",
              "      <th>Happiness Score</th>\n",
              "      <th>Standard Error</th>\n",
              "      <th>Economy (GDP per Capita)</th>\n",
              "      <th>Family</th>\n",
              "      <th>Health (Life Expectancy)</th>\n",
              "      <th>Freedom</th>\n",
              "      <th>Trust (Government Corruption)</th>\n",
              "      <th>Generosity</th>\n",
              "      <th>Dystopia Residual</th>\n",
              "    </tr>\n",
              "  </thead>\n",
              "  <tbody>\n",
              "    <tr>\n",
              "      <th>0</th>\n",
              "      <td>Switzerland</td>\n",
              "      <td>Western Europe</td>\n",
              "      <td>1</td>\n",
              "      <td>7.587</td>\n",
              "      <td>0.03411</td>\n",
              "      <td>1.39651</td>\n",
              "      <td>1.34951</td>\n",
              "      <td>0.94143</td>\n",
              "      <td>0.66557</td>\n",
              "      <td>0.41978</td>\n",
              "      <td>0.29678</td>\n",
              "      <td>2.51738</td>\n",
              "    </tr>\n",
              "    <tr>\n",
              "      <th>1</th>\n",
              "      <td>Iceland</td>\n",
              "      <td>Western Europe</td>\n",
              "      <td>2</td>\n",
              "      <td>7.561</td>\n",
              "      <td>0.04884</td>\n",
              "      <td>1.30232</td>\n",
              "      <td>1.40223</td>\n",
              "      <td>0.94784</td>\n",
              "      <td>0.62877</td>\n",
              "      <td>0.14145</td>\n",
              "      <td>0.43630</td>\n",
              "      <td>2.70201</td>\n",
              "    </tr>\n",
              "    <tr>\n",
              "      <th>2</th>\n",
              "      <td>Denmark</td>\n",
              "      <td>Western Europe</td>\n",
              "      <td>3</td>\n",
              "      <td>7.527</td>\n",
              "      <td>0.03328</td>\n",
              "      <td>1.32548</td>\n",
              "      <td>1.36058</td>\n",
              "      <td>0.87464</td>\n",
              "      <td>0.64938</td>\n",
              "      <td>0.48357</td>\n",
              "      <td>0.34139</td>\n",
              "      <td>2.49204</td>\n",
              "    </tr>\n",
              "    <tr>\n",
              "      <th>3</th>\n",
              "      <td>Norway</td>\n",
              "      <td>Western Europe</td>\n",
              "      <td>4</td>\n",
              "      <td>7.522</td>\n",
              "      <td>0.03880</td>\n",
              "      <td>1.45900</td>\n",
              "      <td>1.33095</td>\n",
              "      <td>0.88521</td>\n",
              "      <td>0.66973</td>\n",
              "      <td>0.36503</td>\n",
              "      <td>0.34699</td>\n",
              "      <td>2.46531</td>\n",
              "    </tr>\n",
              "    <tr>\n",
              "      <th>4</th>\n",
              "      <td>Canada</td>\n",
              "      <td>North America</td>\n",
              "      <td>5</td>\n",
              "      <td>7.427</td>\n",
              "      <td>0.03553</td>\n",
              "      <td>1.32629</td>\n",
              "      <td>1.32261</td>\n",
              "      <td>0.90563</td>\n",
              "      <td>0.63297</td>\n",
              "      <td>0.32957</td>\n",
              "      <td>0.45811</td>\n",
              "      <td>2.45176</td>\n",
              "    </tr>\n",
              "  </tbody>\n",
              "</table>\n",
              "</div>"
            ],
            "text/plain": [
              "       Country          Region  ...  Generosity  Dystopia Residual\n",
              "0  Switzerland  Western Europe  ...     0.29678            2.51738\n",
              "1      Iceland  Western Europe  ...     0.43630            2.70201\n",
              "2      Denmark  Western Europe  ...     0.34139            2.49204\n",
              "3       Norway  Western Europe  ...     0.34699            2.46531\n",
              "4       Canada   North America  ...     0.45811            2.45176\n",
              "\n",
              "[5 rows x 12 columns]"
            ]
          },
          "metadata": {
            "tags": []
          },
          "execution_count": 5
        }
      ]
    },
    {
      "cell_type": "markdown",
      "metadata": {
        "id": "xLg5hqUC6mTy"
      },
      "source": [
        "Descriptions for some of the columns we'll be working with:\n",
        "\n",
        "* Country - Name of the country.\n",
        "* Region - Name of the region the country belongs to.\n",
        "* Happiness Rank - The rank of the country, as determined by its happiness score.\n",
        "* Happiness Score - A score assigned to each country based on the answers to a poll question that asks respondents to rate their happiness on a scale of 0-10.\n",
        "* Family - The estimated extent to which family contributes to the happiness score.\n",
        "* Freedom - The estimated extent to which freedom contributes to the happiness score.\n",
        "* Generosity - The estimated extent to which generosity contributes to the happiness score."
      ]
    },
    {
      "cell_type": "markdown",
      "metadata": {
        "id": "eN1pPIdXPhjb"
      },
      "source": [
        "## Use Loops to Aggregate Data"
      ]
    },
    {
      "cell_type": "code",
      "metadata": {
        "colab": {
          "base_uri": "https://localhost:8080/",
          "height": 290
        },
        "id": "c0L1vdmh9iQr",
        "outputId": "c06978b8-0ecd-49ea-f5c4-fd3db48d7c25"
      },
      "source": [
        "import matplotlib.pyplot as plt\n",
        "import seaborn as sns\n",
        "\n",
        "happiness2015['Happiness Score'].plot(kind='bar', title='Hapiness Scores', ylim=(0,10))\n",
        "plt.show()"
      ],
      "execution_count": null,
      "outputs": [
        {
          "output_type": "display_data",
          "data": {
            "image/png": "[encoded data removed]",
            "text/plain": [
              "<Figure size 432x288 with 1 Axes>"
            ]
          },
          "metadata": {
            "tags": [],
            "needs_background": "light"
          }
        }
      ]
    },
    {
      "cell_type": "markdown",
      "metadata": {
        "id": "XdSimP_G_LPI"
      },
      "source": [
        "Plotting the data in its current form isn't helpful at all! There are so many data points that we can't see any of the values or labels.\n",
        "You may have noticed that each country in the **happiness2015** dataframe is assigned to a region, specified in the **Region** column. We can use the Series.unique() method to confirm the unique regions:"
      ]
    },
    {
      "cell_type": "code",
      "metadata": {
        "colab": {
          "base_uri": "https://localhost:8080/"
        },
        "id": "b9emVYQd-e0U",
        "outputId": "81eaea87-608a-4e1b-99c4-75072c01bae0"
      },
      "source": [
        "happiness2015['Region'].unique()"
      ],
      "execution_count": null,
      "outputs": [
        {
          "output_type": "execute_result",
          "data": {
            "text/plain": [
              "array(['Western Europe', 'North America', 'Australia and New Zealand',\n",
              "       'Middle East and Northern Africa', 'Latin America and Caribbean',\n",
              "       'Southeastern Asia', 'Central and Eastern Europe', 'Eastern Asia',\n",
              "       'Sub-Saharan Africa', 'Southern Asia'], dtype=object)"
            ]
          },
          "metadata": {
            "tags": []
          },
          "execution_count": 7
        }
      ]
    },
    {
      "cell_type": "code",
      "metadata": {
        "colab": {
          "base_uri": "https://localhost:8080/",
          "height": 298
        },
        "id": "YsFbiwsT_cJT",
        "outputId": "c65e1788-04a1-4099-c6cb-10f81beec52c"
      },
      "source": [
        "so_asia = happiness2015[happiness2015['Region'] == 'Southern Asia']\n",
        "so_asia.plot(x='Country', y='Happiness Score', kind='barh', title='Southern Asia Happiness Scores', xlim=(0,10))"
      ],
      "execution_count": null,
      "outputs": [
        {
          "output_type": "execute_result",
          "data": {
            "text/plain": [
              "<matplotlib.axes._subplots.AxesSubplot at 0x7f19924afbd0>"
            ]
          },
          "metadata": {
            "tags": []
          },
          "execution_count": 8
        },
        {
          "output_type": "display_data",
          "data": {
            "image/png": "[encoded data removed]",
            "text/plain": [
              "<Figure size 432x288 with 1 Axes>"
            ]
          },
          "metadata": {
            "tags": [],
            "needs_background": "light"
          }
        }
      ]
    },
    {
      "cell_type": "markdown",
      "metadata": {
        "id": "fO40AaiZDAzv"
      },
      "source": [
        "It's much easier to read this visualization - we can clearly see the labels and values. However, we wouldn't know if the Southern Asia region is representative of the entire world unless we look at the other regions. What we really want is to create a visualization that uses one number, a summary statistic like the mean, to summarize the data for each region."
      ]
    },
    {
      "cell_type": "code",
      "metadata": {
        "colab": {
          "base_uri": "https://localhost:8080/"
        },
        "id": "fu0MjCNUAV70",
        "outputId": "22a8d52c-f883-41f5-aef8-180b3e95523d"
      },
      "source": [
        "mean_happiness = {}\n",
        "regions= happiness2015['Region'].unique()\n",
        "for reg in regions:\n",
        "    #1. Split the dataframe into groups.\n",
        "    region_group = happiness2015[happiness2015['Region'] == reg]\n",
        "    #2. Apply a function to each group\n",
        "    region_mean = region_group['Happiness Score'].mean()\n",
        "    #3. Combine the results into one data structure\n",
        "    mean_happiness[reg] = region_mean\n",
        "\n",
        "mean_happiness"
      ],
      "execution_count": null,
      "outputs": [
        {
          "output_type": "execute_result",
          "data": {
            "text/plain": [
              "{'Australia and New Zealand': 7.285,\n",
              " 'Central and Eastern Europe': 5.332931034482758,\n",
              " 'Eastern Asia': 5.626166666666666,\n",
              " 'Latin America and Caribbean': 6.144681818181818,\n",
              " 'Middle East and Northern Africa': 5.406899999999999,\n",
              " 'North America': 7.273,\n",
              " 'Southeastern Asia': 5.317444444444445,\n",
              " 'Southern Asia': 4.580857142857143,\n",
              " 'Sub-Saharan Africa': 4.202800000000001,\n",
              " 'Western Europe': 6.689619047619048}"
            ]
          },
          "metadata": {
            "tags": []
          },
          "execution_count": 9
        }
      ]
    },
    {
      "cell_type": "markdown",
      "metadata": {
        "id": "m5aGSfmpPtT8"
      },
      "source": [
        "## Combine Aggregation Methods with GroupBy\n",
        "\n",
        "\n"
      ]
    },
    {
      "cell_type": "code",
      "metadata": {
        "colab": {
          "base_uri": "https://localhost:8080/"
        },
        "id": "DP4xTSLtFUc3",
        "outputId": "594f6c3d-bddc-411a-dfc3-5f57b819fd04"
      },
      "source": [
        "happiness2015.groupby('Region').mean()['Happiness Score']"
      ],
      "execution_count": null,
      "outputs": [
        {
          "output_type": "execute_result",
          "data": {
            "text/plain": [
              "Region\n",
              "Australia and New Zealand          7.285000\n",
              "Central and Eastern Europe         5.332931\n",
              "Eastern Asia                       5.626167\n",
              "Latin America and Caribbean        6.144682\n",
              "Middle East and Northern Africa    5.406900\n",
              "North America                      7.273000\n",
              "Southeastern Asia                  5.317444\n",
              "Southern Asia                      4.580857\n",
              "Sub-Saharan Africa                 4.202800\n",
              "Western Europe                     6.689619\n",
              "Name: Happiness Score, dtype: float64"
            ]
          },
          "metadata": {
            "tags": []
          },
          "execution_count": 10
        }
      ]
    },
    {
      "cell_type": "code",
      "metadata": {
        "colab": {
          "base_uri": "https://localhost:8080/",
          "height": 157
        },
        "id": "WmC3eB9ULIMi",
        "outputId": "b0bd0ea4-2d93-4630-f8a7-516ea9ce2b0a"
      },
      "source": [
        "# Use get_group() to select data for a certain group.\n",
        "aus_nz = happiness2015.groupby('Region').get_group('Australia and New Zealand') \n",
        "aus_nz"
      ],
      "execution_count": null,
      "outputs": [
        {
          "output_type": "execute_result",
          "data": {
            "text/html": [
              "<div>\n",
              "<style scoped>\n",
              "    .dataframe tbody tr th:only-of-type {\n",
              "        vertical-align: middle;\n",
              "    }\n",
              "\n",
              "    .dataframe tbody tr th {\n",
              "        vertical-align: top;\n",
              "    }\n",
              "\n",
              "    .dataframe thead th {\n",
              "        text-align: right;\n",
              "    }\n",
              "</style>\n",
              "<table border=\"1\" class=\"dataframe\">\n",
              "  <thead>\n",
              "    <tr style=\"text-align: right;\">\n",
              "      <th></th>\n",
              "      <th>Country</th>\n",
              "      <th>Region</th>\n",
              "      <th>Happiness Rank</th>\n",
              "      <th>Happiness Score</th>\n",
              "      <th>Standard Error</th>\n",
              "      <th>Economy (GDP per Capita)</th>\n",
              "      <th>Family</th>\n",
              "      <th>Health (Life Expectancy)</th>\n",
              "      <th>Freedom</th>\n",
              "      <th>Trust (Government Corruption)</th>\n",
              "      <th>Generosity</th>\n",
              "      <th>Dystopia Residual</th>\n",
              "    </tr>\n",
              "  </thead>\n",
              "  <tbody>\n",
              "    <tr>\n",
              "      <th>8</th>\n",
              "      <td>New Zealand</td>\n",
              "      <td>Australia and New Zealand</td>\n",
              "      <td>9</td>\n",
              "      <td>7.286</td>\n",
              "      <td>0.03371</td>\n",
              "      <td>1.25018</td>\n",
              "      <td>1.31967</td>\n",
              "      <td>0.90837</td>\n",
              "      <td>0.63938</td>\n",
              "      <td>0.42922</td>\n",
              "      <td>0.47501</td>\n",
              "      <td>2.26425</td>\n",
              "    </tr>\n",
              "    <tr>\n",
              "      <th>9</th>\n",
              "      <td>Australia</td>\n",
              "      <td>Australia and New Zealand</td>\n",
              "      <td>10</td>\n",
              "      <td>7.284</td>\n",
              "      <td>0.04083</td>\n",
              "      <td>1.33358</td>\n",
              "      <td>1.30923</td>\n",
              "      <td>0.93156</td>\n",
              "      <td>0.65124</td>\n",
              "      <td>0.35637</td>\n",
              "      <td>0.43562</td>\n",
              "      <td>2.26646</td>\n",
              "    </tr>\n",
              "  </tbody>\n",
              "</table>\n",
              "</div>"
            ],
            "text/plain": [
              "       Country                     Region  ...  Generosity  Dystopia Residual\n",
              "8  New Zealand  Australia and New Zealand  ...     0.47501            2.26425\n",
              "9    Australia  Australia and New Zealand  ...     0.43562            2.26646\n",
              "\n",
              "[2 rows x 12 columns]"
            ]
          },
          "metadata": {
            "tags": []
          },
          "execution_count": 11
        }
      ]
    },
    {
      "cell_type": "code",
      "metadata": {
        "colab": {
          "base_uri": "https://localhost:8080/"
        },
        "id": "36bHvNaeLRDd",
        "outputId": "cfa5a87f-db9f-4a3d-e5cb-4c939721e28c"
      },
      "source": [
        "grouped = happiness2015.groupby('Region')\n",
        "grouped.groups # Get index of rows"
      ],
      "execution_count": null,
      "outputs": [
        {
          "output_type": "execute_result",
          "data": {
            "text/plain": [
              "{'Australia and New Zealand': [8, 9], 'Central and Eastern Europe': [30, 43, 44, 51, 53, 54, 55, 58, 59, 61, 63, 68, 69, 72, 76, 79, 82, 85, 86, 88, 92, 94, 95, 103, 105, 110, 126, 129, 133], 'Eastern Asia': [37, 45, 46, 71, 83, 99], 'Latin America and Caribbean': [11, 13, 15, 22, 24, 26, 29, 31, 32, 39, 40, 41, 42, 47, 50, 52, 56, 57, 64, 97, 104, 118], 'Middle East and Northern Africa': [10, 19, 21, 27, 34, 38, 48, 62, 67, 75, 81, 91, 102, 106, 107, 109, 111, 134, 135, 155], 'North America': [4, 14], 'Southeastern Asia': [23, 33, 60, 73, 74, 89, 98, 128, 144], 'Southern Asia': [78, 80, 108, 116, 120, 131, 152], 'Sub-Saharan Africa': [70, 77, 84, 90, 93, 96, 100, 112, 113, 114, 115, 117, 119, 121, 122, 123, 124, 125, 127, 130, 132, 136, 137, 138, 139, 140, 141, 142, 143, 145, 146, 147, 148, 149, 150, 151, 153, 154, 156, 157], 'Western Europe': [0, 1, 2, 3, 5, 6, 7, 12, 16, 17, 18, 20, 25, 28, 35, 36, 49, 65, 66, 87, 101]}"
            ]
          },
          "metadata": {
            "tags": []
          },
          "execution_count": 12
        }
      ]
    },
    {
      "cell_type": "code",
      "metadata": {
        "colab": {
          "base_uri": "https://localhost:8080/",
          "height": 123
        },
        "id": "Mhx6x9qzORyF",
        "outputId": "7b0eca31-d039-46d1-e5c2-87a4da194154"
      },
      "source": [
        "north_america = grouped.get_group('North America')\n",
        "na_group = happiness2015.iloc[[4,14]]\n",
        "na_group == north_america"
      ],
      "execution_count": null,
      "outputs": [
        {
          "output_type": "execute_result",
          "data": {
            "text/html": [
              "<div>\n",
              "<style scoped>\n",
              "    .dataframe tbody tr th:only-of-type {\n",
              "        vertical-align: middle;\n",
              "    }\n",
              "\n",
              "    .dataframe tbody tr th {\n",
              "        vertical-align: top;\n",
              "    }\n",
              "\n",
              "    .dataframe thead th {\n",
              "        text-align: right;\n",
              "    }\n",
              "</style>\n",
              "<table border=\"1\" class=\"dataframe\">\n",
              "  <thead>\n",
              "    <tr style=\"text-align: right;\">\n",
              "      <th></th>\n",
              "      <th>Country</th>\n",
              "      <th>Region</th>\n",
              "      <th>Happiness Rank</th>\n",
              "      <th>Happiness Score</th>\n",
              "      <th>Standard Error</th>\n",
              "      <th>Economy (GDP per Capita)</th>\n",
              "      <th>Family</th>\n",
              "      <th>Health (Life Expectancy)</th>\n",
              "      <th>Freedom</th>\n",
              "      <th>Trust (Government Corruption)</th>\n",
              "      <th>Generosity</th>\n",
              "      <th>Dystopia Residual</th>\n",
              "    </tr>\n",
              "  </thead>\n",
              "  <tbody>\n",
              "    <tr>\n",
              "      <th>4</th>\n",
              "      <td>True</td>\n",
              "      <td>True</td>\n",
              "      <td>True</td>\n",
              "      <td>True</td>\n",
              "      <td>True</td>\n",
              "      <td>True</td>\n",
              "      <td>True</td>\n",
              "      <td>True</td>\n",
              "      <td>True</td>\n",
              "      <td>True</td>\n",
              "      <td>True</td>\n",
              "      <td>True</td>\n",
              "    </tr>\n",
              "    <tr>\n",
              "      <th>14</th>\n",
              "      <td>True</td>\n",
              "      <td>True</td>\n",
              "      <td>True</td>\n",
              "      <td>True</td>\n",
              "      <td>True</td>\n",
              "      <td>True</td>\n",
              "      <td>True</td>\n",
              "      <td>True</td>\n",
              "      <td>True</td>\n",
              "      <td>True</td>\n",
              "      <td>True</td>\n",
              "      <td>True</td>\n",
              "    </tr>\n",
              "  </tbody>\n",
              "</table>\n",
              "</div>"
            ],
            "text/plain": [
              "    Country  Region  ...  Generosity  Dystopia Residual\n",
              "4      True    True  ...        True               True\n",
              "14     True    True  ...        True               True\n",
              "\n",
              "[2 rows x 12 columns]"
            ]
          },
          "metadata": {
            "tags": []
          },
          "execution_count": 13
        }
      ]
    },
    {
      "cell_type": "code",
      "metadata": {
        "colab": {
          "base_uri": "https://localhost:8080/"
        },
        "id": "seFzXsI6OAuB",
        "outputId": "7f2cf45d-a769-447b-f4aa-34027423e73d"
      },
      "source": [
        "# GroupBy.size() method to confirm the size of each region group\n",
        "grouped.size()"
      ],
      "execution_count": null,
      "outputs": [
        {
          "output_type": "execute_result",
          "data": {
            "text/plain": [
              "Region\n",
              "Australia and New Zealand           2\n",
              "Central and Eastern Europe         29\n",
              "Eastern Asia                        6\n",
              "Latin America and Caribbean        22\n",
              "Middle East and Northern Africa    20\n",
              "North America                       2\n",
              "Southeastern Asia                   9\n",
              "Southern Asia                       7\n",
              "Sub-Saharan Africa                 40\n",
              "Western Europe                     21\n",
              "dtype: int64"
            ]
          },
          "metadata": {
            "tags": []
          },
          "execution_count": 14
        }
      ]
    },
    {
      "cell_type": "markdown",
      "metadata": {
        "id": "2FBC1XpjQhpk"
      },
      "source": [
        "## Agg() Medthod"
      ]
    },
    {
      "cell_type": "code",
      "metadata": {
        "colab": {
          "base_uri": "https://localhost:8080/",
          "height": 624
        },
        "id": "zSd8kx5JTJ98",
        "outputId": "90937588-8e7e-40ed-9338-8727c1091032"
      },
      "source": [
        "# GroupBy.agg() method can perform both aggregations at once\n",
        "import numpy as np\n",
        "grouped.agg([np.max, np.min, np.sum, np.mean])"
      ],
      "execution_count": null,
      "outputs": [
        {
          "output_type": "execute_result",
          "data": {
            "text/html": [
              "<div>\n",
              "<style scoped>\n",
              "    .dataframe tbody tr th:only-of-type {\n",
              "        vertical-align: middle;\n",
              "    }\n",
              "\n",
              "    .dataframe tbody tr th {\n",
              "        vertical-align: top;\n",
              "    }\n",
              "\n",
              "    .dataframe thead tr th {\n",
              "        text-align: left;\n",
              "    }\n",
              "\n",
              "    .dataframe thead tr:last-of-type th {\n",
              "        text-align: right;\n",
              "    }\n",
              "</style>\n",
              "<table border=\"1\" class=\"dataframe\">\n",
              "  <thead>\n",
              "    <tr>\n",
              "      <th></th>\n",
              "      <th colspan=\"4\" halign=\"left\">Happiness Rank</th>\n",
              "      <th colspan=\"4\" halign=\"left\">Happiness Score</th>\n",
              "      <th colspan=\"4\" halign=\"left\">Standard Error</th>\n",
              "      <th colspan=\"4\" halign=\"left\">Economy (GDP per Capita)</th>\n",
              "      <th colspan=\"4\" halign=\"left\">Family</th>\n",
              "      <th colspan=\"4\" halign=\"left\">Health (Life Expectancy)</th>\n",
              "      <th colspan=\"4\" halign=\"left\">Freedom</th>\n",
              "      <th colspan=\"4\" halign=\"left\">Trust (Government Corruption)</th>\n",
              "      <th colspan=\"4\" halign=\"left\">Generosity</th>\n",
              "      <th colspan=\"4\" halign=\"left\">Dystopia Residual</th>\n",
              "    </tr>\n",
              "    <tr>\n",
              "      <th></th>\n",
              "      <th>amax</th>\n",
              "      <th>amin</th>\n",
              "      <th>sum</th>\n",
              "      <th>mean</th>\n",
              "      <th>amax</th>\n",
              "      <th>amin</th>\n",
              "      <th>sum</th>\n",
              "      <th>mean</th>\n",
              "      <th>amax</th>\n",
              "      <th>amin</th>\n",
              "      <th>sum</th>\n",
              "      <th>mean</th>\n",
              "      <th>amax</th>\n",
              "      <th>amin</th>\n",
              "      <th>sum</th>\n",
              "      <th>mean</th>\n",
              "      <th>amax</th>\n",
              "      <th>amin</th>\n",
              "      <th>sum</th>\n",
              "      <th>mean</th>\n",
              "      <th>amax</th>\n",
              "      <th>amin</th>\n",
              "      <th>sum</th>\n",
              "      <th>mean</th>\n",
              "      <th>amax</th>\n",
              "      <th>amin</th>\n",
              "      <th>sum</th>\n",
              "      <th>mean</th>\n",
              "      <th>amax</th>\n",
              "      <th>amin</th>\n",
              "      <th>sum</th>\n",
              "      <th>mean</th>\n",
              "      <th>amax</th>\n",
              "      <th>amin</th>\n",
              "      <th>sum</th>\n",
              "      <th>mean</th>\n",
              "      <th>amax</th>\n",
              "      <th>amin</th>\n",
              "      <th>sum</th>\n",
              "      <th>mean</th>\n",
              "    </tr>\n",
              "    <tr>\n",
              "      <th>Region</th>\n",
              "      <th></th>\n",
              "      <th></th>\n",
              "      <th></th>\n",
              "      <th></th>\n",
              "      <th></th>\n",
              "      <th></th>\n",
              "      <th></th>\n",
              "      <th></th>\n",
              "      <th></th>\n",
              "      <th></th>\n",
              "      <th></th>\n",
              "      <th></th>\n",
              "      <th></th>\n",
              "      <th></th>\n",
              "      <th></th>\n",
              "      <th></th>\n",
              "      <th></th>\n",
              "      <th></th>\n",
              "      <th></th>\n",
              "      <th></th>\n",
              "      <th></th>\n",
              "      <th></th>\n",
              "      <th></th>\n",
              "      <th></th>\n",
              "      <th></th>\n",
              "      <th></th>\n",
              "      <th></th>\n",
              "      <th></th>\n",
              "      <th></th>\n",
              "      <th></th>\n",
              "      <th></th>\n",
              "      <th></th>\n",
              "      <th></th>\n",
              "      <th></th>\n",
              "      <th></th>\n",
              "      <th></th>\n",
              "      <th></th>\n",
              "      <th></th>\n",
              "      <th></th>\n",
              "      <th></th>\n",
              "    </tr>\n",
              "  </thead>\n",
              "  <tbody>\n",
              "    <tr>\n",
              "      <th>Australia and New Zealand</th>\n",
              "      <td>10</td>\n",
              "      <td>9</td>\n",
              "      <td>19</td>\n",
              "      <td>9.500000</td>\n",
              "      <td>7.286</td>\n",
              "      <td>7.284</td>\n",
              "      <td>14.570</td>\n",
              "      <td>7.285000</td>\n",
              "      <td>0.04083</td>\n",
              "      <td>0.03371</td>\n",
              "      <td>0.07454</td>\n",
              "      <td>0.037270</td>\n",
              "      <td>1.33358</td>\n",
              "      <td>1.25018</td>\n",
              "      <td>2.58376</td>\n",
              "      <td>1.291880</td>\n",
              "      <td>1.31967</td>\n",
              "      <td>1.30923</td>\n",
              "      <td>2.62890</td>\n",
              "      <td>1.314450</td>\n",
              "      <td>0.93156</td>\n",
              "      <td>0.90837</td>\n",
              "      <td>1.83993</td>\n",
              "      <td>0.919965</td>\n",
              "      <td>0.65124</td>\n",
              "      <td>0.63938</td>\n",
              "      <td>1.29062</td>\n",
              "      <td>0.645310</td>\n",
              "      <td>0.42922</td>\n",
              "      <td>0.35637</td>\n",
              "      <td>0.78559</td>\n",
              "      <td>0.392795</td>\n",
              "      <td>0.47501</td>\n",
              "      <td>0.43562</td>\n",
              "      <td>0.91063</td>\n",
              "      <td>0.455315</td>\n",
              "      <td>2.26646</td>\n",
              "      <td>2.26425</td>\n",
              "      <td>4.53071</td>\n",
              "      <td>2.265355</td>\n",
              "    </tr>\n",
              "    <tr>\n",
              "      <th>Central and Eastern Europe</th>\n",
              "      <td>134</td>\n",
              "      <td>31</td>\n",
              "      <td>2291</td>\n",
              "      <td>79.000000</td>\n",
              "      <td>6.505</td>\n",
              "      <td>4.218</td>\n",
              "      <td>154.655</td>\n",
              "      <td>5.332931</td>\n",
              "      <td>0.06913</td>\n",
              "      <td>0.03135</td>\n",
              "      <td>1.31102</td>\n",
              "      <td>0.045208</td>\n",
              "      <td>1.18498</td>\n",
              "      <td>0.39047</td>\n",
              "      <td>27.33071</td>\n",
              "      <td>0.942438</td>\n",
              "      <td>1.34043</td>\n",
              "      <td>0.38562</td>\n",
              "      <td>30.53823</td>\n",
              "      <td>1.053042</td>\n",
              "      <td>0.87337</td>\n",
              "      <td>0.53886</td>\n",
              "      <td>20.84444</td>\n",
              "      <td>0.718774</td>\n",
              "      <td>0.65821</td>\n",
              "      <td>0.09245</td>\n",
              "      <td>10.38979</td>\n",
              "      <td>0.358269</td>\n",
              "      <td>0.38331</td>\n",
              "      <td>0.00227</td>\n",
              "      <td>2.51354</td>\n",
              "      <td>0.086674</td>\n",
              "      <td>0.30030</td>\n",
              "      <td>0.00199</td>\n",
              "      <td>4.41565</td>\n",
              "      <td>0.152264</td>\n",
              "      <td>3.10712</td>\n",
              "      <td>0.89991</td>\n",
              "      <td>58.62059</td>\n",
              "      <td>2.021400</td>\n",
              "    </tr>\n",
              "    <tr>\n",
              "      <th>Eastern Asia</th>\n",
              "      <td>100</td>\n",
              "      <td>38</td>\n",
              "      <td>387</td>\n",
              "      <td>64.500000</td>\n",
              "      <td>6.298</td>\n",
              "      <td>4.874</td>\n",
              "      <td>33.757</td>\n",
              "      <td>5.626167</td>\n",
              "      <td>0.05051</td>\n",
              "      <td>0.02424</td>\n",
              "      <td>0.22335</td>\n",
              "      <td>0.037225</td>\n",
              "      <td>1.38604</td>\n",
              "      <td>0.82819</td>\n",
              "      <td>6.91068</td>\n",
              "      <td>1.151780</td>\n",
              "      <td>1.30060</td>\n",
              "      <td>0.94675</td>\n",
              "      <td>6.59656</td>\n",
              "      <td>1.099427</td>\n",
              "      <td>1.01328</td>\n",
              "      <td>0.60268</td>\n",
              "      <td>5.26433</td>\n",
              "      <td>0.877388</td>\n",
              "      <td>0.59608</td>\n",
              "      <td>0.33208</td>\n",
              "      <td>2.77494</td>\n",
              "      <td>0.462490</td>\n",
              "      <td>0.37124</td>\n",
              "      <td>0.02666</td>\n",
              "      <td>0.76617</td>\n",
              "      <td>0.127695</td>\n",
              "      <td>0.39478</td>\n",
              "      <td>0.08185</td>\n",
              "      <td>1.35531</td>\n",
              "      <td>0.225885</td>\n",
              "      <td>2.32323</td>\n",
              "      <td>0.65429</td>\n",
              "      <td>10.08964</td>\n",
              "      <td>1.681607</td>\n",
              "    </tr>\n",
              "    <tr>\n",
              "      <th>Latin America and Caribbean</th>\n",
              "      <td>119</td>\n",
              "      <td>12</td>\n",
              "      <td>1032</td>\n",
              "      <td>46.909091</td>\n",
              "      <td>7.226</td>\n",
              "      <td>4.518</td>\n",
              "      <td>135.183</td>\n",
              "      <td>6.144682</td>\n",
              "      <td>0.13693</td>\n",
              "      <td>0.04076</td>\n",
              "      <td>1.34479</td>\n",
              "      <td>0.061127</td>\n",
              "      <td>1.21183</td>\n",
              "      <td>0.26673</td>\n",
              "      <td>19.28994</td>\n",
              "      <td>0.876815</td>\n",
              "      <td>1.30477</td>\n",
              "      <td>0.74302</td>\n",
              "      <td>24.30385</td>\n",
              "      <td>1.104720</td>\n",
              "      <td>0.86027</td>\n",
              "      <td>0.38847</td>\n",
              "      <td>15.48515</td>\n",
              "      <td>0.703870</td>\n",
              "      <td>0.63376</td>\n",
              "      <td>0.24425</td>\n",
              "      <td>11.03827</td>\n",
              "      <td>0.501740</td>\n",
              "      <td>0.24558</td>\n",
              "      <td>0.01140</td>\n",
              "      <td>2.57778</td>\n",
              "      <td>0.117172</td>\n",
              "      <td>0.46187</td>\n",
              "      <td>0.05841</td>\n",
              "      <td>4.79133</td>\n",
              "      <td>0.217788</td>\n",
              "      <td>3.60214</td>\n",
              "      <td>1.21305</td>\n",
              "      <td>57.69670</td>\n",
              "      <td>2.622577</td>\n",
              "    </tr>\n",
              "    <tr>\n",
              "      <th>Middle East and Northern Africa</th>\n",
              "      <td>156</td>\n",
              "      <td>11</td>\n",
              "      <td>1552</td>\n",
              "      <td>77.600000</td>\n",
              "      <td>7.278</td>\n",
              "      <td>3.006</td>\n",
              "      <td>108.138</td>\n",
              "      <td>5.406900</td>\n",
              "      <td>0.07832</td>\n",
              "      <td>0.03260</td>\n",
              "      <td>0.92674</td>\n",
              "      <td>0.046337</td>\n",
              "      <td>1.69042</td>\n",
              "      <td>0.54649</td>\n",
              "      <td>21.33947</td>\n",
              "      <td>1.066973</td>\n",
              "      <td>1.22393</td>\n",
              "      <td>0.47489</td>\n",
              "      <td>18.40980</td>\n",
              "      <td>0.920490</td>\n",
              "      <td>0.91387</td>\n",
              "      <td>0.40064</td>\n",
              "      <td>14.11231</td>\n",
              "      <td>0.705616</td>\n",
              "      <td>0.64157</td>\n",
              "      <td>0.00000</td>\n",
              "      <td>7.23502</td>\n",
              "      <td>0.361751</td>\n",
              "      <td>0.52208</td>\n",
              "      <td>0.04582</td>\n",
              "      <td>3.63404</td>\n",
              "      <td>0.181702</td>\n",
              "      <td>0.47179</td>\n",
              "      <td>0.06431</td>\n",
              "      <td>3.80751</td>\n",
              "      <td>0.190375</td>\n",
              "      <td>3.08854</td>\n",
              "      <td>0.32858</td>\n",
              "      <td>39.60017</td>\n",
              "      <td>1.980009</td>\n",
              "    </tr>\n",
              "    <tr>\n",
              "      <th>North America</th>\n",
              "      <td>15</td>\n",
              "      <td>5</td>\n",
              "      <td>20</td>\n",
              "      <td>10.000000</td>\n",
              "      <td>7.427</td>\n",
              "      <td>7.119</td>\n",
              "      <td>14.546</td>\n",
              "      <td>7.273000</td>\n",
              "      <td>0.03839</td>\n",
              "      <td>0.03553</td>\n",
              "      <td>0.07392</td>\n",
              "      <td>0.036960</td>\n",
              "      <td>1.39451</td>\n",
              "      <td>1.32629</td>\n",
              "      <td>2.72080</td>\n",
              "      <td>1.360400</td>\n",
              "      <td>1.32261</td>\n",
              "      <td>1.24711</td>\n",
              "      <td>2.56972</td>\n",
              "      <td>1.284860</td>\n",
              "      <td>0.90563</td>\n",
              "      <td>0.86179</td>\n",
              "      <td>1.76742</td>\n",
              "      <td>0.883710</td>\n",
              "      <td>0.63297</td>\n",
              "      <td>0.54604</td>\n",
              "      <td>1.17901</td>\n",
              "      <td>0.589505</td>\n",
              "      <td>0.32957</td>\n",
              "      <td>0.15890</td>\n",
              "      <td>0.48847</td>\n",
              "      <td>0.244235</td>\n",
              "      <td>0.45811</td>\n",
              "      <td>0.40105</td>\n",
              "      <td>0.85916</td>\n",
              "      <td>0.429580</td>\n",
              "      <td>2.51011</td>\n",
              "      <td>2.45176</td>\n",
              "      <td>4.96187</td>\n",
              "      <td>2.480935</td>\n",
              "    </tr>\n",
              "    <tr>\n",
              "      <th>Southeastern Asia</th>\n",
              "      <td>145</td>\n",
              "      <td>24</td>\n",
              "      <td>731</td>\n",
              "      <td>81.222222</td>\n",
              "      <td>6.798</td>\n",
              "      <td>3.819</td>\n",
              "      <td>47.857</td>\n",
              "      <td>5.317444</td>\n",
              "      <td>0.06698</td>\n",
              "      <td>0.02596</td>\n",
              "      <td>0.38422</td>\n",
              "      <td>0.042691</td>\n",
              "      <td>1.52186</td>\n",
              "      <td>0.27108</td>\n",
              "      <td>7.10149</td>\n",
              "      <td>0.789054</td>\n",
              "      <td>1.26504</td>\n",
              "      <td>0.62736</td>\n",
              "      <td>8.46421</td>\n",
              "      <td>0.940468</td>\n",
              "      <td>1.02525</td>\n",
              "      <td>0.48246</td>\n",
              "      <td>6.09621</td>\n",
              "      <td>0.677357</td>\n",
              "      <td>0.66246</td>\n",
              "      <td>0.44017</td>\n",
              "      <td>5.01394</td>\n",
              "      <td>0.557104</td>\n",
              "      <td>0.49210</td>\n",
              "      <td>0.00000</td>\n",
              "      <td>1.36148</td>\n",
              "      <td>0.151276</td>\n",
              "      <td>0.79588</td>\n",
              "      <td>0.16860</td>\n",
              "      <td>3.77335</td>\n",
              "      <td>0.419261</td>\n",
              "      <td>2.31945</td>\n",
              "      <td>0.98195</td>\n",
              "      <td>16.04718</td>\n",
              "      <td>1.783020</td>\n",
              "    </tr>\n",
              "    <tr>\n",
              "      <th>Southern Asia</th>\n",
              "      <td>153</td>\n",
              "      <td>79</td>\n",
              "      <td>792</td>\n",
              "      <td>113.142857</td>\n",
              "      <td>5.253</td>\n",
              "      <td>3.575</td>\n",
              "      <td>32.066</td>\n",
              "      <td>4.580857</td>\n",
              "      <td>0.03751</td>\n",
              "      <td>0.02043</td>\n",
              "      <td>0.22513</td>\n",
              "      <td>0.032161</td>\n",
              "      <td>0.83524</td>\n",
              "      <td>0.31982</td>\n",
              "      <td>3.92340</td>\n",
              "      <td>0.560486</td>\n",
              "      <td>1.10395</td>\n",
              "      <td>0.30285</td>\n",
              "      <td>4.51725</td>\n",
              "      <td>0.645321</td>\n",
              "      <td>0.70806</td>\n",
              "      <td>0.30335</td>\n",
              "      <td>3.78581</td>\n",
              "      <td>0.540830</td>\n",
              "      <td>0.53726</td>\n",
              "      <td>0.12102</td>\n",
              "      <td>2.61336</td>\n",
              "      <td>0.373337</td>\n",
              "      <td>0.15445</td>\n",
              "      <td>0.05907</td>\n",
              "      <td>0.71775</td>\n",
              "      <td>0.102536</td>\n",
              "      <td>0.47998</td>\n",
              "      <td>0.21222</td>\n",
              "      <td>2.39000</td>\n",
              "      <td>0.341429</td>\n",
              "      <td>3.10709</td>\n",
              "      <td>0.67108</td>\n",
              "      <td>14.11738</td>\n",
              "      <td>2.016769</td>\n",
              "    </tr>\n",
              "    <tr>\n",
              "      <th>Sub-Saharan Africa</th>\n",
              "      <td>158</td>\n",
              "      <td>71</td>\n",
              "      <td>5116</td>\n",
              "      <td>127.900000</td>\n",
              "      <td>5.477</td>\n",
              "      <td>2.839</td>\n",
              "      <td>168.112</td>\n",
              "      <td>4.202800</td>\n",
              "      <td>0.11068</td>\n",
              "      <td>0.03464</td>\n",
              "      <td>2.21195</td>\n",
              "      <td>0.055299</td>\n",
              "      <td>1.06024</td>\n",
              "      <td>0.00000</td>\n",
              "      <td>15.21892</td>\n",
              "      <td>0.380473</td>\n",
              "      <td>1.18468</td>\n",
              "      <td>0.00000</td>\n",
              "      <td>32.36340</td>\n",
              "      <td>0.809085</td>\n",
              "      <td>0.70950</td>\n",
              "      <td>0.00000</td>\n",
              "      <td>11.29327</td>\n",
              "      <td>0.282332</td>\n",
              "      <td>0.59201</td>\n",
              "      <td>0.10081</td>\n",
              "      <td>14.63776</td>\n",
              "      <td>0.365944</td>\n",
              "      <td>0.55191</td>\n",
              "      <td>0.03060</td>\n",
              "      <td>4.95511</td>\n",
              "      <td>0.123878</td>\n",
              "      <td>0.50318</td>\n",
              "      <td>0.06822</td>\n",
              "      <td>8.84547</td>\n",
              "      <td>0.221137</td>\n",
              "      <td>3.05137</td>\n",
              "      <td>0.67042</td>\n",
              "      <td>80.79920</td>\n",
              "      <td>2.019980</td>\n",
              "    </tr>\n",
              "    <tr>\n",
              "      <th>Western Europe</th>\n",
              "      <td>102</td>\n",
              "      <td>1</td>\n",
              "      <td>620</td>\n",
              "      <td>29.523810</td>\n",
              "      <td>7.587</td>\n",
              "      <td>4.857</td>\n",
              "      <td>140.482</td>\n",
              "      <td>6.689619</td>\n",
              "      <td>0.05635</td>\n",
              "      <td>0.01848</td>\n",
              "      <td>0.79013</td>\n",
              "      <td>0.037625</td>\n",
              "      <td>1.56391</td>\n",
              "      <td>1.15406</td>\n",
              "      <td>27.27051</td>\n",
              "      <td>1.298596</td>\n",
              "      <td>1.40223</td>\n",
              "      <td>0.89318</td>\n",
              "      <td>26.19334</td>\n",
              "      <td>1.247302</td>\n",
              "      <td>0.95562</td>\n",
              "      <td>0.87464</td>\n",
              "      <td>19.09211</td>\n",
              "      <td>0.909148</td>\n",
              "      <td>0.66973</td>\n",
              "      <td>0.07699</td>\n",
              "      <td>11.54845</td>\n",
              "      <td>0.549926</td>\n",
              "      <td>0.48357</td>\n",
              "      <td>0.01078</td>\n",
              "      <td>4.86072</td>\n",
              "      <td>0.231463</td>\n",
              "      <td>0.51912</td>\n",
              "      <td>0.00000</td>\n",
              "      <td>6.34428</td>\n",
              "      <td>0.302109</td>\n",
              "      <td>2.70201</td>\n",
              "      <td>1.26462</td>\n",
              "      <td>45.17489</td>\n",
              "      <td>2.151185</td>\n",
              "    </tr>\n",
              "  </tbody>\n",
              "</table>\n",
              "</div>"
            ],
            "text/plain": [
              "                                Happiness Rank       ... Dystopia Residual          \n",
              "                                          amax amin  ...               sum      mean\n",
              "Region                                               ...                            \n",
              "Australia and New Zealand                   10    9  ...           4.53071  2.265355\n",
              "Central and Eastern Europe                 134   31  ...          58.62059  2.021400\n",
              "Eastern Asia                               100   38  ...          10.08964  1.681607\n",
              "Latin America and Caribbean                119   12  ...          57.69670  2.622577\n",
              "Middle East and Northern Africa            156   11  ...          39.60017  1.980009\n",
              "North America                               15    5  ...           4.96187  2.480935\n",
              "Southeastern Asia                          145   24  ...          16.04718  1.783020\n",
              "Southern Asia                              153   79  ...          14.11738  2.016769\n",
              "Sub-Saharan Africa                         158   71  ...          80.79920  2.019980\n",
              "Western Europe                             102    1  ...          45.17489  2.151185\n",
              "\n",
              "[10 rows x 40 columns]"
            ]
          },
          "metadata": {
            "tags": []
          },
          "execution_count": 15
        }
      ]
    },
    {
      "cell_type": "markdown",
      "metadata": {
        "id": "20OkERMuRiJa"
      },
      "source": [
        "## Aggregation with Pivot Tables"
      ]
    },
    {
      "cell_type": "code",
      "metadata": {
        "colab": {
          "base_uri": "https://localhost:8080/",
          "height": 373
        },
        "id": "vfR8GrlBTfMX",
        "outputId": "daf15eb7-112b-4134-8281-e1d91a128bf8"
      },
      "source": [
        "# DataFrame.pivot_table() method\n",
        "pv_happiness = happiness2015.pivot_table(values='Happiness Score', index='Region', aggfunc=np.mean)\n",
        "pv_happiness"
      ],
      "execution_count": null,
      "outputs": [
        {
          "output_type": "execute_result",
          "data": {
            "text/html": [
              "<div>\n",
              "<style scoped>\n",
              "    .dataframe tbody tr th:only-of-type {\n",
              "        vertical-align: middle;\n",
              "    }\n",
              "\n",
              "    .dataframe tbody tr th {\n",
              "        vertical-align: top;\n",
              "    }\n",
              "\n",
              "    .dataframe thead th {\n",
              "        text-align: right;\n",
              "    }\n",
              "</style>\n",
              "<table border=\"1\" class=\"dataframe\">\n",
              "  <thead>\n",
              "    <tr style=\"text-align: right;\">\n",
              "      <th></th>\n",
              "      <th>Happiness Score</th>\n",
              "    </tr>\n",
              "    <tr>\n",
              "      <th>Region</th>\n",
              "      <th></th>\n",
              "    </tr>\n",
              "  </thead>\n",
              "  <tbody>\n",
              "    <tr>\n",
              "      <th>Australia and New Zealand</th>\n",
              "      <td>7.285000</td>\n",
              "    </tr>\n",
              "    <tr>\n",
              "      <th>Central and Eastern Europe</th>\n",
              "      <td>5.332931</td>\n",
              "    </tr>\n",
              "    <tr>\n",
              "      <th>Eastern Asia</th>\n",
              "      <td>5.626167</td>\n",
              "    </tr>\n",
              "    <tr>\n",
              "      <th>Latin America and Caribbean</th>\n",
              "      <td>6.144682</td>\n",
              "    </tr>\n",
              "    <tr>\n",
              "      <th>Middle East and Northern Africa</th>\n",
              "      <td>5.406900</td>\n",
              "    </tr>\n",
              "    <tr>\n",
              "      <th>North America</th>\n",
              "      <td>7.273000</td>\n",
              "    </tr>\n",
              "    <tr>\n",
              "      <th>Southeastern Asia</th>\n",
              "      <td>5.317444</td>\n",
              "    </tr>\n",
              "    <tr>\n",
              "      <th>Southern Asia</th>\n",
              "      <td>4.580857</td>\n",
              "    </tr>\n",
              "    <tr>\n",
              "      <th>Sub-Saharan Africa</th>\n",
              "      <td>4.202800</td>\n",
              "    </tr>\n",
              "    <tr>\n",
              "      <th>Western Europe</th>\n",
              "      <td>6.689619</td>\n",
              "    </tr>\n",
              "  </tbody>\n",
              "</table>\n",
              "</div>"
            ],
            "text/plain": [
              "                                 Happiness Score\n",
              "Region                                          \n",
              "Australia and New Zealand               7.285000\n",
              "Central and Eastern Europe              5.332931\n",
              "Eastern Asia                            5.626167\n",
              "Latin America and Caribbean             6.144682\n",
              "Middle East and Northern Africa         5.406900\n",
              "North America                           7.273000\n",
              "Southeastern Asia                       5.317444\n",
              "Southern Asia                           4.580857\n",
              "Sub-Saharan Africa                      4.202800\n",
              "Western Europe                          6.689619"
            ]
          },
          "metadata": {
            "tags": []
          },
          "execution_count": 16
        }
      ]
    },
    {
      "cell_type": "code",
      "metadata": {
        "colab": {
          "base_uri": "https://localhost:8080/",
          "height": 402
        },
        "id": "s2ZzS1XdtqwL",
        "outputId": "0ad41fdb-0a48-42f4-cc7a-c567c4f479ec"
      },
      "source": [
        "pv_happiness = happiness2015.pivot_table(values='Happiness Score', index='Region', aggfunc=np.mean, margins=True)\n",
        "pv_happiness"
      ],
      "execution_count": null,
      "outputs": [
        {
          "output_type": "execute_result",
          "data": {
            "text/html": [
              "<div>\n",
              "<style scoped>\n",
              "    .dataframe tbody tr th:only-of-type {\n",
              "        vertical-align: middle;\n",
              "    }\n",
              "\n",
              "    .dataframe tbody tr th {\n",
              "        vertical-align: top;\n",
              "    }\n",
              "\n",
              "    .dataframe thead th {\n",
              "        text-align: right;\n",
              "    }\n",
              "</style>\n",
              "<table border=\"1\" class=\"dataframe\">\n",
              "  <thead>\n",
              "    <tr style=\"text-align: right;\">\n",
              "      <th></th>\n",
              "      <th>Happiness Score</th>\n",
              "    </tr>\n",
              "    <tr>\n",
              "      <th>Region</th>\n",
              "      <th></th>\n",
              "    </tr>\n",
              "  </thead>\n",
              "  <tbody>\n",
              "    <tr>\n",
              "      <th>Australia and New Zealand</th>\n",
              "      <td>7.285000</td>\n",
              "    </tr>\n",
              "    <tr>\n",
              "      <th>Central and Eastern Europe</th>\n",
              "      <td>5.332931</td>\n",
              "    </tr>\n",
              "    <tr>\n",
              "      <th>Eastern Asia</th>\n",
              "      <td>5.626167</td>\n",
              "    </tr>\n",
              "    <tr>\n",
              "      <th>Latin America and Caribbean</th>\n",
              "      <td>6.144682</td>\n",
              "    </tr>\n",
              "    <tr>\n",
              "      <th>Middle East and Northern Africa</th>\n",
              "      <td>5.406900</td>\n",
              "    </tr>\n",
              "    <tr>\n",
              "      <th>North America</th>\n",
              "      <td>7.273000</td>\n",
              "    </tr>\n",
              "    <tr>\n",
              "      <th>Southeastern Asia</th>\n",
              "      <td>5.317444</td>\n",
              "    </tr>\n",
              "    <tr>\n",
              "      <th>Southern Asia</th>\n",
              "      <td>4.580857</td>\n",
              "    </tr>\n",
              "    <tr>\n",
              "      <th>Sub-Saharan Africa</th>\n",
              "      <td>4.202800</td>\n",
              "    </tr>\n",
              "    <tr>\n",
              "      <th>Western Europe</th>\n",
              "      <td>6.689619</td>\n",
              "    </tr>\n",
              "    <tr>\n",
              "      <th>All</th>\n",
              "      <td>5.375734</td>\n",
              "    </tr>\n",
              "  </tbody>\n",
              "</table>\n",
              "</div>"
            ],
            "text/plain": [
              "                                 Happiness Score\n",
              "Region                                          \n",
              "Australia and New Zealand               7.285000\n",
              "Central and Eastern Europe              5.332931\n",
              "Eastern Asia                            5.626167\n",
              "Latin America and Caribbean             6.144682\n",
              "Middle East and Northern Africa         5.406900\n",
              "North America                           7.273000\n",
              "Southeastern Asia                       5.317444\n",
              "Southern Asia                           4.580857\n",
              "Sub-Saharan Africa                      4.202800\n",
              "Western Europe                          6.689619\n",
              "All                                     5.375734"
            ]
          },
          "metadata": {
            "tags": []
          },
          "execution_count": 17
        }
      ]
    },
    {
      "cell_type": "markdown",
      "metadata": {
        "id": "eujtRJLTt2rp"
      },
      "source": [
        "When we set the margins parameter equal to True, All will be added to the index of the resulting dataframe and the corresponding value will be the result of applying the aggregation method to the entire column\n"
      ]
    },
    {
      "cell_type": "code",
      "metadata": {
        "colab": {
          "base_uri": "https://localhost:8080/",
          "height": 298
        },
        "id": "z42MoVzGZyKz",
        "outputId": "20d71bd8-8319-47c1-dde8-99d17e32db73"
      },
      "source": [
        "pv_happiness.plot(kind='barh', title='Mean Happiness Scores by Region', xlim=(0,10))"
      ],
      "execution_count": null,
      "outputs": [
        {
          "output_type": "execute_result",
          "data": {
            "text/plain": [
              "<matplotlib.axes._subplots.AxesSubplot at 0x7f1992d2f4d0>"
            ]
          },
          "metadata": {
            "tags": []
          },
          "execution_count": 18
        },
        {
          "output_type": "display_data",
          "data": {
            "image/png": "[encoded data removed]",
            "text/plain": [
              "<Figure size 432x288 with 1 Axes>"
            ]
          },
          "metadata": {
            "tags": [],
            "needs_background": "light"
          }
        }
      ]
    },
    {
      "cell_type": "code",
      "metadata": {
        "colab": {
          "base_uri": "https://localhost:8080/"
        },
        "id": "fGyq5eHceiUA",
        "outputId": "12a4b293-74f1-4b81-954f-06168c20dd7b"
      },
      "source": [
        "happiness2015['Happiness Score'].mean() == pv_happiness['Happiness Score'].mean()\n"
      ],
      "execution_count": null,
      "outputs": [
        {
          "output_type": "execute_result",
          "data": {
            "text/plain": [
              "False"
            ]
          },
          "metadata": {
            "tags": []
          },
          "execution_count": 19
        }
      ]
    },
    {
      "cell_type": "code",
      "metadata": {
        "colab": {
          "base_uri": "https://localhost:8080/"
        },
        "id": "vfhfduB9fee8",
        "outputId": "15fd6738-4deb-480d-fc0f-d0c5bcfc8052"
      },
      "source": [
        "pv_happiness['Happiness Score'].mean()"
      ],
      "execution_count": null,
      "outputs": [
        {
          "output_type": "execute_result",
          "data": {
            "text/plain": [
              "5.748648575587915"
            ]
          },
          "metadata": {
            "tags": []
          },
          "execution_count": 20
        }
      ]
    },
    {
      "cell_type": "code",
      "metadata": {
        "colab": {
          "base_uri": "https://localhost:8080/"
        },
        "id": "gYLsdTRGfueh",
        "outputId": "996dc50b-2c66-4ec6-d9c2-f41b7fe977ed"
      },
      "source": [
        "happiness2015['Happiness Score'].mean()"
      ],
      "execution_count": null,
      "outputs": [
        {
          "output_type": "execute_result",
          "data": {
            "text/plain": [
              "5.3757341772151905"
            ]
          },
          "metadata": {
            "tags": []
          },
          "execution_count": 21
        }
      ]
    },
    {
      "cell_type": "code",
      "metadata": {
        "id": "D5NLzJf1fwEJ"
      },
      "source": [
        "grouped = happiness2015.groupby('Region')[['Happiness Score', 'Family']].mean()"
      ],
      "execution_count": null,
      "outputs": []
    },
    {
      "cell_type": "markdown",
      "metadata": {
        "id": "WAqb9QRIRsiH"
      },
      "source": [
        "## Aggregation Multiple Columns and Function with Pilot Tables"
      ]
    },
    {
      "cell_type": "code",
      "metadata": {
        "colab": {
          "base_uri": "https://localhost:8080/",
          "height": 265
        },
        "id": "Xt6tIZVGuZxT",
        "outputId": "f35c4b76-916a-4db3-d422-b97372f591bd"
      },
      "source": [
        "grouped_pv_table = happiness2015.pivot_table(['Happiness Score', 'Family'], 'Region', aggfunc=np.mean, margins=True)\n",
        "grouped_pv_table.plot(kind='barh')\n",
        "plt.show()"
      ],
      "execution_count": null,
      "outputs": [
        {
          "output_type": "display_data",
          "data": {
            "image/png": "[encoded data removed]",
            "text/plain": [
              "<Figure size 432x288 with 1 Axes>"
            ]
          },
          "metadata": {
            "tags": [],
            "needs_background": "light"
          }
        }
      ]
    },
    {
      "cell_type": "code",
      "metadata": {
        "colab": {
          "base_uri": "https://localhost:8080/",
          "height": 432
        },
        "id": "YUbZ9tzPiefL",
        "outputId": "0bfe49ae-f0ef-40de-acad-eece62ef1ec5"
      },
      "source": [
        "grouped = happiness2015.groupby('Region')[['Happiness Score', 'Family']]\n",
        "happy_family_stats = grouped.agg([np.min, np.max, np.mean])\n",
        "pv_happy_family_stats = pd.pivot_table(happiness2015, values=['Happiness Score', 'Family'], index='Region',  aggfunc=[np.min, np.max, np.mean], margins=True)\n",
        "\n",
        "pv_happy_family_stats"
      ],
      "execution_count": null,
      "outputs": [
        {
          "output_type": "execute_result",
          "data": {
            "text/html": [
              "<div>\n",
              "<style scoped>\n",
              "    .dataframe tbody tr th:only-of-type {\n",
              "        vertical-align: middle;\n",
              "    }\n",
              "\n",
              "    .dataframe tbody tr th {\n",
              "        vertical-align: top;\n",
              "    }\n",
              "\n",
              "    .dataframe thead tr th {\n",
              "        text-align: left;\n",
              "    }\n",
              "\n",
              "    .dataframe thead tr:last-of-type th {\n",
              "        text-align: right;\n",
              "    }\n",
              "</style>\n",
              "<table border=\"1\" class=\"dataframe\">\n",
              "  <thead>\n",
              "    <tr>\n",
              "      <th></th>\n",
              "      <th colspan=\"2\" halign=\"left\">amin</th>\n",
              "      <th colspan=\"2\" halign=\"left\">amax</th>\n",
              "      <th colspan=\"2\" halign=\"left\">mean</th>\n",
              "    </tr>\n",
              "    <tr>\n",
              "      <th></th>\n",
              "      <th>Family</th>\n",
              "      <th>Happiness Score</th>\n",
              "      <th>Family</th>\n",
              "      <th>Happiness Score</th>\n",
              "      <th>Family</th>\n",
              "      <th>Happiness Score</th>\n",
              "    </tr>\n",
              "    <tr>\n",
              "      <th>Region</th>\n",
              "      <th></th>\n",
              "      <th></th>\n",
              "      <th></th>\n",
              "      <th></th>\n",
              "      <th></th>\n",
              "      <th></th>\n",
              "    </tr>\n",
              "  </thead>\n",
              "  <tbody>\n",
              "    <tr>\n",
              "      <th>Australia and New Zealand</th>\n",
              "      <td>1.30923</td>\n",
              "      <td>7.284</td>\n",
              "      <td>1.31967</td>\n",
              "      <td>7.286</td>\n",
              "      <td>1.314450</td>\n",
              "      <td>7.285000</td>\n",
              "    </tr>\n",
              "    <tr>\n",
              "      <th>Central and Eastern Europe</th>\n",
              "      <td>0.38562</td>\n",
              "      <td>4.218</td>\n",
              "      <td>1.34043</td>\n",
              "      <td>6.505</td>\n",
              "      <td>1.053042</td>\n",
              "      <td>5.332931</td>\n",
              "    </tr>\n",
              "    <tr>\n",
              "      <th>Eastern Asia</th>\n",
              "      <td>0.94675</td>\n",
              "      <td>4.874</td>\n",
              "      <td>1.30060</td>\n",
              "      <td>6.298</td>\n",
              "      <td>1.099427</td>\n",
              "      <td>5.626167</td>\n",
              "    </tr>\n",
              "    <tr>\n",
              "      <th>Latin America and Caribbean</th>\n",
              "      <td>0.74302</td>\n",
              "      <td>4.518</td>\n",
              "      <td>1.30477</td>\n",
              "      <td>7.226</td>\n",
              "      <td>1.104720</td>\n",
              "      <td>6.144682</td>\n",
              "    </tr>\n",
              "    <tr>\n",
              "      <th>Middle East and Northern Africa</th>\n",
              "      <td>0.47489</td>\n",
              "      <td>3.006</td>\n",
              "      <td>1.22393</td>\n",
              "      <td>7.278</td>\n",
              "      <td>0.920490</td>\n",
              "      <td>5.406900</td>\n",
              "    </tr>\n",
              "    <tr>\n",
              "      <th>North America</th>\n",
              "      <td>1.24711</td>\n",
              "      <td>7.119</td>\n",
              "      <td>1.32261</td>\n",
              "      <td>7.427</td>\n",
              "      <td>1.284860</td>\n",
              "      <td>7.273000</td>\n",
              "    </tr>\n",
              "    <tr>\n",
              "      <th>Southeastern Asia</th>\n",
              "      <td>0.62736</td>\n",
              "      <td>3.819</td>\n",
              "      <td>1.26504</td>\n",
              "      <td>6.798</td>\n",
              "      <td>0.940468</td>\n",
              "      <td>5.317444</td>\n",
              "    </tr>\n",
              "    <tr>\n",
              "      <th>Southern Asia</th>\n",
              "      <td>0.30285</td>\n",
              "      <td>3.575</td>\n",
              "      <td>1.10395</td>\n",
              "      <td>5.253</td>\n",
              "      <td>0.645321</td>\n",
              "      <td>4.580857</td>\n",
              "    </tr>\n",
              "    <tr>\n",
              "      <th>Sub-Saharan Africa</th>\n",
              "      <td>0.00000</td>\n",
              "      <td>2.839</td>\n",
              "      <td>1.18468</td>\n",
              "      <td>5.477</td>\n",
              "      <td>0.809085</td>\n",
              "      <td>4.202800</td>\n",
              "    </tr>\n",
              "    <tr>\n",
              "      <th>Western Europe</th>\n",
              "      <td>0.89318</td>\n",
              "      <td>4.857</td>\n",
              "      <td>1.40223</td>\n",
              "      <td>7.587</td>\n",
              "      <td>1.247302</td>\n",
              "      <td>6.689619</td>\n",
              "    </tr>\n",
              "    <tr>\n",
              "      <th>All</th>\n",
              "      <td>0.00000</td>\n",
              "      <td>2.839</td>\n",
              "      <td>1.40223</td>\n",
              "      <td>7.587</td>\n",
              "      <td>0.991046</td>\n",
              "      <td>5.375734</td>\n",
              "    </tr>\n",
              "  </tbody>\n",
              "</table>\n",
              "</div>"
            ],
            "text/plain": [
              "                                    amin  ...            mean\n",
              "                                  Family  ... Happiness Score\n",
              "Region                                    ...                \n",
              "Australia and New Zealand        1.30923  ...        7.285000\n",
              "Central and Eastern Europe       0.38562  ...        5.332931\n",
              "Eastern Asia                     0.94675  ...        5.626167\n",
              "Latin America and Caribbean      0.74302  ...        6.144682\n",
              "Middle East and Northern Africa  0.47489  ...        5.406900\n",
              "North America                    1.24711  ...        7.273000\n",
              "Southeastern Asia                0.62736  ...        5.317444\n",
              "Southern Asia                    0.30285  ...        4.580857\n",
              "Sub-Saharan Africa               0.00000  ...        4.202800\n",
              "Western Europe                   0.89318  ...        6.689619\n",
              "All                              0.00000  ...        5.375734\n",
              "\n",
              "[11 rows x 6 columns]"
            ]
          },
          "metadata": {
            "tags": []
          },
          "execution_count": 24
        }
      ]
    },
    {
      "cell_type": "markdown",
      "metadata": {
        "id": "-cI5G1DWSG_w"
      },
      "source": [
        "# Combining Data With Pandas"
      ]
    },
    {
      "cell_type": "code",
      "metadata": {
        "id": "aR3UGZgwsau3"
      },
      "source": [
        "happiness2016 = pd.read_csv('/content/drive/MyDrive/my_datasets/Data Cleaning and Analysis/World_Happiness_2016.csv')\n",
        "happiness2017 = pd.read_csv('/content/drive/MyDrive/my_datasets/Data Cleaning and Analysis/World_Happiness_2017.csv')"
      ],
      "execution_count": null,
      "outputs": []
    },
    {
      "cell_type": "code",
      "metadata": {
        "id": "Sp-7oXAvSFZ5"
      },
      "source": [
        "happiness2015['Year'] = 2015\n",
        "happiness2016['Year'] = 2016\n",
        "happiness2017['Year'] = 2017"
      ],
      "execution_count": null,
      "outputs": []
    },
    {
      "cell_type": "code",
      "metadata": {
        "id": "vH7RUrPpUiCr"
      },
      "source": [
        "head_2015 = happiness2015[['Year','Country','Happiness Score', 'Standard Error']].head(4)\n",
        "head_2016 = happiness2016[['Country','Happiness Score', 'Year']].head(3)"
      ],
      "execution_count": null,
      "outputs": []
    },
    {
      "cell_type": "code",
      "metadata": {
        "colab": {
          "base_uri": "https://localhost:8080/",
          "height": 296
        },
        "id": "nGP8H8cTUVsF",
        "outputId": "345d48a3-8c6f-4e3a-e70f-e5bae5c80596"
      },
      "source": [
        "happiness2015.head()"
      ],
      "execution_count": null,
      "outputs": [
        {
          "output_type": "execute_result",
          "data": {
            "text/html": [
              "<div>\n",
              "<style scoped>\n",
              "    .dataframe tbody tr th:only-of-type {\n",
              "        vertical-align: middle;\n",
              "    }\n",
              "\n",
              "    .dataframe tbody tr th {\n",
              "        vertical-align: top;\n",
              "    }\n",
              "\n",
              "    .dataframe thead th {\n",
              "        text-align: right;\n",
              "    }\n",
              "</style>\n",
              "<table border=\"1\" class=\"dataframe\">\n",
              "  <thead>\n",
              "    <tr style=\"text-align: right;\">\n",
              "      <th></th>\n",
              "      <th>Country</th>\n",
              "      <th>Region</th>\n",
              "      <th>Happiness Rank</th>\n",
              "      <th>Happiness Score</th>\n",
              "      <th>Standard Error</th>\n",
              "      <th>Economy (GDP per Capita)</th>\n",
              "      <th>Family</th>\n",
              "      <th>Health (Life Expectancy)</th>\n",
              "      <th>Freedom</th>\n",
              "      <th>Trust (Government Corruption)</th>\n",
              "      <th>Generosity</th>\n",
              "      <th>Dystopia Residual</th>\n",
              "      <th>Year</th>\n",
              "    </tr>\n",
              "  </thead>\n",
              "  <tbody>\n",
              "    <tr>\n",
              "      <th>0</th>\n",
              "      <td>Switzerland</td>\n",
              "      <td>Western Europe</td>\n",
              "      <td>1</td>\n",
              "      <td>7.587</td>\n",
              "      <td>0.03411</td>\n",
              "      <td>1.39651</td>\n",
              "      <td>1.34951</td>\n",
              "      <td>0.94143</td>\n",
              "      <td>0.66557</td>\n",
              "      <td>0.41978</td>\n",
              "      <td>0.29678</td>\n",
              "      <td>2.51738</td>\n",
              "      <td>2015</td>\n",
              "    </tr>\n",
              "    <tr>\n",
              "      <th>1</th>\n",
              "      <td>Iceland</td>\n",
              "      <td>Western Europe</td>\n",
              "      <td>2</td>\n",
              "      <td>7.561</td>\n",
              "      <td>0.04884</td>\n",
              "      <td>1.30232</td>\n",
              "      <td>1.40223</td>\n",
              "      <td>0.94784</td>\n",
              "      <td>0.62877</td>\n",
              "      <td>0.14145</td>\n",
              "      <td>0.43630</td>\n",
              "      <td>2.70201</td>\n",
              "      <td>2015</td>\n",
              "    </tr>\n",
              "    <tr>\n",
              "      <th>2</th>\n",
              "      <td>Denmark</td>\n",
              "      <td>Western Europe</td>\n",
              "      <td>3</td>\n",
              "      <td>7.527</td>\n",
              "      <td>0.03328</td>\n",
              "      <td>1.32548</td>\n",
              "      <td>1.36058</td>\n",
              "      <td>0.87464</td>\n",
              "      <td>0.64938</td>\n",
              "      <td>0.48357</td>\n",
              "      <td>0.34139</td>\n",
              "      <td>2.49204</td>\n",
              "      <td>2015</td>\n",
              "    </tr>\n",
              "    <tr>\n",
              "      <th>3</th>\n",
              "      <td>Norway</td>\n",
              "      <td>Western Europe</td>\n",
              "      <td>4</td>\n",
              "      <td>7.522</td>\n",
              "      <td>0.03880</td>\n",
              "      <td>1.45900</td>\n",
              "      <td>1.33095</td>\n",
              "      <td>0.88521</td>\n",
              "      <td>0.66973</td>\n",
              "      <td>0.36503</td>\n",
              "      <td>0.34699</td>\n",
              "      <td>2.46531</td>\n",
              "      <td>2015</td>\n",
              "    </tr>\n",
              "    <tr>\n",
              "      <th>4</th>\n",
              "      <td>Canada</td>\n",
              "      <td>North America</td>\n",
              "      <td>5</td>\n",
              "      <td>7.427</td>\n",
              "      <td>0.03553</td>\n",
              "      <td>1.32629</td>\n",
              "      <td>1.32261</td>\n",
              "      <td>0.90563</td>\n",
              "      <td>0.63297</td>\n",
              "      <td>0.32957</td>\n",
              "      <td>0.45811</td>\n",
              "      <td>2.45176</td>\n",
              "      <td>2015</td>\n",
              "    </tr>\n",
              "  </tbody>\n",
              "</table>\n",
              "</div>"
            ],
            "text/plain": [
              "       Country          Region  ...  Dystopia Residual  Year\n",
              "0  Switzerland  Western Europe  ...            2.51738  2015\n",
              "1      Iceland  Western Europe  ...            2.70201  2015\n",
              "2      Denmark  Western Europe  ...            2.49204  2015\n",
              "3       Norway  Western Europe  ...            2.46531  2015\n",
              "4       Canada   North America  ...            2.45176  2015\n",
              "\n",
              "[5 rows x 13 columns]"
            ]
          },
          "metadata": {
            "tags": []
          },
          "execution_count": 28
        }
      ]
    },
    {
      "cell_type": "markdown",
      "metadata": {
        "id": "zyymdFEYVrec"
      },
      "source": [
        "## Combining Dataframes with the Concat Function"
      ]
    },
    {
      "cell_type": "markdown",
      "metadata": {
        "id": "WUrJIx1vW89W"
      },
      "source": [
        "head_2015, head_2016 has the same shape"
      ]
    },
    {
      "cell_type": "code",
      "metadata": {
        "id": "ZIgLiwVlU8Y_"
      },
      "source": [
        "head_2015 = happiness2015[['Country','Happiness Score', 'Year']].head(3)\n",
        "head_2016 = happiness2016[['Country','Happiness Score', 'Year']].head(3)\n",
        "\n",
        "concat_axis0 = pd.concat([head_2015, head_2016], axis=0)\n",
        "concat_axis1 = pd.concat([head_2015, head_2016], axis=1)"
      ],
      "execution_count": null,
      "outputs": []
    },
    {
      "cell_type": "code",
      "metadata": {
        "colab": {
          "base_uri": "https://localhost:8080/",
          "height": 225
        },
        "id": "pQndCoacWTFv",
        "outputId": "913a121a-e66d-400c-996b-9de83451b880"
      },
      "source": [
        "concat_axis0"
      ],
      "execution_count": null,
      "outputs": [
        {
          "output_type": "execute_result",
          "data": {
            "text/html": [
              "<div>\n",
              "<style scoped>\n",
              "    .dataframe tbody tr th:only-of-type {\n",
              "        vertical-align: middle;\n",
              "    }\n",
              "\n",
              "    .dataframe tbody tr th {\n",
              "        vertical-align: top;\n",
              "    }\n",
              "\n",
              "    .dataframe thead th {\n",
              "        text-align: right;\n",
              "    }\n",
              "</style>\n",
              "<table border=\"1\" class=\"dataframe\">\n",
              "  <thead>\n",
              "    <tr style=\"text-align: right;\">\n",
              "      <th></th>\n",
              "      <th>Country</th>\n",
              "      <th>Happiness Score</th>\n",
              "      <th>Year</th>\n",
              "    </tr>\n",
              "  </thead>\n",
              "  <tbody>\n",
              "    <tr>\n",
              "      <th>0</th>\n",
              "      <td>Switzerland</td>\n",
              "      <td>7.587</td>\n",
              "      <td>2015</td>\n",
              "    </tr>\n",
              "    <tr>\n",
              "      <th>1</th>\n",
              "      <td>Iceland</td>\n",
              "      <td>7.561</td>\n",
              "      <td>2015</td>\n",
              "    </tr>\n",
              "    <tr>\n",
              "      <th>2</th>\n",
              "      <td>Denmark</td>\n",
              "      <td>7.527</td>\n",
              "      <td>2015</td>\n",
              "    </tr>\n",
              "    <tr>\n",
              "      <th>0</th>\n",
              "      <td>Denmark</td>\n",
              "      <td>7.526</td>\n",
              "      <td>2016</td>\n",
              "    </tr>\n",
              "    <tr>\n",
              "      <th>1</th>\n",
              "      <td>Switzerland</td>\n",
              "      <td>7.509</td>\n",
              "      <td>2016</td>\n",
              "    </tr>\n",
              "    <tr>\n",
              "      <th>2</th>\n",
              "      <td>Iceland</td>\n",
              "      <td>7.501</td>\n",
              "      <td>2016</td>\n",
              "    </tr>\n",
              "  </tbody>\n",
              "</table>\n",
              "</div>"
            ],
            "text/plain": [
              "       Country  Happiness Score  Year\n",
              "0  Switzerland            7.587  2015\n",
              "1      Iceland            7.561  2015\n",
              "2      Denmark            7.527  2015\n",
              "0      Denmark            7.526  2016\n",
              "1  Switzerland            7.509  2016\n",
              "2      Iceland            7.501  2016"
            ]
          },
          "metadata": {
            "tags": []
          },
          "execution_count": 30
        }
      ]
    },
    {
      "cell_type": "code",
      "metadata": {
        "colab": {
          "base_uri": "https://localhost:8080/",
          "height": 136
        },
        "id": "EFLigEZIWVm5",
        "outputId": "371ad947-8967-4fd1-c8a1-f2c9f7d23357"
      },
      "source": [
        "concat_axis1"
      ],
      "execution_count": null,
      "outputs": [
        {
          "output_type": "execute_result",
          "data": {
            "text/html": [
              "<div>\n",
              "<style scoped>\n",
              "    .dataframe tbody tr th:only-of-type {\n",
              "        vertical-align: middle;\n",
              "    }\n",
              "\n",
              "    .dataframe tbody tr th {\n",
              "        vertical-align: top;\n",
              "    }\n",
              "\n",
              "    .dataframe thead th {\n",
              "        text-align: right;\n",
              "    }\n",
              "</style>\n",
              "<table border=\"1\" class=\"dataframe\">\n",
              "  <thead>\n",
              "    <tr style=\"text-align: right;\">\n",
              "      <th></th>\n",
              "      <th>Country</th>\n",
              "      <th>Happiness Score</th>\n",
              "      <th>Year</th>\n",
              "      <th>Country</th>\n",
              "      <th>Happiness Score</th>\n",
              "      <th>Year</th>\n",
              "    </tr>\n",
              "  </thead>\n",
              "  <tbody>\n",
              "    <tr>\n",
              "      <th>0</th>\n",
              "      <td>Switzerland</td>\n",
              "      <td>7.587</td>\n",
              "      <td>2015</td>\n",
              "      <td>Denmark</td>\n",
              "      <td>7.526</td>\n",
              "      <td>2016</td>\n",
              "    </tr>\n",
              "    <tr>\n",
              "      <th>1</th>\n",
              "      <td>Iceland</td>\n",
              "      <td>7.561</td>\n",
              "      <td>2015</td>\n",
              "      <td>Switzerland</td>\n",
              "      <td>7.509</td>\n",
              "      <td>2016</td>\n",
              "    </tr>\n",
              "    <tr>\n",
              "      <th>2</th>\n",
              "      <td>Denmark</td>\n",
              "      <td>7.527</td>\n",
              "      <td>2015</td>\n",
              "      <td>Iceland</td>\n",
              "      <td>7.501</td>\n",
              "      <td>2016</td>\n",
              "    </tr>\n",
              "  </tbody>\n",
              "</table>\n",
              "</div>"
            ],
            "text/plain": [
              "       Country  Happiness Score  Year      Country  Happiness Score  Year\n",
              "0  Switzerland            7.587  2015      Denmark            7.526  2016\n",
              "1      Iceland            7.561  2015  Switzerland            7.509  2016\n",
              "2      Denmark            7.527  2015      Iceland            7.501  2016"
            ]
          },
          "metadata": {
            "tags": []
          },
          "execution_count": 31
        }
      ]
    },
    {
      "cell_type": "markdown",
      "metadata": {
        "id": "-zYZgYW6WQeU"
      },
      "source": [
        "## Combining Dataframes with the Concat Function Continued"
      ]
    },
    {
      "cell_type": "markdown",
      "metadata": {
        "id": "BRshZF0bXR1R"
      },
      "source": [
        "head_2015, head_2016 hasn't the same shape"
      ]
    },
    {
      "cell_type": "code",
      "metadata": {
        "id": "ViGPH1IlWxp2"
      },
      "source": [
        "head_2015 = happiness2015[['Year','Country','Happiness Score', 'Standard Error']].head(4)\n",
        "head_2016 = happiness2016[['Country','Happiness Score', 'Year']].head(3)"
      ],
      "execution_count": null,
      "outputs": []
    },
    {
      "cell_type": "code",
      "metadata": {
        "id": "u12oWfnKVxCd"
      },
      "source": [
        "concat_axis0 = pd.concat([head_2015, head_2016], axis=0)\n",
        "concat_axis1 = pd.concat([head_2015, head_2016], axis=1)"
      ],
      "execution_count": null,
      "outputs": []
    },
    {
      "cell_type": "code",
      "metadata": {
        "colab": {
          "base_uri": "https://localhost:8080/",
          "height": 254
        },
        "id": "5VsXLCueWrKX",
        "outputId": "997e38bb-2152-45d2-a51b-bf7b9b9c3a9d"
      },
      "source": [
        "concat_axis0"
      ],
      "execution_count": null,
      "outputs": [
        {
          "output_type": "execute_result",
          "data": {
            "text/html": [
              "<div>\n",
              "<style scoped>\n",
              "    .dataframe tbody tr th:only-of-type {\n",
              "        vertical-align: middle;\n",
              "    }\n",
              "\n",
              "    .dataframe tbody tr th {\n",
              "        vertical-align: top;\n",
              "    }\n",
              "\n",
              "    .dataframe thead th {\n",
              "        text-align: right;\n",
              "    }\n",
              "</style>\n",
              "<table border=\"1\" class=\"dataframe\">\n",
              "  <thead>\n",
              "    <tr style=\"text-align: right;\">\n",
              "      <th></th>\n",
              "      <th>Year</th>\n",
              "      <th>Country</th>\n",
              "      <th>Happiness Score</th>\n",
              "      <th>Standard Error</th>\n",
              "    </tr>\n",
              "  </thead>\n",
              "  <tbody>\n",
              "    <tr>\n",
              "      <th>0</th>\n",
              "      <td>2015</td>\n",
              "      <td>Switzerland</td>\n",
              "      <td>7.587</td>\n",
              "      <td>0.03411</td>\n",
              "    </tr>\n",
              "    <tr>\n",
              "      <th>1</th>\n",
              "      <td>2015</td>\n",
              "      <td>Iceland</td>\n",
              "      <td>7.561</td>\n",
              "      <td>0.04884</td>\n",
              "    </tr>\n",
              "    <tr>\n",
              "      <th>2</th>\n",
              "      <td>2015</td>\n",
              "      <td>Denmark</td>\n",
              "      <td>7.527</td>\n",
              "      <td>0.03328</td>\n",
              "    </tr>\n",
              "    <tr>\n",
              "      <th>3</th>\n",
              "      <td>2015</td>\n",
              "      <td>Norway</td>\n",
              "      <td>7.522</td>\n",
              "      <td>0.03880</td>\n",
              "    </tr>\n",
              "    <tr>\n",
              "      <th>0</th>\n",
              "      <td>2016</td>\n",
              "      <td>Denmark</td>\n",
              "      <td>7.526</td>\n",
              "      <td>NaN</td>\n",
              "    </tr>\n",
              "    <tr>\n",
              "      <th>1</th>\n",
              "      <td>2016</td>\n",
              "      <td>Switzerland</td>\n",
              "      <td>7.509</td>\n",
              "      <td>NaN</td>\n",
              "    </tr>\n",
              "    <tr>\n",
              "      <th>2</th>\n",
              "      <td>2016</td>\n",
              "      <td>Iceland</td>\n",
              "      <td>7.501</td>\n",
              "      <td>NaN</td>\n",
              "    </tr>\n",
              "  </tbody>\n",
              "</table>\n",
              "</div>"
            ],
            "text/plain": [
              "   Year      Country  Happiness Score  Standard Error\n",
              "0  2015  Switzerland            7.587         0.03411\n",
              "1  2015      Iceland            7.561         0.04884\n",
              "2  2015      Denmark            7.527         0.03328\n",
              "3  2015       Norway            7.522         0.03880\n",
              "0  2016      Denmark            7.526             NaN\n",
              "1  2016  Switzerland            7.509             NaN\n",
              "2  2016      Iceland            7.501             NaN"
            ]
          },
          "metadata": {
            "tags": []
          },
          "execution_count": 34
        }
      ]
    },
    {
      "cell_type": "code",
      "metadata": {
        "colab": {
          "base_uri": "https://localhost:8080/",
          "height": 166
        },
        "id": "Czxst5LtWsE6",
        "outputId": "bbd9b001-583a-4abc-d9ca-882c79ffb166"
      },
      "source": [
        "concat_axis1"
      ],
      "execution_count": null,
      "outputs": [
        {
          "output_type": "execute_result",
          "data": {
            "text/html": [
              "<div>\n",
              "<style scoped>\n",
              "    .dataframe tbody tr th:only-of-type {\n",
              "        vertical-align: middle;\n",
              "    }\n",
              "\n",
              "    .dataframe tbody tr th {\n",
              "        vertical-align: top;\n",
              "    }\n",
              "\n",
              "    .dataframe thead th {\n",
              "        text-align: right;\n",
              "    }\n",
              "</style>\n",
              "<table border=\"1\" class=\"dataframe\">\n",
              "  <thead>\n",
              "    <tr style=\"text-align: right;\">\n",
              "      <th></th>\n",
              "      <th>Year</th>\n",
              "      <th>Country</th>\n",
              "      <th>Happiness Score</th>\n",
              "      <th>Standard Error</th>\n",
              "      <th>Country</th>\n",
              "      <th>Happiness Score</th>\n",
              "      <th>Year</th>\n",
              "    </tr>\n",
              "  </thead>\n",
              "  <tbody>\n",
              "    <tr>\n",
              "      <th>0</th>\n",
              "      <td>2015</td>\n",
              "      <td>Switzerland</td>\n",
              "      <td>7.587</td>\n",
              "      <td>0.03411</td>\n",
              "      <td>Denmark</td>\n",
              "      <td>7.526</td>\n",
              "      <td>2016.0</td>\n",
              "    </tr>\n",
              "    <tr>\n",
              "      <th>1</th>\n",
              "      <td>2015</td>\n",
              "      <td>Iceland</td>\n",
              "      <td>7.561</td>\n",
              "      <td>0.04884</td>\n",
              "      <td>Switzerland</td>\n",
              "      <td>7.509</td>\n",
              "      <td>2016.0</td>\n",
              "    </tr>\n",
              "    <tr>\n",
              "      <th>2</th>\n",
              "      <td>2015</td>\n",
              "      <td>Denmark</td>\n",
              "      <td>7.527</td>\n",
              "      <td>0.03328</td>\n",
              "      <td>Iceland</td>\n",
              "      <td>7.501</td>\n",
              "      <td>2016.0</td>\n",
              "    </tr>\n",
              "    <tr>\n",
              "      <th>3</th>\n",
              "      <td>2015</td>\n",
              "      <td>Norway</td>\n",
              "      <td>7.522</td>\n",
              "      <td>0.03880</td>\n",
              "      <td>NaN</td>\n",
              "      <td>NaN</td>\n",
              "      <td>NaN</td>\n",
              "    </tr>\n",
              "  </tbody>\n",
              "</table>\n",
              "</div>"
            ],
            "text/plain": [
              "   Year      Country Happiness Score  ...      Country Happiness Score    Year\n",
              "0  2015  Switzerland           7.587  ...      Denmark           7.526  2016.0\n",
              "1  2015      Iceland           7.561  ...  Switzerland           7.509  2016.0\n",
              "2  2015      Denmark           7.527  ...      Iceland           7.501  2016.0\n",
              "3  2015       Norway           7.522  ...          NaN             NaN     NaN\n",
              "\n",
              "[4 rows x 7 columns]"
            ]
          },
          "metadata": {
            "tags": []
          },
          "execution_count": 35
        }
      ]
    },
    {
      "cell_type": "markdown",
      "metadata": {
        "id": "QCDKyUsXYWGt"
      },
      "source": [
        "## Combining Dataframes with Different Shapes Using the Concat Function "
      ]
    },
    {
      "cell_type": "code",
      "metadata": {
        "colab": {
          "base_uri": "https://localhost:8080/",
          "height": 254
        },
        "id": "so11C1nkYixz",
        "outputId": "91d487b1-b5b8-4a25-d00c-5533e6a4f6f1"
      },
      "source": [
        "concat_update_index = pd.concat([head_2015, head_2016], ignore_index=True)\n",
        "concat_update_index"
      ],
      "execution_count": null,
      "outputs": [
        {
          "output_type": "execute_result",
          "data": {
            "text/html": [
              "<div>\n",
              "<style scoped>\n",
              "    .dataframe tbody tr th:only-of-type {\n",
              "        vertical-align: middle;\n",
              "    }\n",
              "\n",
              "    .dataframe tbody tr th {\n",
              "        vertical-align: top;\n",
              "    }\n",
              "\n",
              "    .dataframe thead th {\n",
              "        text-align: right;\n",
              "    }\n",
              "</style>\n",
              "<table border=\"1\" class=\"dataframe\">\n",
              "  <thead>\n",
              "    <tr style=\"text-align: right;\">\n",
              "      <th></th>\n",
              "      <th>Year</th>\n",
              "      <th>Country</th>\n",
              "      <th>Happiness Score</th>\n",
              "      <th>Standard Error</th>\n",
              "    </tr>\n",
              "  </thead>\n",
              "  <tbody>\n",
              "    <tr>\n",
              "      <th>0</th>\n",
              "      <td>2015</td>\n",
              "      <td>Switzerland</td>\n",
              "      <td>7.587</td>\n",
              "      <td>0.03411</td>\n",
              "    </tr>\n",
              "    <tr>\n",
              "      <th>1</th>\n",
              "      <td>2015</td>\n",
              "      <td>Iceland</td>\n",
              "      <td>7.561</td>\n",
              "      <td>0.04884</td>\n",
              "    </tr>\n",
              "    <tr>\n",
              "      <th>2</th>\n",
              "      <td>2015</td>\n",
              "      <td>Denmark</td>\n",
              "      <td>7.527</td>\n",
              "      <td>0.03328</td>\n",
              "    </tr>\n",
              "    <tr>\n",
              "      <th>3</th>\n",
              "      <td>2015</td>\n",
              "      <td>Norway</td>\n",
              "      <td>7.522</td>\n",
              "      <td>0.03880</td>\n",
              "    </tr>\n",
              "    <tr>\n",
              "      <th>4</th>\n",
              "      <td>2016</td>\n",
              "      <td>Denmark</td>\n",
              "      <td>7.526</td>\n",
              "      <td>NaN</td>\n",
              "    </tr>\n",
              "    <tr>\n",
              "      <th>5</th>\n",
              "      <td>2016</td>\n",
              "      <td>Switzerland</td>\n",
              "      <td>7.509</td>\n",
              "      <td>NaN</td>\n",
              "    </tr>\n",
              "    <tr>\n",
              "      <th>6</th>\n",
              "      <td>2016</td>\n",
              "      <td>Iceland</td>\n",
              "      <td>7.501</td>\n",
              "      <td>NaN</td>\n",
              "    </tr>\n",
              "  </tbody>\n",
              "</table>\n",
              "</div>"
            ],
            "text/plain": [
              "   Year      Country  Happiness Score  Standard Error\n",
              "0  2015  Switzerland            7.587         0.03411\n",
              "1  2015      Iceland            7.561         0.04884\n",
              "2  2015      Denmark            7.527         0.03328\n",
              "3  2015       Norway            7.522         0.03880\n",
              "4  2016      Denmark            7.526             NaN\n",
              "5  2016  Switzerland            7.509             NaN\n",
              "6  2016      Iceland            7.501             NaN"
            ]
          },
          "metadata": {
            "tags": []
          },
          "execution_count": 36
        }
      ]
    },
    {
      "cell_type": "markdown",
      "metadata": {
        "id": "-EPio1AsY99R"
      },
      "source": [
        "## Joining Dataframes with the Merge Function "
      ]
    },
    {
      "cell_type": "code",
      "metadata": {
        "id": "fjADQNcQYwr9"
      },
      "source": [
        "three_2015 = happiness2015[['Country','Happiness Rank','Year']].iloc[2:5]\n",
        "three_2016 = happiness2016[['Country','Happiness Rank','Year']].iloc[2:5]"
      ],
      "execution_count": null,
      "outputs": []
    },
    {
      "cell_type": "code",
      "metadata": {
        "colab": {
          "base_uri": "https://localhost:8080/"
        },
        "id": "ROyJ5OzcaCMz",
        "outputId": "b1dc00c3-cf0b-40f6-faa1-41c1b0094b7c"
      },
      "source": [
        "print(three_2015)\n",
        "print('\\n')\n",
        "print(three_2016)"
      ],
      "execution_count": null,
      "outputs": [
        {
          "output_type": "stream",
          "text": [
            "   Country  Happiness Rank  Year\n",
            "2  Denmark               3  2015\n",
            "3   Norway               4  2015\n",
            "4   Canada               5  2015\n",
            "\n",
            "\n",
            "   Country  Happiness Rank  Year\n",
            "2  Iceland               3  2016\n",
            "3   Norway               4  2016\n",
            "4  Finland               5  2016\n"
          ],
          "name": "stdout"
        }
      ]
    },
    {
      "cell_type": "code",
      "metadata": {
        "id": "gUmuGTbTaFcB"
      },
      "source": [
        "merged = pd.merge(left=three_2015, right=three_2016, on='Country')"
      ],
      "execution_count": null,
      "outputs": []
    },
    {
      "cell_type": "code",
      "metadata": {
        "colab": {
          "base_uri": "https://localhost:8080/",
          "height": 77
        },
        "id": "8jM4Yx7IaajM",
        "outputId": "808ea437-bfc3-43d2-c440-d62df1d5c351"
      },
      "source": [
        "merged"
      ],
      "execution_count": null,
      "outputs": [
        {
          "output_type": "execute_result",
          "data": {
            "text/html": [
              "<div>\n",
              "<style scoped>\n",
              "    .dataframe tbody tr th:only-of-type {\n",
              "        vertical-align: middle;\n",
              "    }\n",
              "\n",
              "    .dataframe tbody tr th {\n",
              "        vertical-align: top;\n",
              "    }\n",
              "\n",
              "    .dataframe thead th {\n",
              "        text-align: right;\n",
              "    }\n",
              "</style>\n",
              "<table border=\"1\" class=\"dataframe\">\n",
              "  <thead>\n",
              "    <tr style=\"text-align: right;\">\n",
              "      <th></th>\n",
              "      <th>Country</th>\n",
              "      <th>Happiness Rank_x</th>\n",
              "      <th>Year_x</th>\n",
              "      <th>Happiness Rank_y</th>\n",
              "      <th>Year_y</th>\n",
              "    </tr>\n",
              "  </thead>\n",
              "  <tbody>\n",
              "    <tr>\n",
              "      <th>0</th>\n",
              "      <td>Norway</td>\n",
              "      <td>4</td>\n",
              "      <td>2015</td>\n",
              "      <td>4</td>\n",
              "      <td>2016</td>\n",
              "    </tr>\n",
              "  </tbody>\n",
              "</table>\n",
              "</div>"
            ],
            "text/plain": [
              "  Country  Happiness Rank_x  Year_x  Happiness Rank_y  Year_y\n",
              "0  Norway                 4    2015                 4    2016"
            ]
          },
          "metadata": {
            "tags": []
          },
          "execution_count": 40
        }
      ]
    },
    {
      "cell_type": "markdown",
      "metadata": {
        "id": "dPxS9jr-b7i8"
      },
      "source": [
        "## Joining on Columns with the Merge Function"
      ]
    },
    {
      "cell_type": "code",
      "metadata": {
        "colab": {
          "base_uri": "https://localhost:8080/"
        },
        "id": "0FdiCc82absM",
        "outputId": "8fd72982-99f1-4745-e863-6a79ece5232c"
      },
      "source": [
        "# how option\n",
        "merged_left = pd.merge(left=three_2015, right=three_2016, how='left', on='Country')\n",
        "merged_left_updated = pd.merge(left=three_2016, right=three_2015, how='left', on='Country')\n",
        "\n",
        "print(merged_left)\n",
        "print('\\n')\n",
        "print(merged_left_updated)"
      ],
      "execution_count": null,
      "outputs": [
        {
          "output_type": "stream",
          "text": [
            "   Country  Happiness Rank_x  Year_x  Happiness Rank_y  Year_y\n",
            "0  Denmark                 3    2015               NaN     NaN\n",
            "1   Norway                 4    2015               4.0  2016.0\n",
            "2   Canada                 5    2015               NaN     NaN\n",
            "\n",
            "\n",
            "   Country  Happiness Rank_x  Year_x  Happiness Rank_y  Year_y\n",
            "0  Iceland                 3    2016               NaN     NaN\n",
            "1   Norway                 4    2016               4.0  2015.0\n",
            "2  Finland                 5    2016               NaN     NaN\n"
          ],
          "name": "stdout"
        }
      ]
    },
    {
      "cell_type": "code",
      "metadata": {
        "colab": {
          "base_uri": "https://localhost:8080/"
        },
        "id": "Y4b0EXV_dECn",
        "outputId": "cd681672-0cb1-4f4c-c4f2-82de418df0c3"
      },
      "source": [
        "# suffixes option\n",
        "merged_suffixes = pd.merge(left=three_2015, right=three_2016, suffixes=('_2015', '_2016'), how='left', on='Country')\n",
        "merged_updated_suffixes = pd.merge(left=three_2016, right=three_2015, suffixes=('_2016', '_2015'), how='left', on='Country')\n",
        "\n",
        "print(merged_suffixes)\n",
        "print('\\n')\n",
        "print(merged_updated_suffixes)"
      ],
      "execution_count": null,
      "outputs": [
        {
          "output_type": "stream",
          "text": [
            "   Country  Happiness Rank_2015  Year_2015  Happiness Rank_2016  Year_2016\n",
            "0  Denmark                    3       2015                  NaN        NaN\n",
            "1   Norway                    4       2015                  4.0     2016.0\n",
            "2   Canada                    5       2015                  NaN        NaN\n",
            "\n",
            "\n",
            "   Country  Happiness Rank_2016  Year_2016  Happiness Rank_2015  Year_2015\n",
            "0  Iceland                    3       2016                  NaN        NaN\n",
            "1   Norway                    4       2016                  4.0     2015.0\n",
            "2  Finland                    5       2016                  NaN        NaN\n"
          ],
          "name": "stdout"
        }
      ]
    },
    {
      "cell_type": "markdown",
      "metadata": {
        "id": "Yvgevw8PgLr4"
      },
      "source": [
        "## Join on Index with the Merge Function"
      ]
    },
    {
      "cell_type": "code",
      "metadata": {
        "colab": {
          "base_uri": "https://localhost:8080/"
        },
        "id": "jsSqvNCGfcF1",
        "outputId": "6950caf4-e90b-4f86-8868-49b3b86af0a1"
      },
      "source": [
        "four_2015 = happiness2015[['Country','Happiness Rank','Year']].iloc[2:6]\n",
        "three_2016 = happiness2016[['Country','Happiness Rank','Year']].iloc[2:5]\n",
        "\n",
        "merge_index = pd.merge(left=four_2015, right=three_2016, left_index=True, right_index=True, suffixes=('_2015', '_2016'))\n",
        "merge_index_left = pd.merge(left = four_2015,right = three_2016, left_index = True, right_index = True, suffixes = ('_2015','_2016'), how='left')\n",
        "\n",
        "print(merge_index)\n",
        "print('\\n')\n",
        "print(merge_index_left)"
      ],
      "execution_count": null,
      "outputs": [
        {
          "output_type": "stream",
          "text": [
            "  Country_2015  Happiness Rank_2015  ...  Happiness Rank_2016 Year_2016\n",
            "2      Denmark                    3  ...                    3      2016\n",
            "3       Norway                    4  ...                    4      2016\n",
            "4       Canada                    5  ...                    5      2016\n",
            "\n",
            "[3 rows x 6 columns]\n",
            "\n",
            "\n",
            "  Country_2015  Happiness Rank_2015  ...  Happiness Rank_2016 Year_2016\n",
            "2      Denmark                    3  ...                  3.0    2016.0\n",
            "3       Norway                    4  ...                  4.0    2016.0\n",
            "4       Canada                    5  ...                  5.0    2016.0\n",
            "5      Finland                    6  ...                  NaN       NaN\n",
            "\n",
            "[4 rows x 6 columns]\n"
          ],
          "name": "stdout"
        }
      ]
    },
    {
      "cell_type": "code",
      "metadata": {
        "colab": {
          "base_uri": "https://localhost:8080/"
        },
        "id": "hPApuGBBg-hF",
        "outputId": "5e36c0a3-b513-4620-d5bf-fdb76610fb62"
      },
      "source": [
        "merge_index = pd.merge(left = four_2015,right = three_2016, left_index = True, right_index = True, suffixes = ('_2015','_2016'))\n",
        "merge_index_left = pd.merge(left = four_2015,right = three_2016, left_index = True, right_index = True, suffixes = ('_2015','_2016'), how='left')\n",
        "\n",
        "print(merge_index)\n",
        "print('/n')\n",
        "print(merge_index_left)"
      ],
      "execution_count": null,
      "outputs": [
        {
          "output_type": "stream",
          "text": [
            "  Country_2015  Happiness Rank_2015  ...  Happiness Rank_2016 Year_2016\n",
            "2      Denmark                    3  ...                    3      2016\n",
            "3       Norway                    4  ...                    4      2016\n",
            "4       Canada                    5  ...                    5      2016\n",
            "\n",
            "[3 rows x 6 columns]\n",
            "/n\n",
            "  Country_2015  Happiness Rank_2015  ...  Happiness Rank_2016 Year_2016\n",
            "2      Denmark                    3  ...                  3.0    2016.0\n",
            "3       Norway                    4  ...                  4.0    2016.0\n",
            "4       Canada                    5  ...                  5.0    2016.0\n",
            "5      Finland                    6  ...                  NaN       NaN\n",
            "\n",
            "[4 rows x 6 columns]\n"
          ],
          "name": "stdout"
        }
      ]
    },
    {
      "cell_type": "markdown",
      "metadata": {
        "id": "7G0mPrHmniGC"
      },
      "source": [
        "![Untitled1.png](data:image/png;base64,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)"
      ]
    },
    {
      "cell_type": "markdown",
      "metadata": {
        "id": "qgDTXNz1lQ7d"
      },
      "source": [
        "## Challenge: Combine Data and Create a Visualization"
      ]
    },
    {
      "cell_type": "code",
      "metadata": {
        "colab": {
          "base_uri": "https://localhost:8080/",
          "height": 373
        },
        "id": "_yHBmpVjjjXm",
        "outputId": "56f4d42f-aec7-4f32-bc1e-1ff1421792b3"
      },
      "source": [
        "means = happiness2015.pivot_table('Happiness Score', 'Region', aggfunc=np.mean)\n",
        "means"
      ],
      "execution_count": null,
      "outputs": [
        {
          "output_type": "execute_result",
          "data": {
            "text/html": [
              "<div>\n",
              "<style scoped>\n",
              "    .dataframe tbody tr th:only-of-type {\n",
              "        vertical-align: middle;\n",
              "    }\n",
              "\n",
              "    .dataframe tbody tr th {\n",
              "        vertical-align: top;\n",
              "    }\n",
              "\n",
              "    .dataframe thead th {\n",
              "        text-align: right;\n",
              "    }\n",
              "</style>\n",
              "<table border=\"1\" class=\"dataframe\">\n",
              "  <thead>\n",
              "    <tr style=\"text-align: right;\">\n",
              "      <th></th>\n",
              "      <th>Happiness Score</th>\n",
              "    </tr>\n",
              "    <tr>\n",
              "      <th>Region</th>\n",
              "      <th></th>\n",
              "    </tr>\n",
              "  </thead>\n",
              "  <tbody>\n",
              "    <tr>\n",
              "      <th>Australia and New Zealand</th>\n",
              "      <td>7.285000</td>\n",
              "    </tr>\n",
              "    <tr>\n",
              "      <th>Central and Eastern Europe</th>\n",
              "      <td>5.332931</td>\n",
              "    </tr>\n",
              "    <tr>\n",
              "      <th>Eastern Asia</th>\n",
              "      <td>5.626167</td>\n",
              "    </tr>\n",
              "    <tr>\n",
              "      <th>Latin America and Caribbean</th>\n",
              "      <td>6.144682</td>\n",
              "    </tr>\n",
              "    <tr>\n",
              "      <th>Middle East and Northern Africa</th>\n",
              "      <td>5.406900</td>\n",
              "    </tr>\n",
              "    <tr>\n",
              "      <th>North America</th>\n",
              "      <td>7.273000</td>\n",
              "    </tr>\n",
              "    <tr>\n",
              "      <th>Southeastern Asia</th>\n",
              "      <td>5.317444</td>\n",
              "    </tr>\n",
              "    <tr>\n",
              "      <th>Southern Asia</th>\n",
              "      <td>4.580857</td>\n",
              "    </tr>\n",
              "    <tr>\n",
              "      <th>Sub-Saharan Africa</th>\n",
              "      <td>4.202800</td>\n",
              "    </tr>\n",
              "    <tr>\n",
              "      <th>Western Europe</th>\n",
              "      <td>6.689619</td>\n",
              "    </tr>\n",
              "  </tbody>\n",
              "</table>\n",
              "</div>"
            ],
            "text/plain": [
              "                                 Happiness Score\n",
              "Region                                          \n",
              "Australia and New Zealand               7.285000\n",
              "Central and Eastern Europe              5.332931\n",
              "Eastern Asia                            5.626167\n",
              "Latin America and Caribbean             6.144682\n",
              "Middle East and Northern Africa         5.406900\n",
              "North America                           7.273000\n",
              "Southeastern Asia                       5.317444\n",
              "Southern Asia                           4.580857\n",
              "Sub-Saharan Africa                      4.202800\n",
              "Western Europe                          6.689619"
            ]
          },
          "metadata": {
            "tags": []
          },
          "execution_count": 45
        }
      ]
    },
    {
      "cell_type": "code",
      "metadata": {
        "colab": {
          "base_uri": "https://localhost:8080/",
          "height": 298
        },
        "id": "tjuQHVC7lpQg",
        "outputId": "c74de881-0ab6-470c-edee-c23ac2d8b5d5"
      },
      "source": [
        "means.plot(kind='barh', title='Mean Happiness Scores by Region', xlim=(0,10), legend=False)"
      ],
      "execution_count": null,
      "outputs": [
        {
          "output_type": "execute_result",
          "data": {
            "text/plain": [
              "<matplotlib.axes._subplots.AxesSubplot at 0x7f19924f8510>"
            ]
          },
          "metadata": {
            "tags": []
          },
          "execution_count": 46
        },
        {
          "output_type": "display_data",
          "data": {
            "image/png": "[encoded data removed]",
            "text/plain": [
              "<Figure size 432x288 with 1 Axes>"
            ]
          },
          "metadata": {
            "tags": [],
            "needs_background": "light"
          }
        }
      ]
    },
    {
      "cell_type": "code",
      "metadata": {
        "colab": {
          "base_uri": "https://localhost:8080/"
        },
        "id": "iJZRlJ4YmPpU",
        "outputId": "a4623608-9100-4ba0-c9c1-88dffec663b3"
      },
      "source": [
        "happiness2017.columns"
      ],
      "execution_count": null,
      "outputs": [
        {
          "output_type": "execute_result",
          "data": {
            "text/plain": [
              "Index(['Country', 'Happiness.Rank', 'Happiness.Score', 'Whisker.high',\n",
              "       'Whisker.low', 'Economy..GDP.per.Capita.', 'Family',\n",
              "       'Health..Life.Expectancy.', 'Freedom', 'Generosity',\n",
              "       'Trust..Government.Corruption.', 'Dystopia.Residual', 'Year'],\n",
              "      dtype='object')"
            ]
          },
          "metadata": {
            "tags": []
          },
          "execution_count": 47
        }
      ]
    },
    {
      "cell_type": "code",
      "metadata": {
        "id": "rqMoOxLulyt_"
      },
      "source": [
        "happiness2017.rename(columns={'Happiness.Score':'Happiness Score'}, inplace=True)"
      ],
      "execution_count": null,
      "outputs": []
    },
    {
      "cell_type": "code",
      "metadata": {
        "colab": {
          "base_uri": "https://localhost:8080/",
          "height": 590
        },
        "id": "MS0BiSF3mgOK",
        "outputId": "4f73158f-9596-4d97-98db-11c687f3450e"
      },
      "source": [
        "combined = pd.concat([happiness2015, happiness2016, happiness2017], axis=0)\n",
        "combined"
      ],
      "execution_count": null,
      "outputs": [
        {
          "output_type": "execute_result",
          "data": {
            "text/html": [
              "<div>\n",
              "<style scoped>\n",
              "    .dataframe tbody tr th:only-of-type {\n",
              "        vertical-align: middle;\n",
              "    }\n",
              "\n",
              "    .dataframe tbody tr th {\n",
              "        vertical-align: top;\n",
              "    }\n",
              "\n",
              "    .dataframe thead th {\n",
              "        text-align: right;\n",
              "    }\n",
              "</style>\n",
              "<table border=\"1\" class=\"dataframe\">\n",
              "  <thead>\n",
              "    <tr style=\"text-align: right;\">\n",
              "      <th></th>\n",
              "      <th>Country</th>\n",
              "      <th>Region</th>\n",
              "      <th>Happiness Rank</th>\n",
              "      <th>Happiness Score</th>\n",
              "      <th>Standard Error</th>\n",
              "      <th>Economy (GDP per Capita)</th>\n",
              "      <th>Family</th>\n",
              "      <th>Health (Life Expectancy)</th>\n",
              "      <th>Freedom</th>\n",
              "      <th>Trust (Government Corruption)</th>\n",
              "      <th>Generosity</th>\n",
              "      <th>Dystopia Residual</th>\n",
              "      <th>Year</th>\n",
              "      <th>Lower Confidence Interval</th>\n",
              "      <th>Upper Confidence Interval</th>\n",
              "      <th>Happiness.Rank</th>\n",
              "      <th>Whisker.high</th>\n",
              "      <th>Whisker.low</th>\n",
              "      <th>Economy..GDP.per.Capita.</th>\n",
              "      <th>Health..Life.Expectancy.</th>\n",
              "      <th>Trust..Government.Corruption.</th>\n",
              "      <th>Dystopia.Residual</th>\n",
              "    </tr>\n",
              "  </thead>\n",
              "  <tbody>\n",
              "    <tr>\n",
              "      <th>0</th>\n",
              "      <td>Switzerland</td>\n",
              "      <td>Western Europe</td>\n",
              "      <td>1.0</td>\n",
              "      <td>7.587</td>\n",
              "      <td>0.03411</td>\n",
              "      <td>1.39651</td>\n",
              "      <td>1.349510</td>\n",
              "      <td>0.94143</td>\n",
              "      <td>0.665570</td>\n",
              "      <td>0.41978</td>\n",
              "      <td>0.296780</td>\n",
              "      <td>2.51738</td>\n",
              "      <td>2015</td>\n",
              "      <td>NaN</td>\n",
              "      <td>NaN</td>\n",
              "      <td>NaN</td>\n",
              "      <td>NaN</td>\n",
              "      <td>NaN</td>\n",
              "      <td>NaN</td>\n",
              "      <td>NaN</td>\n",
              "      <td>NaN</td>\n",
              "      <td>NaN</td>\n",
              "    </tr>\n",
              "    <tr>\n",
              "      <th>1</th>\n",
              "      <td>Iceland</td>\n",
              "      <td>Western Europe</td>\n",
              "      <td>2.0</td>\n",
              "      <td>7.561</td>\n",
              "      <td>0.04884</td>\n",
              "      <td>1.30232</td>\n",
              "      <td>1.402230</td>\n",
              "      <td>0.94784</td>\n",
              "      <td>0.628770</td>\n",
              "      <td>0.14145</td>\n",
              "      <td>0.436300</td>\n",
              "      <td>2.70201</td>\n",
              "      <td>2015</td>\n",
              "      <td>NaN</td>\n",
              "      <td>NaN</td>\n",
              "      <td>NaN</td>\n",
              "      <td>NaN</td>\n",
              "      <td>NaN</td>\n",
              "      <td>NaN</td>\n",
              "      <td>NaN</td>\n",
              "      <td>NaN</td>\n",
              "      <td>NaN</td>\n",
              "    </tr>\n",
              "    <tr>\n",
              "      <th>2</th>\n",
              "      <td>Denmark</td>\n",
              "      <td>Western Europe</td>\n",
              "      <td>3.0</td>\n",
              "      <td>7.527</td>\n",
              "      <td>0.03328</td>\n",
              "      <td>1.32548</td>\n",
              "      <td>1.360580</td>\n",
              "      <td>0.87464</td>\n",
              "      <td>0.649380</td>\n",
              "      <td>0.48357</td>\n",
              "      <td>0.341390</td>\n",
              "      <td>2.49204</td>\n",
              "      <td>2015</td>\n",
              "      <td>NaN</td>\n",
              "      <td>NaN</td>\n",
              "      <td>NaN</td>\n",
              "      <td>NaN</td>\n",
              "      <td>NaN</td>\n",
              "      <td>NaN</td>\n",
              "      <td>NaN</td>\n",
              "      <td>NaN</td>\n",
              "      <td>NaN</td>\n",
              "    </tr>\n",
              "    <tr>\n",
              "      <th>3</th>\n",
              "      <td>Norway</td>\n",
              "      <td>Western Europe</td>\n",
              "      <td>4.0</td>\n",
              "      <td>7.522</td>\n",
              "      <td>0.03880</td>\n",
              "      <td>1.45900</td>\n",
              "      <td>1.330950</td>\n",
              "      <td>0.88521</td>\n",
              "      <td>0.669730</td>\n",
              "      <td>0.36503</td>\n",
              "      <td>0.346990</td>\n",
              "      <td>2.46531</td>\n",
              "      <td>2015</td>\n",
              "      <td>NaN</td>\n",
              "      <td>NaN</td>\n",
              "      <td>NaN</td>\n",
              "      <td>NaN</td>\n",
              "      <td>NaN</td>\n",
              "      <td>NaN</td>\n",
              "      <td>NaN</td>\n",
              "      <td>NaN</td>\n",
              "      <td>NaN</td>\n",
              "    </tr>\n",
              "    <tr>\n",
              "      <th>4</th>\n",
              "      <td>Canada</td>\n",
              "      <td>North America</td>\n",
              "      <td>5.0</td>\n",
              "      <td>7.427</td>\n",
              "      <td>0.03553</td>\n",
              "      <td>1.32629</td>\n",
              "      <td>1.322610</td>\n",
              "      <td>0.90563</td>\n",
              "      <td>0.632970</td>\n",
              "      <td>0.32957</td>\n",
              "      <td>0.458110</td>\n",
              "      <td>2.45176</td>\n",
              "      <td>2015</td>\n",
              "      <td>NaN</td>\n",
              "      <td>NaN</td>\n",
              "      <td>NaN</td>\n",
              "      <td>NaN</td>\n",
              "      <td>NaN</td>\n",
              "      <td>NaN</td>\n",
              "      <td>NaN</td>\n",
              "      <td>NaN</td>\n",
              "      <td>NaN</td>\n",
              "    </tr>\n",
              "    <tr>\n",
              "      <th>...</th>\n",
              "      <td>...</td>\n",
              "      <td>...</td>\n",
              "      <td>...</td>\n",
              "      <td>...</td>\n",
              "      <td>...</td>\n",
              "      <td>...</td>\n",
              "      <td>...</td>\n",
              "      <td>...</td>\n",
              "      <td>...</td>\n",
              "      <td>...</td>\n",
              "      <td>...</td>\n",
              "      <td>...</td>\n",
              "      <td>...</td>\n",
              "      <td>...</td>\n",
              "      <td>...</td>\n",
              "      <td>...</td>\n",
              "      <td>...</td>\n",
              "      <td>...</td>\n",
              "      <td>...</td>\n",
              "      <td>...</td>\n",
              "      <td>...</td>\n",
              "      <td>...</td>\n",
              "    </tr>\n",
              "    <tr>\n",
              "      <th>150</th>\n",
              "      <td>Rwanda</td>\n",
              "      <td>NaN</td>\n",
              "      <td>NaN</td>\n",
              "      <td>3.471</td>\n",
              "      <td>NaN</td>\n",
              "      <td>NaN</td>\n",
              "      <td>0.945707</td>\n",
              "      <td>NaN</td>\n",
              "      <td>0.581844</td>\n",
              "      <td>NaN</td>\n",
              "      <td>0.252756</td>\n",
              "      <td>NaN</td>\n",
              "      <td>2017</td>\n",
              "      <td>NaN</td>\n",
              "      <td>NaN</td>\n",
              "      <td>151.0</td>\n",
              "      <td>3.543030</td>\n",
              "      <td>3.398970</td>\n",
              "      <td>0.368746</td>\n",
              "      <td>0.326425</td>\n",
              "      <td>0.455220</td>\n",
              "      <td>0.540061</td>\n",
              "    </tr>\n",
              "    <tr>\n",
              "      <th>151</th>\n",
              "      <td>Syria</td>\n",
              "      <td>NaN</td>\n",
              "      <td>NaN</td>\n",
              "      <td>3.462</td>\n",
              "      <td>NaN</td>\n",
              "      <td>NaN</td>\n",
              "      <td>0.396103</td>\n",
              "      <td>NaN</td>\n",
              "      <td>0.081539</td>\n",
              "      <td>NaN</td>\n",
              "      <td>0.493664</td>\n",
              "      <td>NaN</td>\n",
              "      <td>2017</td>\n",
              "      <td>NaN</td>\n",
              "      <td>NaN</td>\n",
              "      <td>152.0</td>\n",
              "      <td>3.663669</td>\n",
              "      <td>3.260331</td>\n",
              "      <td>0.777153</td>\n",
              "      <td>0.500533</td>\n",
              "      <td>0.151347</td>\n",
              "      <td>1.061574</td>\n",
              "    </tr>\n",
              "    <tr>\n",
              "      <th>152</th>\n",
              "      <td>Tanzania</td>\n",
              "      <td>NaN</td>\n",
              "      <td>NaN</td>\n",
              "      <td>3.349</td>\n",
              "      <td>NaN</td>\n",
              "      <td>NaN</td>\n",
              "      <td>1.041990</td>\n",
              "      <td>NaN</td>\n",
              "      <td>0.390018</td>\n",
              "      <td>NaN</td>\n",
              "      <td>0.354256</td>\n",
              "      <td>NaN</td>\n",
              "      <td>2017</td>\n",
              "      <td>NaN</td>\n",
              "      <td>NaN</td>\n",
              "      <td>153.0</td>\n",
              "      <td>3.461430</td>\n",
              "      <td>3.236570</td>\n",
              "      <td>0.511136</td>\n",
              "      <td>0.364509</td>\n",
              "      <td>0.066035</td>\n",
              "      <td>0.621130</td>\n",
              "    </tr>\n",
              "    <tr>\n",
              "      <th>153</th>\n",
              "      <td>Burundi</td>\n",
              "      <td>NaN</td>\n",
              "      <td>NaN</td>\n",
              "      <td>2.905</td>\n",
              "      <td>NaN</td>\n",
              "      <td>NaN</td>\n",
              "      <td>0.629794</td>\n",
              "      <td>NaN</td>\n",
              "      <td>0.059901</td>\n",
              "      <td>NaN</td>\n",
              "      <td>0.204435</td>\n",
              "      <td>NaN</td>\n",
              "      <td>2017</td>\n",
              "      <td>NaN</td>\n",
              "      <td>NaN</td>\n",
              "      <td>154.0</td>\n",
              "      <td>3.074690</td>\n",
              "      <td>2.735310</td>\n",
              "      <td>0.091623</td>\n",
              "      <td>0.151611</td>\n",
              "      <td>0.084148</td>\n",
              "      <td>1.683024</td>\n",
              "    </tr>\n",
              "    <tr>\n",
              "      <th>154</th>\n",
              "      <td>Central African Republic</td>\n",
              "      <td>NaN</td>\n",
              "      <td>NaN</td>\n",
              "      <td>2.693</td>\n",
              "      <td>NaN</td>\n",
              "      <td>NaN</td>\n",
              "      <td>0.000000</td>\n",
              "      <td>NaN</td>\n",
              "      <td>0.270842</td>\n",
              "      <td>NaN</td>\n",
              "      <td>0.280876</td>\n",
              "      <td>NaN</td>\n",
              "      <td>2017</td>\n",
              "      <td>NaN</td>\n",
              "      <td>NaN</td>\n",
              "      <td>155.0</td>\n",
              "      <td>2.864884</td>\n",
              "      <td>2.521116</td>\n",
              "      <td>0.000000</td>\n",
              "      <td>0.018773</td>\n",
              "      <td>0.056565</td>\n",
              "      <td>2.066005</td>\n",
              "    </tr>\n",
              "  </tbody>\n",
              "</table>\n",
              "<p>470 rows × 22 columns</p>\n",
              "</div>"
            ],
            "text/plain": [
              "                      Country  ... Dystopia.Residual\n",
              "0                 Switzerland  ...               NaN\n",
              "1                     Iceland  ...               NaN\n",
              "2                     Denmark  ...               NaN\n",
              "3                      Norway  ...               NaN\n",
              "4                      Canada  ...               NaN\n",
              "..                        ...  ...               ...\n",
              "150                    Rwanda  ...          0.540061\n",
              "151                     Syria  ...          1.061574\n",
              "152                  Tanzania  ...          0.621130\n",
              "153                   Burundi  ...          1.683024\n",
              "154  Central African Republic  ...          2.066005\n",
              "\n",
              "[470 rows x 22 columns]"
            ]
          },
          "metadata": {
            "tags": []
          },
          "execution_count": 49
        }
      ]
    },
    {
      "cell_type": "code",
      "metadata": {
        "colab": {
          "base_uri": "https://localhost:8080/",
          "height": 166
        },
        "id": "e6Y1GDSNnLbJ",
        "outputId": "438f8236-d414-4b42-f272-d31864f241e3"
      },
      "source": [
        "pivot_table_combined = combined.pivot_table('Happiness Score', 'Year')\n",
        "pivot_table_combined"
      ],
      "execution_count": null,
      "outputs": [
        {
          "output_type": "execute_result",
          "data": {
            "text/html": [
              "<div>\n",
              "<style scoped>\n",
              "    .dataframe tbody tr th:only-of-type {\n",
              "        vertical-align: middle;\n",
              "    }\n",
              "\n",
              "    .dataframe tbody tr th {\n",
              "        vertical-align: top;\n",
              "    }\n",
              "\n",
              "    .dataframe thead th {\n",
              "        text-align: right;\n",
              "    }\n",
              "</style>\n",
              "<table border=\"1\" class=\"dataframe\">\n",
              "  <thead>\n",
              "    <tr style=\"text-align: right;\">\n",
              "      <th></th>\n",
              "      <th>Happiness Score</th>\n",
              "    </tr>\n",
              "    <tr>\n",
              "      <th>Year</th>\n",
              "      <th></th>\n",
              "    </tr>\n",
              "  </thead>\n",
              "  <tbody>\n",
              "    <tr>\n",
              "      <th>2015</th>\n",
              "      <td>5.375734</td>\n",
              "    </tr>\n",
              "    <tr>\n",
              "      <th>2016</th>\n",
              "      <td>5.382185</td>\n",
              "    </tr>\n",
              "    <tr>\n",
              "      <th>2017</th>\n",
              "      <td>5.354019</td>\n",
              "    </tr>\n",
              "  </tbody>\n",
              "</table>\n",
              "</div>"
            ],
            "text/plain": [
              "      Happiness Score\n",
              "Year                 \n",
              "2015         5.375734\n",
              "2016         5.382185\n",
              "2017         5.354019"
            ]
          },
          "metadata": {
            "tags": []
          },
          "execution_count": 50
        }
      ]
    },
    {
      "cell_type": "code",
      "metadata": {
        "colab": {
          "base_uri": "https://localhost:8080/",
          "height": 298
        },
        "id": "_XK9XWnJndge",
        "outputId": "4bda5f38-68f9-4172-96d4-9e5d0f0b8829"
      },
      "source": [
        "pivot_table_combined.plot(kind='barh', title='Mean Happiness Scores by Year', xlim=(0,10), legend=True)"
      ],
      "execution_count": null,
      "outputs": [
        {
          "output_type": "execute_result",
          "data": {
            "text/plain": [
              "<matplotlib.axes._subplots.AxesSubplot at 0x7f1992c738d0>"
            ]
          },
          "metadata": {
            "tags": []
          },
          "execution_count": 51
        },
        {
          "output_type": "display_data",
          "data": {
            "image/png": "[encoded data removed]",
            "text/plain": [
              "<Figure size 432x288 with 1 Axes>"
            ]
          },
          "metadata": {
            "tags": [],
            "needs_background": "light"
          }
        }
      ]
    },
    {
      "cell_type": "markdown",
      "metadata": {
        "id": "NKHy4Lu676NR"
      },
      "source": [
        "# Transforming Data With Pandas"
      ]
    },
    {
      "cell_type": "markdown",
      "metadata": {
        "id": "OybGzqdf9Xvh"
      },
      "source": [
        "Use **World Happiness 2015** dataset .descriptions for some of the other columns we'll work with in this mission:\n",
        "\n",
        "* Country - Name of the country\n",
        "* Region - Name of the region the country belongs to\n",
        "* Happiness Rank - The rank of the country, as determined by its happiness score\n",
        "* Happiness Score - A score assigned to each country based on the answers to a poll question that asks respondents to rate their happiness on a scale of 0-10\n",
        "* Dystopia Residual- Represents the extent to which the factors above over or under explain the happiness score. Don't worry too much about this column - you won't need in depth knowledge of it to complete this mission."
      ]
    },
    {
      "cell_type": "code",
      "metadata": {
        "id": "hmiNahf58CIM"
      },
      "source": [
        "mapping = {'Economy (GDP per Capita)': 'Economy', 'Health (Life Expectancy)': 'Health', 'Trust (Government Corruption)': 'Trust' }\n",
        "happiness2015.rename(mapping, axis=1, inplace=True)"
      ],
      "execution_count": null,
      "outputs": []
    },
    {
      "cell_type": "markdown",
      "metadata": {
        "id": "Hpeb6O16Bc4A"
      },
      "source": [
        "## Apply a Function Element-wise Using the Map and Apply Methods. map(), apply()"
      ]
    },
    {
      "cell_type": "code",
      "metadata": {
        "colab": {
          "base_uri": "https://localhost:8080/"
        },
        "id": "uyGR5XGM-5lM",
        "outputId": "28c257d7-b28a-402d-e438-c63a08c33a3e"
      },
      "source": [
        "def label(element):\n",
        "    if element > 1:\n",
        "        return 'High'\n",
        "    else:\n",
        "        return 'Low'\n",
        "    \n",
        "economy_impact_map = happiness2015['Economy'].map(label)\n",
        "economy_impact_apply = happiness2015['Economy'].apply(label)\n",
        "\n",
        "economy_impact_map.equals(economy_impact_apply)"
      ],
      "execution_count": null,
      "outputs": [
        {
          "output_type": "execute_result",
          "data": {
            "text/plain": [
              "True"
            ]
          },
          "metadata": {
            "tags": []
          },
          "execution_count": 53
        }
      ]
    },
    {
      "cell_type": "markdown",
      "metadata": {
        "id": "0jcCBRVMF4H1"
      },
      "source": [
        "## Apply a Function Element-wise Using the Map and Apply Methods. map(), apply() Continued"
      ]
    },
    {
      "cell_type": "markdown",
      "metadata": {
        "id": "puJIFOieGj0_"
      },
      "source": [
        "Note that these methods don't modify the original series. If we want to work with the new series in the original dataframe, we must either assign the results back to the original column or create a new column. We recommend creating a new column, in case you need to reference the original values"
      ]
    },
    {
      "cell_type": "code",
      "metadata": {
        "id": "F1-10Ey_FERU"
      },
      "source": [
        "def label(element):\n",
        "    if element > 1:\n",
        "        return 'High'\n",
        "    else:\n",
        "        return 'Low'\n",
        "\n",
        "happiness2015['Economy Impact'] = happiness2015['Economy'].map(label)"
      ],
      "execution_count": null,
      "outputs": []
    },
    {
      "cell_type": "code",
      "metadata": {
        "colab": {
          "base_uri": "https://localhost:8080/",
          "height": 195
        },
        "id": "QY38YfhJGYJ6",
        "outputId": "1a3d0358-612a-42c7-dd1c-8f76284241f1"
      },
      "source": [
        "happiness2015[['Economy','Economy Impact']].head()"
      ],
      "execution_count": null,
      "outputs": [
        {
          "output_type": "execute_result",
          "data": {
            "text/html": [
              "<div>\n",
              "<style scoped>\n",
              "    .dataframe tbody tr th:only-of-type {\n",
              "        vertical-align: middle;\n",
              "    }\n",
              "\n",
              "    .dataframe tbody tr th {\n",
              "        vertical-align: top;\n",
              "    }\n",
              "\n",
              "    .dataframe thead th {\n",
              "        text-align: right;\n",
              "    }\n",
              "</style>\n",
              "<table border=\"1\" class=\"dataframe\">\n",
              "  <thead>\n",
              "    <tr style=\"text-align: right;\">\n",
              "      <th></th>\n",
              "      <th>Economy</th>\n",
              "      <th>Economy Impact</th>\n",
              "    </tr>\n",
              "  </thead>\n",
              "  <tbody>\n",
              "    <tr>\n",
              "      <th>0</th>\n",
              "      <td>1.39651</td>\n",
              "      <td>High</td>\n",
              "    </tr>\n",
              "    <tr>\n",
              "      <th>1</th>\n",
              "      <td>1.30232</td>\n",
              "      <td>High</td>\n",
              "    </tr>\n",
              "    <tr>\n",
              "      <th>2</th>\n",
              "      <td>1.32548</td>\n",
              "      <td>High</td>\n",
              "    </tr>\n",
              "    <tr>\n",
              "      <th>3</th>\n",
              "      <td>1.45900</td>\n",
              "      <td>High</td>\n",
              "    </tr>\n",
              "    <tr>\n",
              "      <th>4</th>\n",
              "      <td>1.32629</td>\n",
              "      <td>High</td>\n",
              "    </tr>\n",
              "  </tbody>\n",
              "</table>\n",
              "</div>"
            ],
            "text/plain": [
              "   Economy Economy Impact\n",
              "0  1.39651           High\n",
              "1  1.30232           High\n",
              "2  1.32548           High\n",
              "3  1.45900           High\n",
              "4  1.32629           High"
            ]
          },
          "metadata": {
            "tags": []
          },
          "execution_count": 55
        }
      ]
    },
    {
      "cell_type": "code",
      "metadata": {
        "id": "sm-ABPRlG0tn"
      },
      "source": [
        "def label(element, x):\n",
        "    if element > x:\n",
        "        return 'High'\n",
        "    else:\n",
        "        return 'Low'\n",
        "# economy_map = happiness2015['Economy'].map(label, x = .8)  # TypeError: map() got an unexpected keyword argument 'x'\n",
        "economy_impact_apply = happiness2015['Economy'].apply(label, x= .8)"
      ],
      "execution_count": null,
      "outputs": []
    },
    {
      "cell_type": "markdown",
      "metadata": {
        "id": "02A9Z5EaI47q"
      },
      "source": [
        " Series.apply() method to apply a function with additional arguments element-wise - the Series.map() method will return an error."
      ]
    },
    {
      "cell_type": "markdown",
      "metadata": {
        "id": "ZRJZIn0fJGzS"
      },
      "source": [
        "## Apply a Function Element-wise to Multiple Columns Using Applymap Method()"
      ]
    },
    {
      "cell_type": "code",
      "metadata": {
        "id": "Yua2W_oFJFXj"
      },
      "source": [
        "def label(element):\n",
        "    if element > 1:\n",
        "        return 'High'\n",
        "    else:\n",
        "        return 'Low'\n",
        "factors = ['Economy', 'Family', 'Health', 'Freedom', 'Trust', 'Generosity']\n",
        "factors_impact = happiness2015[factors].applymap(label)"
      ],
      "execution_count": null,
      "outputs": []
    },
    {
      "cell_type": "code",
      "metadata": {
        "colab": {
          "base_uri": "https://localhost:8080/",
          "height": 195
        },
        "id": "Fswk2EzJJcBN",
        "outputId": "56c289d3-0de6-460b-e460-387c2d688ec3"
      },
      "source": [
        "factors_impact.head()"
      ],
      "execution_count": null,
      "outputs": [
        {
          "output_type": "execute_result",
          "data": {
            "text/html": [
              "<div>\n",
              "<style scoped>\n",
              "    .dataframe tbody tr th:only-of-type {\n",
              "        vertical-align: middle;\n",
              "    }\n",
              "\n",
              "    .dataframe tbody tr th {\n",
              "        vertical-align: top;\n",
              "    }\n",
              "\n",
              "    .dataframe thead th {\n",
              "        text-align: right;\n",
              "    }\n",
              "</style>\n",
              "<table border=\"1\" class=\"dataframe\">\n",
              "  <thead>\n",
              "    <tr style=\"text-align: right;\">\n",
              "      <th></th>\n",
              "      <th>Economy</th>\n",
              "      <th>Family</th>\n",
              "      <th>Health</th>\n",
              "      <th>Freedom</th>\n",
              "      <th>Trust</th>\n",
              "      <th>Generosity</th>\n",
              "    </tr>\n",
              "  </thead>\n",
              "  <tbody>\n",
              "    <tr>\n",
              "      <th>0</th>\n",
              "      <td>High</td>\n",
              "      <td>High</td>\n",
              "      <td>Low</td>\n",
              "      <td>Low</td>\n",
              "      <td>Low</td>\n",
              "      <td>Low</td>\n",
              "    </tr>\n",
              "    <tr>\n",
              "      <th>1</th>\n",
              "      <td>High</td>\n",
              "      <td>High</td>\n",
              "      <td>Low</td>\n",
              "      <td>Low</td>\n",
              "      <td>Low</td>\n",
              "      <td>Low</td>\n",
              "    </tr>\n",
              "    <tr>\n",
              "      <th>2</th>\n",
              "      <td>High</td>\n",
              "      <td>High</td>\n",
              "      <td>Low</td>\n",
              "      <td>Low</td>\n",
              "      <td>Low</td>\n",
              "      <td>Low</td>\n",
              "    </tr>\n",
              "    <tr>\n",
              "      <th>3</th>\n",
              "      <td>High</td>\n",
              "      <td>High</td>\n",
              "      <td>Low</td>\n",
              "      <td>Low</td>\n",
              "      <td>Low</td>\n",
              "      <td>Low</td>\n",
              "    </tr>\n",
              "    <tr>\n",
              "      <th>4</th>\n",
              "      <td>High</td>\n",
              "      <td>High</td>\n",
              "      <td>Low</td>\n",
              "      <td>Low</td>\n",
              "      <td>Low</td>\n",
              "      <td>Low</td>\n",
              "    </tr>\n",
              "  </tbody>\n",
              "</table>\n",
              "</div>"
            ],
            "text/plain": [
              "  Economy Family Health Freedom Trust Generosity\n",
              "0    High   High    Low     Low   Low        Low\n",
              "1    High   High    Low     Low   Low        Low\n",
              "2    High   High    Low     Low   Low        Low\n",
              "3    High   High    Low     Low   Low        Low\n",
              "4    High   High    Low     Low   Low        Low"
            ]
          },
          "metadata": {
            "tags": []
          },
          "execution_count": 58
        }
      ]
    },
    {
      "cell_type": "markdown",
      "metadata": {
        "id": "8d0eIEJsLJHf"
      },
      "source": [
        "## Apply Functions along an Axis using the Apply method()"
      ]
    },
    {
      "cell_type": "code",
      "metadata": {
        "colab": {
          "base_uri": "https://localhost:8080/",
          "height": 106
        },
        "id": "FDYf1mTLKYnl",
        "outputId": "ae470b0a-9ba8-4cb7-8986-b3eb493ab061"
      },
      "source": [
        "factors_impact.apply(pd.value_counts)"
      ],
      "execution_count": null,
      "outputs": [
        {
          "output_type": "execute_result",
          "data": {
            "text/html": [
              "<div>\n",
              "<style scoped>\n",
              "    .dataframe tbody tr th:only-of-type {\n",
              "        vertical-align: middle;\n",
              "    }\n",
              "\n",
              "    .dataframe tbody tr th {\n",
              "        vertical-align: top;\n",
              "    }\n",
              "\n",
              "    .dataframe thead th {\n",
              "        text-align: right;\n",
              "    }\n",
              "</style>\n",
              "<table border=\"1\" class=\"dataframe\">\n",
              "  <thead>\n",
              "    <tr style=\"text-align: right;\">\n",
              "      <th></th>\n",
              "      <th>Economy</th>\n",
              "      <th>Family</th>\n",
              "      <th>Health</th>\n",
              "      <th>Freedom</th>\n",
              "      <th>Trust</th>\n",
              "      <th>Generosity</th>\n",
              "    </tr>\n",
              "  </thead>\n",
              "  <tbody>\n",
              "    <tr>\n",
              "      <th>High</th>\n",
              "      <td>66</td>\n",
              "      <td>89</td>\n",
              "      <td>2</td>\n",
              "      <td>NaN</td>\n",
              "      <td>NaN</td>\n",
              "      <td>NaN</td>\n",
              "    </tr>\n",
              "    <tr>\n",
              "      <th>Low</th>\n",
              "      <td>92</td>\n",
              "      <td>69</td>\n",
              "      <td>156</td>\n",
              "      <td>158.0</td>\n",
              "      <td>158.0</td>\n",
              "      <td>158.0</td>\n",
              "    </tr>\n",
              "  </tbody>\n",
              "</table>\n",
              "</div>"
            ],
            "text/plain": [
              "      Economy  Family  Health  Freedom  Trust  Generosity\n",
              "High       66      89       2      NaN    NaN         NaN\n",
              "Low        92      69     156    158.0  158.0       158.0"
            ]
          },
          "metadata": {
            "tags": []
          },
          "execution_count": 59
        }
      ]
    },
    {
      "cell_type": "markdown",
      "metadata": {
        "id": "FOct7OH5MEzT"
      },
      "source": [
        "Notice that we used the df.apply() method to transform multiple columns. This is only possible because the pd.value_counts function operates on a series. If we tried to use the df.apply() method to apply a function that works element-wise to multiple columns, we'd get an error:"
      ]
    },
    {
      "cell_type": "code",
      "metadata": {
        "colab": {
          "base_uri": "https://localhost:8080/",
          "height": 337
        },
        "id": "tQtIEfgjLhLV",
        "outputId": "3d0c9425-c7d5-44ad-9cb9-41d26ff39982"
      },
      "source": [
        "def label(element):\n",
        "    if element > 1:\n",
        "        return 'High'\n",
        "    else:\n",
        "        return 'Low'\n",
        "happiness2015[factors].apply(label)"
      ],
      "execution_count": null,
      "outputs": [
        {
          "output_type": "error",
          "ename": "ValueError",
          "evalue": "ignored",
          "traceback": [
            "\u001b[0;31m---------------------------------------------------------------------------\u001b[0m",
            "\u001b[0;31mValueError\u001b[0m                                Traceback (most recent call last)",
            "\u001b[0;32m<ipython-input-60-7ef4d66de6ba>\u001b[0m in \u001b[0;36m<module>\u001b[0;34m()\u001b[0m\n\u001b[1;32m      4\u001b[0m     \u001b[0;32melse\u001b[0m\u001b[0;34m:\u001b[0m\u001b[0;34m\u001b[0m\u001b[0;34m\u001b[0m\u001b[0m\n\u001b[1;32m      5\u001b[0m         \u001b[0;32mreturn\u001b[0m \u001b[0;34m'Low'\u001b[0m\u001b[0;34m\u001b[0m\u001b[0;34m\u001b[0m\u001b[0m\n\u001b[0;32m----> 6\u001b[0;31m \u001b[0mhappiness2015\u001b[0m\u001b[0;34m[\u001b[0m\u001b[0mfactors\u001b[0m\u001b[0;34m]\u001b[0m\u001b[0;34m.\u001b[0m\u001b[0mapply\u001b[0m\u001b[0;34m(\u001b[0m\u001b[0mlabel\u001b[0m\u001b[0;34m)\u001b[0m\u001b[0;34m\u001b[0m\u001b[0;34m\u001b[0m\u001b[0m\n\u001b[0m",
            "\u001b[0;32m/usr/local/lib/python3.7/dist-packages/pandas/core/frame.py\u001b[0m in \u001b[0;36mapply\u001b[0;34m(self, func, axis, raw, result_type, args, **kwds)\u001b[0m\n\u001b[1;32m   7550\u001b[0m             \u001b[0mkwds\u001b[0m\u001b[0;34m=\u001b[0m\u001b[0mkwds\u001b[0m\u001b[0;34m,\u001b[0m\u001b[0;34m\u001b[0m\u001b[0;34m\u001b[0m\u001b[0m\n\u001b[1;32m   7551\u001b[0m         )\n\u001b[0;32m-> 7552\u001b[0;31m         \u001b[0;32mreturn\u001b[0m \u001b[0mop\u001b[0m\u001b[0;34m.\u001b[0m\u001b[0mget_result\u001b[0m\u001b[0;34m(\u001b[0m\u001b[0;34m)\u001b[0m\u001b[0;34m\u001b[0m\u001b[0;34m\u001b[0m\u001b[0m\n\u001b[0m\u001b[1;32m   7553\u001b[0m \u001b[0;34m\u001b[0m\u001b[0m\n\u001b[1;32m   7554\u001b[0m     \u001b[0;32mdef\u001b[0m \u001b[0mapplymap\u001b[0m\u001b[0;34m(\u001b[0m\u001b[0mself\u001b[0m\u001b[0;34m,\u001b[0m \u001b[0mfunc\u001b[0m\u001b[0;34m)\u001b[0m \u001b[0;34m->\u001b[0m \u001b[0;34m\"DataFrame\"\u001b[0m\u001b[0;34m:\u001b[0m\u001b[0;34m\u001b[0m\u001b[0;34m\u001b[0m\u001b[0m\n",
            "\u001b[0;32m/usr/local/lib/python3.7/dist-packages/pandas/core/apply.py\u001b[0m in \u001b[0;36mget_result\u001b[0;34m(self)\u001b[0m\n\u001b[1;32m    183\u001b[0m             \u001b[0;32mreturn\u001b[0m \u001b[0mself\u001b[0m\u001b[0;34m.\u001b[0m\u001b[0mapply_raw\u001b[0m\u001b[0;34m(\u001b[0m\u001b[0;34m)\u001b[0m\u001b[0;34m\u001b[0m\u001b[0;34m\u001b[0m\u001b[0m\n\u001b[1;32m    184\u001b[0m \u001b[0;34m\u001b[0m\u001b[0m\n\u001b[0;32m--> 185\u001b[0;31m         \u001b[0;32mreturn\u001b[0m \u001b[0mself\u001b[0m\u001b[0;34m.\u001b[0m\u001b[0mapply_standard\u001b[0m\u001b[0;34m(\u001b[0m\u001b[0;34m)\u001b[0m\u001b[0;34m\u001b[0m\u001b[0;34m\u001b[0m\u001b[0m\n\u001b[0m\u001b[1;32m    186\u001b[0m \u001b[0;34m\u001b[0m\u001b[0m\n\u001b[1;32m    187\u001b[0m     \u001b[0;32mdef\u001b[0m \u001b[0mapply_empty_result\u001b[0m\u001b[0;34m(\u001b[0m\u001b[0mself\u001b[0m\u001b[0;34m)\u001b[0m\u001b[0;34m:\u001b[0m\u001b[0;34m\u001b[0m\u001b[0;34m\u001b[0m\u001b[0m\n",
            "\u001b[0;32m/usr/local/lib/python3.7/dist-packages/pandas/core/apply.py\u001b[0m in \u001b[0;36mapply_standard\u001b[0;34m(self)\u001b[0m\n\u001b[1;32m    274\u001b[0m \u001b[0;34m\u001b[0m\u001b[0m\n\u001b[1;32m    275\u001b[0m     \u001b[0;32mdef\u001b[0m \u001b[0mapply_standard\u001b[0m\u001b[0;34m(\u001b[0m\u001b[0mself\u001b[0m\u001b[0;34m)\u001b[0m\u001b[0;34m:\u001b[0m\u001b[0;34m\u001b[0m\u001b[0;34m\u001b[0m\u001b[0m\n\u001b[0;32m--> 276\u001b[0;31m         \u001b[0mresults\u001b[0m\u001b[0;34m,\u001b[0m \u001b[0mres_index\u001b[0m \u001b[0;34m=\u001b[0m \u001b[0mself\u001b[0m\u001b[0;34m.\u001b[0m\u001b[0mapply_series_generator\u001b[0m\u001b[0;34m(\u001b[0m\u001b[0;34m)\u001b[0m\u001b[0;34m\u001b[0m\u001b[0;34m\u001b[0m\u001b[0m\n\u001b[0m\u001b[1;32m    277\u001b[0m \u001b[0;34m\u001b[0m\u001b[0m\n\u001b[1;32m    278\u001b[0m         \u001b[0;31m# wrap results\u001b[0m\u001b[0;34m\u001b[0m\u001b[0;34m\u001b[0m\u001b[0;34m\u001b[0m\u001b[0m\n",
            "\u001b[0;32m/usr/local/lib/python3.7/dist-packages/pandas/core/apply.py\u001b[0m in \u001b[0;36mapply_series_generator\u001b[0;34m(self)\u001b[0m\n\u001b[1;32m    303\u001b[0m                 \u001b[0;32mfor\u001b[0m \u001b[0mi\u001b[0m\u001b[0;34m,\u001b[0m \u001b[0mv\u001b[0m \u001b[0;32min\u001b[0m \u001b[0menumerate\u001b[0m\u001b[0;34m(\u001b[0m\u001b[0mseries_gen\u001b[0m\u001b[0;34m)\u001b[0m\u001b[0;34m:\u001b[0m\u001b[0;34m\u001b[0m\u001b[0;34m\u001b[0m\u001b[0m\n\u001b[1;32m    304\u001b[0m                     \u001b[0;31m# ignore SettingWithCopy here in case the user mutates\u001b[0m\u001b[0;34m\u001b[0m\u001b[0;34m\u001b[0m\u001b[0;34m\u001b[0m\u001b[0m\n\u001b[0;32m--> 305\u001b[0;31m                     \u001b[0mresults\u001b[0m\u001b[0;34m[\u001b[0m\u001b[0mi\u001b[0m\u001b[0;34m]\u001b[0m \u001b[0;34m=\u001b[0m \u001b[0mself\u001b[0m\u001b[0;34m.\u001b[0m\u001b[0mf\u001b[0m\u001b[0;34m(\u001b[0m\u001b[0mv\u001b[0m\u001b[0;34m)\u001b[0m\u001b[0;34m\u001b[0m\u001b[0;34m\u001b[0m\u001b[0m\n\u001b[0m\u001b[1;32m    306\u001b[0m                     \u001b[0;32mif\u001b[0m \u001b[0misinstance\u001b[0m\u001b[0;34m(\u001b[0m\u001b[0mresults\u001b[0m\u001b[0;34m[\u001b[0m\u001b[0mi\u001b[0m\u001b[0;34m]\u001b[0m\u001b[0;34m,\u001b[0m \u001b[0mABCSeries\u001b[0m\u001b[0;34m)\u001b[0m\u001b[0;34m:\u001b[0m\u001b[0;34m\u001b[0m\u001b[0;34m\u001b[0m\u001b[0m\n\u001b[1;32m    307\u001b[0m                         \u001b[0;31m# If we have a view on v, we need to make a copy because\u001b[0m\u001b[0;34m\u001b[0m\u001b[0;34m\u001b[0m\u001b[0;34m\u001b[0m\u001b[0m\n",
            "\u001b[0;32m<ipython-input-60-7ef4d66de6ba>\u001b[0m in \u001b[0;36mlabel\u001b[0;34m(element)\u001b[0m\n\u001b[1;32m      1\u001b[0m \u001b[0;32mdef\u001b[0m \u001b[0mlabel\u001b[0m\u001b[0;34m(\u001b[0m\u001b[0melement\u001b[0m\u001b[0;34m)\u001b[0m\u001b[0;34m:\u001b[0m\u001b[0;34m\u001b[0m\u001b[0;34m\u001b[0m\u001b[0m\n\u001b[0;32m----> 2\u001b[0;31m     \u001b[0;32mif\u001b[0m \u001b[0melement\u001b[0m \u001b[0;34m>\u001b[0m \u001b[0;36m1\u001b[0m\u001b[0;34m:\u001b[0m\u001b[0;34m\u001b[0m\u001b[0;34m\u001b[0m\u001b[0m\n\u001b[0m\u001b[1;32m      3\u001b[0m         \u001b[0;32mreturn\u001b[0m \u001b[0;34m'High'\u001b[0m\u001b[0;34m\u001b[0m\u001b[0;34m\u001b[0m\u001b[0m\n\u001b[1;32m      4\u001b[0m     \u001b[0;32melse\u001b[0m\u001b[0;34m:\u001b[0m\u001b[0;34m\u001b[0m\u001b[0;34m\u001b[0m\u001b[0m\n\u001b[1;32m      5\u001b[0m         \u001b[0;32mreturn\u001b[0m \u001b[0;34m'Low'\u001b[0m\u001b[0;34m\u001b[0m\u001b[0;34m\u001b[0m\u001b[0m\n",
            "\u001b[0;32m/usr/local/lib/python3.7/dist-packages/pandas/core/generic.py\u001b[0m in \u001b[0;36m__nonzero__\u001b[0;34m(self)\u001b[0m\n\u001b[1;32m   1328\u001b[0m     \u001b[0;32mdef\u001b[0m \u001b[0m__nonzero__\u001b[0m\u001b[0;34m(\u001b[0m\u001b[0mself\u001b[0m\u001b[0;34m)\u001b[0m\u001b[0;34m:\u001b[0m\u001b[0;34m\u001b[0m\u001b[0;34m\u001b[0m\u001b[0m\n\u001b[1;32m   1329\u001b[0m         raise ValueError(\n\u001b[0;32m-> 1330\u001b[0;31m             \u001b[0;34mf\"The truth value of a {type(self).__name__} is ambiguous. \"\u001b[0m\u001b[0;34m\u001b[0m\u001b[0;34m\u001b[0m\u001b[0m\n\u001b[0m\u001b[1;32m   1331\u001b[0m             \u001b[0;34m\"Use a.empty, a.bool(), a.item(), a.any() or a.all().\"\u001b[0m\u001b[0;34m\u001b[0m\u001b[0;34m\u001b[0m\u001b[0m\n\u001b[1;32m   1332\u001b[0m         )\n",
            "\u001b[0;31mValueError\u001b[0m: The truth value of a Series is ambiguous. Use a.empty, a.bool(), a.item(), a.any() or a.all()."
          ]
        }
      ]
    },
    {
      "cell_type": "code",
      "metadata": {
        "id": "2HOTPDKxMIxO"
      },
      "source": [
        "def v_counts(col):\n",
        "    num = col.value_counts()\n",
        "    den = col.size\n",
        "    percentage = num / den \n",
        "    return percentage\n",
        "\n",
        "v_counts_pct = factors_impact.apply(v_counts)"
      ],
      "execution_count": null,
      "outputs": []
    },
    {
      "cell_type": "code",
      "metadata": {
        "colab": {
          "base_uri": "https://localhost:8080/",
          "height": 106
        },
        "id": "uaxDxANcODhk",
        "outputId": "b768f1f7-914f-48a2-ce6c-e847ec5006ef"
      },
      "source": [
        "v_counts_pct"
      ],
      "execution_count": null,
      "outputs": [
        {
          "output_type": "execute_result",
          "data": {
            "text/html": [
              "<div>\n",
              "<style scoped>\n",
              "    .dataframe tbody tr th:only-of-type {\n",
              "        vertical-align: middle;\n",
              "    }\n",
              "\n",
              "    .dataframe tbody tr th {\n",
              "        vertical-align: top;\n",
              "    }\n",
              "\n",
              "    .dataframe thead th {\n",
              "        text-align: right;\n",
              "    }\n",
              "</style>\n",
              "<table border=\"1\" class=\"dataframe\">\n",
              "  <thead>\n",
              "    <tr style=\"text-align: right;\">\n",
              "      <th></th>\n",
              "      <th>Economy</th>\n",
              "      <th>Family</th>\n",
              "      <th>Health</th>\n",
              "      <th>Freedom</th>\n",
              "      <th>Trust</th>\n",
              "      <th>Generosity</th>\n",
              "    </tr>\n",
              "  </thead>\n",
              "  <tbody>\n",
              "    <tr>\n",
              "      <th>High</th>\n",
              "      <td>0.417722</td>\n",
              "      <td>0.563291</td>\n",
              "      <td>0.012658</td>\n",
              "      <td>NaN</td>\n",
              "      <td>NaN</td>\n",
              "      <td>NaN</td>\n",
              "    </tr>\n",
              "    <tr>\n",
              "      <th>Low</th>\n",
              "      <td>0.582278</td>\n",
              "      <td>0.436709</td>\n",
              "      <td>0.987342</td>\n",
              "      <td>1.0</td>\n",
              "      <td>1.0</td>\n",
              "      <td>1.0</td>\n",
              "    </tr>\n",
              "  </tbody>\n",
              "</table>\n",
              "</div>"
            ],
            "text/plain": [
              "       Economy    Family    Health  Freedom  Trust  Generosity\n",
              "High  0.417722  0.563291  0.012658      NaN    NaN         NaN\n",
              "Low   0.582278  0.436709  0.987342      1.0    1.0         1.0"
            ]
          },
          "metadata": {
            "tags": []
          },
          "execution_count": 62
        }
      ]
    },
    {
      "cell_type": "markdown",
      "metadata": {
        "id": "GEzY3yqOPFxS"
      },
      "source": [
        "## Apply Functions along an Axis using the Apply method() Continued"
      ]
    },
    {
      "cell_type": "code",
      "metadata": {
        "colab": {
          "base_uri": "https://localhost:8080/",
          "height": 195
        },
        "id": "2WWlzIqLOLEV",
        "outputId": "d085aac1-fd27-4324-f163-73f5e5083aad"
      },
      "source": [
        "#Calculate the sum of the factor columns in each row.\n",
        "happiness2015['Factors Sum'] = happiness2015[['Economy', 'Family', 'Health', 'Freedom', 'Trust', 'Generosity', 'Dystopia Residual']].sum(axis=1)\n",
        "#Display the first five rows of the result and the Happiness Score column.\n",
        "happiness2015[['Happiness Score', 'Factors Sum']].head()"
      ],
      "execution_count": null,
      "outputs": [
        {
          "output_type": "execute_result",
          "data": {
            "text/html": [
              "<div>\n",
              "<style scoped>\n",
              "    .dataframe tbody tr th:only-of-type {\n",
              "        vertical-align: middle;\n",
              "    }\n",
              "\n",
              "    .dataframe tbody tr th {\n",
              "        vertical-align: top;\n",
              "    }\n",
              "\n",
              "    .dataframe thead th {\n",
              "        text-align: right;\n",
              "    }\n",
              "</style>\n",
              "<table border=\"1\" class=\"dataframe\">\n",
              "  <thead>\n",
              "    <tr style=\"text-align: right;\">\n",
              "      <th></th>\n",
              "      <th>Happiness Score</th>\n",
              "      <th>Factors Sum</th>\n",
              "    </tr>\n",
              "  </thead>\n",
              "  <tbody>\n",
              "    <tr>\n",
              "      <th>0</th>\n",
              "      <td>7.587</td>\n",
              "      <td>7.58696</td>\n",
              "    </tr>\n",
              "    <tr>\n",
              "      <th>1</th>\n",
              "      <td>7.561</td>\n",
              "      <td>7.56092</td>\n",
              "    </tr>\n",
              "    <tr>\n",
              "      <th>2</th>\n",
              "      <td>7.527</td>\n",
              "      <td>7.52708</td>\n",
              "    </tr>\n",
              "    <tr>\n",
              "      <th>3</th>\n",
              "      <td>7.522</td>\n",
              "      <td>7.52222</td>\n",
              "    </tr>\n",
              "    <tr>\n",
              "      <th>4</th>\n",
              "      <td>7.427</td>\n",
              "      <td>7.42694</td>\n",
              "    </tr>\n",
              "  </tbody>\n",
              "</table>\n",
              "</div>"
            ],
            "text/plain": [
              "   Happiness Score  Factors Sum\n",
              "0            7.587      7.58696\n",
              "1            7.561      7.56092\n",
              "2            7.527      7.52708\n",
              "3            7.522      7.52222\n",
              "4            7.427      7.42694"
            ]
          },
          "metadata": {
            "tags": []
          },
          "execution_count": 63
        }
      ]
    },
    {
      "cell_type": "code",
      "metadata": {
        "id": "2fApUcAPPK1M"
      },
      "source": [
        "def percentages(col):\n",
        "    div = col.divide(happiness2015['Happiness Score'])\n",
        "    percentage = div * 100\n",
        "    return percentage\n",
        "\n",
        "factor_percentages = happiness2015[['Economy', 'Family', 'Health', 'Freedom', 'Trust', 'Generosity', 'Dystopia Residual']].apply(percentages)"
      ],
      "execution_count": null,
      "outputs": []
    },
    {
      "cell_type": "code",
      "metadata": {
        "colab": {
          "base_uri": "https://localhost:8080/",
          "height": 195
        },
        "id": "VQVCWna7Q27h",
        "outputId": "a54be789-6881-4718-dacc-e21579410c0f"
      },
      "source": [
        "factor_percentages.head()"
      ],
      "execution_count": null,
      "outputs": [
        {
          "output_type": "execute_result",
          "data": {
            "text/html": [
              "<div>\n",
              "<style scoped>\n",
              "    .dataframe tbody tr th:only-of-type {\n",
              "        vertical-align: middle;\n",
              "    }\n",
              "\n",
              "    .dataframe tbody tr th {\n",
              "        vertical-align: top;\n",
              "    }\n",
              "\n",
              "    .dataframe thead th {\n",
              "        text-align: right;\n",
              "    }\n",
              "</style>\n",
              "<table border=\"1\" class=\"dataframe\">\n",
              "  <thead>\n",
              "    <tr style=\"text-align: right;\">\n",
              "      <th></th>\n",
              "      <th>Economy</th>\n",
              "      <th>Family</th>\n",
              "      <th>Health</th>\n",
              "      <th>Freedom</th>\n",
              "      <th>Trust</th>\n",
              "      <th>Generosity</th>\n",
              "      <th>Dystopia Residual</th>\n",
              "    </tr>\n",
              "  </thead>\n",
              "  <tbody>\n",
              "    <tr>\n",
              "      <th>0</th>\n",
              "      <td>18.406617</td>\n",
              "      <td>17.787136</td>\n",
              "      <td>12.408462</td>\n",
              "      <td>8.772506</td>\n",
              "      <td>5.532885</td>\n",
              "      <td>3.911691</td>\n",
              "      <td>33.180177</td>\n",
              "    </tr>\n",
              "    <tr>\n",
              "      <th>1</th>\n",
              "      <td>17.224177</td>\n",
              "      <td>18.545563</td>\n",
              "      <td>12.535908</td>\n",
              "      <td>8.315963</td>\n",
              "      <td>1.870784</td>\n",
              "      <td>5.770401</td>\n",
              "      <td>35.736146</td>\n",
              "    </tr>\n",
              "    <tr>\n",
              "      <th>2</th>\n",
              "      <td>17.609672</td>\n",
              "      <td>18.075993</td>\n",
              "      <td>11.620035</td>\n",
              "      <td>8.627342</td>\n",
              "      <td>6.424472</td>\n",
              "      <td>4.535539</td>\n",
              "      <td>33.108011</td>\n",
              "    </tr>\n",
              "    <tr>\n",
              "      <th>3</th>\n",
              "      <td>19.396437</td>\n",
              "      <td>17.694097</td>\n",
              "      <td>11.768280</td>\n",
              "      <td>8.903616</td>\n",
              "      <td>4.852832</td>\n",
              "      <td>4.613002</td>\n",
              "      <td>32.774661</td>\n",
              "    </tr>\n",
              "    <tr>\n",
              "      <th>4</th>\n",
              "      <td>17.857681</td>\n",
              "      <td>17.808132</td>\n",
              "      <td>12.193753</td>\n",
              "      <td>8.522553</td>\n",
              "      <td>4.437458</td>\n",
              "      <td>6.168170</td>\n",
              "      <td>33.011445</td>\n",
              "    </tr>\n",
              "  </tbody>\n",
              "</table>\n",
              "</div>"
            ],
            "text/plain": [
              "     Economy     Family     Health  ...     Trust  Generosity  Dystopia Residual\n",
              "0  18.406617  17.787136  12.408462  ...  5.532885    3.911691          33.180177\n",
              "1  17.224177  18.545563  12.535908  ...  1.870784    5.770401          35.736146\n",
              "2  17.609672  18.075993  11.620035  ...  6.424472    4.535539          33.108011\n",
              "3  19.396437  17.694097  11.768280  ...  4.852832    4.613002          32.774661\n",
              "4  17.857681  17.808132  12.193753  ...  4.437458    6.168170          33.011445\n",
              "\n",
              "[5 rows x 7 columns]"
            ]
          },
          "metadata": {
            "tags": []
          },
          "execution_count": 65
        }
      ]
    },
    {
      "cell_type": "markdown",
      "metadata": {
        "id": "41LT_IqnRNlp"
      },
      "source": [
        "## Reshaping Data with the Melt Function()"
      ]
    },
    {
      "cell_type": "code",
      "metadata": {
        "colab": {
          "base_uri": "https://localhost:8080/",
          "height": 157
        },
        "id": "Q7JiFmKgQ72E",
        "outputId": "40ac81f6-7b07-44b7-f249-0bef88fa05a7"
      },
      "source": [
        "happy_two = happiness2015.iloc[:2]\n",
        "happy_two"
      ],
      "execution_count": null,
      "outputs": [
        {
          "output_type": "execute_result",
          "data": {
            "text/html": [
              "<div>\n",
              "<style scoped>\n",
              "    .dataframe tbody tr th:only-of-type {\n",
              "        vertical-align: middle;\n",
              "    }\n",
              "\n",
              "    .dataframe tbody tr th {\n",
              "        vertical-align: top;\n",
              "    }\n",
              "\n",
              "    .dataframe thead th {\n",
              "        text-align: right;\n",
              "    }\n",
              "</style>\n",
              "<table border=\"1\" class=\"dataframe\">\n",
              "  <thead>\n",
              "    <tr style=\"text-align: right;\">\n",
              "      <th></th>\n",
              "      <th>Country</th>\n",
              "      <th>Region</th>\n",
              "      <th>Happiness Rank</th>\n",
              "      <th>Happiness Score</th>\n",
              "      <th>Standard Error</th>\n",
              "      <th>Economy</th>\n",
              "      <th>Family</th>\n",
              "      <th>Health</th>\n",
              "      <th>Freedom</th>\n",
              "      <th>Trust</th>\n",
              "      <th>Generosity</th>\n",
              "      <th>Dystopia Residual</th>\n",
              "      <th>Year</th>\n",
              "      <th>Economy Impact</th>\n",
              "      <th>Factors Sum</th>\n",
              "    </tr>\n",
              "  </thead>\n",
              "  <tbody>\n",
              "    <tr>\n",
              "      <th>0</th>\n",
              "      <td>Switzerland</td>\n",
              "      <td>Western Europe</td>\n",
              "      <td>1</td>\n",
              "      <td>7.587</td>\n",
              "      <td>0.03411</td>\n",
              "      <td>1.39651</td>\n",
              "      <td>1.34951</td>\n",
              "      <td>0.94143</td>\n",
              "      <td>0.66557</td>\n",
              "      <td>0.41978</td>\n",
              "      <td>0.29678</td>\n",
              "      <td>2.51738</td>\n",
              "      <td>2015</td>\n",
              "      <td>High</td>\n",
              "      <td>7.58696</td>\n",
              "    </tr>\n",
              "    <tr>\n",
              "      <th>1</th>\n",
              "      <td>Iceland</td>\n",
              "      <td>Western Europe</td>\n",
              "      <td>2</td>\n",
              "      <td>7.561</td>\n",
              "      <td>0.04884</td>\n",
              "      <td>1.30232</td>\n",
              "      <td>1.40223</td>\n",
              "      <td>0.94784</td>\n",
              "      <td>0.62877</td>\n",
              "      <td>0.14145</td>\n",
              "      <td>0.43630</td>\n",
              "      <td>2.70201</td>\n",
              "      <td>2015</td>\n",
              "      <td>High</td>\n",
              "      <td>7.56092</td>\n",
              "    </tr>\n",
              "  </tbody>\n",
              "</table>\n",
              "</div>"
            ],
            "text/plain": [
              "       Country          Region  ...  Economy Impact  Factors Sum\n",
              "0  Switzerland  Western Europe  ...            High      7.58696\n",
              "1      Iceland  Western Europe  ...            High      7.56092\n",
              "\n",
              "[2 rows x 15 columns]"
            ]
          },
          "metadata": {
            "tags": []
          },
          "execution_count": 66
        }
      ]
    },
    {
      "cell_type": "code",
      "metadata": {
        "colab": {
          "base_uri": "https://localhost:8080/",
          "height": 225
        },
        "id": "kQEEAU9OSN7W",
        "outputId": "0762ddbb-dbb1-4666-9fe6-77f2da6f8c57"
      },
      "source": [
        "pd.melt(happy_two, id_vars=['Country'], value_vars=['Economy', 'Family', 'Health'])"
      ],
      "execution_count": null,
      "outputs": [
        {
          "output_type": "execute_result",
          "data": {
            "text/html": [
              "<div>\n",
              "<style scoped>\n",
              "    .dataframe tbody tr th:only-of-type {\n",
              "        vertical-align: middle;\n",
              "    }\n",
              "\n",
              "    .dataframe tbody tr th {\n",
              "        vertical-align: top;\n",
              "    }\n",
              "\n",
              "    .dataframe thead th {\n",
              "        text-align: right;\n",
              "    }\n",
              "</style>\n",
              "<table border=\"1\" class=\"dataframe\">\n",
              "  <thead>\n",
              "    <tr style=\"text-align: right;\">\n",
              "      <th></th>\n",
              "      <th>Country</th>\n",
              "      <th>variable</th>\n",
              "      <th>value</th>\n",
              "    </tr>\n",
              "  </thead>\n",
              "  <tbody>\n",
              "    <tr>\n",
              "      <th>0</th>\n",
              "      <td>Switzerland</td>\n",
              "      <td>Economy</td>\n",
              "      <td>1.39651</td>\n",
              "    </tr>\n",
              "    <tr>\n",
              "      <th>1</th>\n",
              "      <td>Iceland</td>\n",
              "      <td>Economy</td>\n",
              "      <td>1.30232</td>\n",
              "    </tr>\n",
              "    <tr>\n",
              "      <th>2</th>\n",
              "      <td>Switzerland</td>\n",
              "      <td>Family</td>\n",
              "      <td>1.34951</td>\n",
              "    </tr>\n",
              "    <tr>\n",
              "      <th>3</th>\n",
              "      <td>Iceland</td>\n",
              "      <td>Family</td>\n",
              "      <td>1.40223</td>\n",
              "    </tr>\n",
              "    <tr>\n",
              "      <th>4</th>\n",
              "      <td>Switzerland</td>\n",
              "      <td>Health</td>\n",
              "      <td>0.94143</td>\n",
              "    </tr>\n",
              "    <tr>\n",
              "      <th>5</th>\n",
              "      <td>Iceland</td>\n",
              "      <td>Health</td>\n",
              "      <td>0.94784</td>\n",
              "    </tr>\n",
              "  </tbody>\n",
              "</table>\n",
              "</div>"
            ],
            "text/plain": [
              "       Country variable    value\n",
              "0  Switzerland  Economy  1.39651\n",
              "1      Iceland  Economy  1.30232\n",
              "2  Switzerland   Family  1.34951\n",
              "3      Iceland   Family  1.40223\n",
              "4  Switzerland   Health  0.94143\n",
              "5      Iceland   Health  0.94784"
            ]
          },
          "metadata": {
            "tags": []
          },
          "execution_count": 67
        }
      ]
    },
    {
      "cell_type": "code",
      "metadata": {
        "colab": {
          "base_uri": "https://localhost:8080/",
          "height": 402
        },
        "id": "3L_RoYmOSfhM",
        "outputId": "268547f5-91ae-4f2d-989d-2af7a0442720"
      },
      "source": [
        "main_cols = ['Country', 'Region', 'Happiness Rank', 'Happiness Score']\n",
        "factors = ['Economy', 'Family', 'Health', 'Freedom', 'Trust', 'Generosity', 'Dystopia Residual']\n",
        "\n",
        "meil = happiness2015.melt(id_vars=main_cols, value_vars=factors)\n",
        "meil"
      ],
      "execution_count": null,
      "outputs": [
        {
          "output_type": "execute_result",
          "data": {
            "text/html": [
              "<div>\n",
              "<style scoped>\n",
              "    .dataframe tbody tr th:only-of-type {\n",
              "        vertical-align: middle;\n",
              "    }\n",
              "\n",
              "    .dataframe tbody tr th {\n",
              "        vertical-align: top;\n",
              "    }\n",
              "\n",
              "    .dataframe thead th {\n",
              "        text-align: right;\n",
              "    }\n",
              "</style>\n",
              "<table border=\"1\" class=\"dataframe\">\n",
              "  <thead>\n",
              "    <tr style=\"text-align: right;\">\n",
              "      <th></th>\n",
              "      <th>Country</th>\n",
              "      <th>Region</th>\n",
              "      <th>Happiness Rank</th>\n",
              "      <th>Happiness Score</th>\n",
              "      <th>variable</th>\n",
              "      <th>value</th>\n",
              "    </tr>\n",
              "  </thead>\n",
              "  <tbody>\n",
              "    <tr>\n",
              "      <th>0</th>\n",
              "      <td>Switzerland</td>\n",
              "      <td>Western Europe</td>\n",
              "      <td>1</td>\n",
              "      <td>7.587</td>\n",
              "      <td>Economy</td>\n",
              "      <td>1.39651</td>\n",
              "    </tr>\n",
              "    <tr>\n",
              "      <th>1</th>\n",
              "      <td>Iceland</td>\n",
              "      <td>Western Europe</td>\n",
              "      <td>2</td>\n",
              "      <td>7.561</td>\n",
              "      <td>Economy</td>\n",
              "      <td>1.30232</td>\n",
              "    </tr>\n",
              "    <tr>\n",
              "      <th>2</th>\n",
              "      <td>Denmark</td>\n",
              "      <td>Western Europe</td>\n",
              "      <td>3</td>\n",
              "      <td>7.527</td>\n",
              "      <td>Economy</td>\n",
              "      <td>1.32548</td>\n",
              "    </tr>\n",
              "    <tr>\n",
              "      <th>3</th>\n",
              "      <td>Norway</td>\n",
              "      <td>Western Europe</td>\n",
              "      <td>4</td>\n",
              "      <td>7.522</td>\n",
              "      <td>Economy</td>\n",
              "      <td>1.45900</td>\n",
              "    </tr>\n",
              "    <tr>\n",
              "      <th>4</th>\n",
              "      <td>Canada</td>\n",
              "      <td>North America</td>\n",
              "      <td>5</td>\n",
              "      <td>7.427</td>\n",
              "      <td>Economy</td>\n",
              "      <td>1.32629</td>\n",
              "    </tr>\n",
              "    <tr>\n",
              "      <th>...</th>\n",
              "      <td>...</td>\n",
              "      <td>...</td>\n",
              "      <td>...</td>\n",
              "      <td>...</td>\n",
              "      <td>...</td>\n",
              "      <td>...</td>\n",
              "    </tr>\n",
              "    <tr>\n",
              "      <th>1101</th>\n",
              "      <td>Rwanda</td>\n",
              "      <td>Sub-Saharan Africa</td>\n",
              "      <td>154</td>\n",
              "      <td>3.465</td>\n",
              "      <td>Dystopia Residual</td>\n",
              "      <td>0.67042</td>\n",
              "    </tr>\n",
              "    <tr>\n",
              "      <th>1102</th>\n",
              "      <td>Benin</td>\n",
              "      <td>Sub-Saharan Africa</td>\n",
              "      <td>155</td>\n",
              "      <td>3.340</td>\n",
              "      <td>Dystopia Residual</td>\n",
              "      <td>1.63328</td>\n",
              "    </tr>\n",
              "    <tr>\n",
              "      <th>1103</th>\n",
              "      <td>Syria</td>\n",
              "      <td>Middle East and Northern Africa</td>\n",
              "      <td>156</td>\n",
              "      <td>3.006</td>\n",
              "      <td>Dystopia Residual</td>\n",
              "      <td>0.32858</td>\n",
              "    </tr>\n",
              "    <tr>\n",
              "      <th>1104</th>\n",
              "      <td>Burundi</td>\n",
              "      <td>Sub-Saharan Africa</td>\n",
              "      <td>157</td>\n",
              "      <td>2.905</td>\n",
              "      <td>Dystopia Residual</td>\n",
              "      <td>1.83302</td>\n",
              "    </tr>\n",
              "    <tr>\n",
              "      <th>1105</th>\n",
              "      <td>Togo</td>\n",
              "      <td>Sub-Saharan Africa</td>\n",
              "      <td>158</td>\n",
              "      <td>2.839</td>\n",
              "      <td>Dystopia Residual</td>\n",
              "      <td>1.56726</td>\n",
              "    </tr>\n",
              "  </tbody>\n",
              "</table>\n",
              "<p>1106 rows × 6 columns</p>\n",
              "</div>"
            ],
            "text/plain": [
              "          Country                           Region  ...           variable    value\n",
              "0     Switzerland                   Western Europe  ...            Economy  1.39651\n",
              "1         Iceland                   Western Europe  ...            Economy  1.30232\n",
              "2         Denmark                   Western Europe  ...            Economy  1.32548\n",
              "3          Norway                   Western Europe  ...            Economy  1.45900\n",
              "4          Canada                    North America  ...            Economy  1.32629\n",
              "...           ...                              ...  ...                ...      ...\n",
              "1101       Rwanda               Sub-Saharan Africa  ...  Dystopia Residual  0.67042\n",
              "1102        Benin               Sub-Saharan Africa  ...  Dystopia Residual  1.63328\n",
              "1103        Syria  Middle East and Northern Africa  ...  Dystopia Residual  0.32858\n",
              "1104      Burundi               Sub-Saharan Africa  ...  Dystopia Residual  1.83302\n",
              "1105         Togo               Sub-Saharan Africa  ...  Dystopia Residual  1.56726\n",
              "\n",
              "[1106 rows x 6 columns]"
            ]
          },
          "metadata": {
            "tags": []
          },
          "execution_count": 68
        }
      ]
    },
    {
      "cell_type": "code",
      "metadata": {
        "id": "5za-gavqThaj"
      },
      "source": [
        "main_cols = ['Country', 'Region', 'Happiness Rank', 'Happiness Score']\n",
        "factors = ['Economy', 'Family', 'Health', 'Freedom', 'Trust', 'Generosity', 'Dystopia Residual']\n",
        "\n",
        "\n",
        "\n",
        "melt = pd.melt(happiness2015, id_vars=main_cols, value_vars=factors)\n",
        "\n",
        "melt['Percentage'] = round((melt['value'] / melt['Happiness Score']) * 100,2)\n",
        "\n"
      ],
      "execution_count": null,
      "outputs": []
    },
    {
      "cell_type": "code",
      "metadata": {
        "colab": {
          "base_uri": "https://localhost:8080/",
          "height": 402
        },
        "id": "It2TNxL-Vvrr",
        "outputId": "de80a226-7f15-407d-b362-4ea03cdfdb6f"
      },
      "source": [
        "melt"
      ],
      "execution_count": null,
      "outputs": [
        {
          "output_type": "execute_result",
          "data": {
            "text/html": [
              "<div>\n",
              "<style scoped>\n",
              "    .dataframe tbody tr th:only-of-type {\n",
              "        vertical-align: middle;\n",
              "    }\n",
              "\n",
              "    .dataframe tbody tr th {\n",
              "        vertical-align: top;\n",
              "    }\n",
              "\n",
              "    .dataframe thead th {\n",
              "        text-align: right;\n",
              "    }\n",
              "</style>\n",
              "<table border=\"1\" class=\"dataframe\">\n",
              "  <thead>\n",
              "    <tr style=\"text-align: right;\">\n",
              "      <th></th>\n",
              "      <th>Country</th>\n",
              "      <th>Region</th>\n",
              "      <th>Happiness Rank</th>\n",
              "      <th>Happiness Score</th>\n",
              "      <th>variable</th>\n",
              "      <th>value</th>\n",
              "      <th>Percentage</th>\n",
              "    </tr>\n",
              "  </thead>\n",
              "  <tbody>\n",
              "    <tr>\n",
              "      <th>0</th>\n",
              "      <td>Switzerland</td>\n",
              "      <td>Western Europe</td>\n",
              "      <td>1</td>\n",
              "      <td>7.587</td>\n",
              "      <td>Economy</td>\n",
              "      <td>1.39651</td>\n",
              "      <td>18.41</td>\n",
              "    </tr>\n",
              "    <tr>\n",
              "      <th>1</th>\n",
              "      <td>Iceland</td>\n",
              "      <td>Western Europe</td>\n",
              "      <td>2</td>\n",
              "      <td>7.561</td>\n",
              "      <td>Economy</td>\n",
              "      <td>1.30232</td>\n",
              "      <td>17.22</td>\n",
              "    </tr>\n",
              "    <tr>\n",
              "      <th>2</th>\n",
              "      <td>Denmark</td>\n",
              "      <td>Western Europe</td>\n",
              "      <td>3</td>\n",
              "      <td>7.527</td>\n",
              "      <td>Economy</td>\n",
              "      <td>1.32548</td>\n",
              "      <td>17.61</td>\n",
              "    </tr>\n",
              "    <tr>\n",
              "      <th>3</th>\n",
              "      <td>Norway</td>\n",
              "      <td>Western Europe</td>\n",
              "      <td>4</td>\n",
              "      <td>7.522</td>\n",
              "      <td>Economy</td>\n",
              "      <td>1.45900</td>\n",
              "      <td>19.40</td>\n",
              "    </tr>\n",
              "    <tr>\n",
              "      <th>4</th>\n",
              "      <td>Canada</td>\n",
              "      <td>North America</td>\n",
              "      <td>5</td>\n",
              "      <td>7.427</td>\n",
              "      <td>Economy</td>\n",
              "      <td>1.32629</td>\n",
              "      <td>17.86</td>\n",
              "    </tr>\n",
              "    <tr>\n",
              "      <th>...</th>\n",
              "      <td>...</td>\n",
              "      <td>...</td>\n",
              "      <td>...</td>\n",
              "      <td>...</td>\n",
              "      <td>...</td>\n",
              "      <td>...</td>\n",
              "      <td>...</td>\n",
              "    </tr>\n",
              "    <tr>\n",
              "      <th>1101</th>\n",
              "      <td>Rwanda</td>\n",
              "      <td>Sub-Saharan Africa</td>\n",
              "      <td>154</td>\n",
              "      <td>3.465</td>\n",
              "      <td>Dystopia Residual</td>\n",
              "      <td>0.67042</td>\n",
              "      <td>19.35</td>\n",
              "    </tr>\n",
              "    <tr>\n",
              "      <th>1102</th>\n",
              "      <td>Benin</td>\n",
              "      <td>Sub-Saharan Africa</td>\n",
              "      <td>155</td>\n",
              "      <td>3.340</td>\n",
              "      <td>Dystopia Residual</td>\n",
              "      <td>1.63328</td>\n",
              "      <td>48.90</td>\n",
              "    </tr>\n",
              "    <tr>\n",
              "      <th>1103</th>\n",
              "      <td>Syria</td>\n",
              "      <td>Middle East and Northern Africa</td>\n",
              "      <td>156</td>\n",
              "      <td>3.006</td>\n",
              "      <td>Dystopia Residual</td>\n",
              "      <td>0.32858</td>\n",
              "      <td>10.93</td>\n",
              "    </tr>\n",
              "    <tr>\n",
              "      <th>1104</th>\n",
              "      <td>Burundi</td>\n",
              "      <td>Sub-Saharan Africa</td>\n",
              "      <td>157</td>\n",
              "      <td>2.905</td>\n",
              "      <td>Dystopia Residual</td>\n",
              "      <td>1.83302</td>\n",
              "      <td>63.10</td>\n",
              "    </tr>\n",
              "    <tr>\n",
              "      <th>1105</th>\n",
              "      <td>Togo</td>\n",
              "      <td>Sub-Saharan Africa</td>\n",
              "      <td>158</td>\n",
              "      <td>2.839</td>\n",
              "      <td>Dystopia Residual</td>\n",
              "      <td>1.56726</td>\n",
              "      <td>55.20</td>\n",
              "    </tr>\n",
              "  </tbody>\n",
              "</table>\n",
              "<p>1106 rows × 7 columns</p>\n",
              "</div>"
            ],
            "text/plain": [
              "          Country                           Region  ...    value  Percentage\n",
              "0     Switzerland                   Western Europe  ...  1.39651       18.41\n",
              "1         Iceland                   Western Europe  ...  1.30232       17.22\n",
              "2         Denmark                   Western Europe  ...  1.32548       17.61\n",
              "3          Norway                   Western Europe  ...  1.45900       19.40\n",
              "4          Canada                    North America  ...  1.32629       17.86\n",
              "...           ...                              ...  ...      ...         ...\n",
              "1101       Rwanda               Sub-Saharan Africa  ...  0.67042       19.35\n",
              "1102        Benin               Sub-Saharan Africa  ...  1.63328       48.90\n",
              "1103        Syria  Middle East and Northern Africa  ...  0.32858       10.93\n",
              "1104      Burundi               Sub-Saharan Africa  ...  1.83302       63.10\n",
              "1105         Togo               Sub-Saharan Africa  ...  1.56726       55.20\n",
              "\n",
              "[1106 rows x 7 columns]"
            ]
          },
          "metadata": {
            "tags": []
          },
          "execution_count": 70
        }
      ]
    },
    {
      "cell_type": "markdown",
      "metadata": {
        "id": "MuifXP5ddAfw"
      },
      "source": [
        "## Challenge: Aggregation the Data and Create Data Visualization"
      ]
    },
    {
      "cell_type": "code",
      "metadata": {
        "colab": {
          "base_uri": "https://localhost:8080/",
          "height": 284
        },
        "id": "3mFGU7IMYGlz",
        "outputId": "51b29b72-01d3-4815-e881-dbedb304c495"
      },
      "source": [
        "pv_melt = melt.pivot_table(values='value', index='variable')\n",
        "pv_melt['Percentage'] = round((pv_melt['value'] / pv_melt.sum()[0]) * 100,1)\n",
        "\n",
        "pv_melt\n"
      ],
      "execution_count": null,
      "outputs": [
        {
          "output_type": "execute_result",
          "data": {
            "text/html": [
              "<div>\n",
              "<style scoped>\n",
              "    .dataframe tbody tr th:only-of-type {\n",
              "        vertical-align: middle;\n",
              "    }\n",
              "\n",
              "    .dataframe tbody tr th {\n",
              "        vertical-align: top;\n",
              "    }\n",
              "\n",
              "    .dataframe thead th {\n",
              "        text-align: right;\n",
              "    }\n",
              "</style>\n",
              "<table border=\"1\" class=\"dataframe\">\n",
              "  <thead>\n",
              "    <tr style=\"text-align: right;\">\n",
              "      <th></th>\n",
              "      <th>value</th>\n",
              "      <th>Percentage</th>\n",
              "    </tr>\n",
              "    <tr>\n",
              "      <th>variable</th>\n",
              "      <th></th>\n",
              "      <th></th>\n",
              "    </tr>\n",
              "  </thead>\n",
              "  <tbody>\n",
              "    <tr>\n",
              "      <th>Dystopia Residual</th>\n",
              "      <td>2.098977</td>\n",
              "      <td>39.0</td>\n",
              "    </tr>\n",
              "    <tr>\n",
              "      <th>Economy</th>\n",
              "      <td>0.846137</td>\n",
              "      <td>15.7</td>\n",
              "    </tr>\n",
              "    <tr>\n",
              "      <th>Family</th>\n",
              "      <td>0.991046</td>\n",
              "      <td>18.4</td>\n",
              "    </tr>\n",
              "    <tr>\n",
              "      <th>Freedom</th>\n",
              "      <td>0.428615</td>\n",
              "      <td>8.0</td>\n",
              "    </tr>\n",
              "    <tr>\n",
              "      <th>Generosity</th>\n",
              "      <td>0.237296</td>\n",
              "      <td>4.4</td>\n",
              "    </tr>\n",
              "    <tr>\n",
              "      <th>Health</th>\n",
              "      <td>0.630259</td>\n",
              "      <td>11.7</td>\n",
              "    </tr>\n",
              "    <tr>\n",
              "      <th>Trust</th>\n",
              "      <td>0.143422</td>\n",
              "      <td>2.7</td>\n",
              "    </tr>\n",
              "  </tbody>\n",
              "</table>\n",
              "</div>"
            ],
            "text/plain": [
              "                      value  Percentage\n",
              "variable                               \n",
              "Dystopia Residual  2.098977        39.0\n",
              "Economy            0.846137        15.7\n",
              "Family             0.991046        18.4\n",
              "Freedom            0.428615         8.0\n",
              "Generosity         0.237296         4.4\n",
              "Health             0.630259        11.7\n",
              "Trust              0.143422         2.7"
            ]
          },
          "metadata": {
            "tags": []
          },
          "execution_count": 88
        }
      ]
    },
    {
      "cell_type": "code",
      "metadata": {
        "colab": {
          "base_uri": "https://localhost:8080/",
          "height": 265
        },
        "id": "CdLvlcu2daY5",
        "outputId": "3a61b461-f90b-42f9-e3f6-fb57e4905ebe"
      },
      "source": [
        "def func(pct, allvals):\n",
        "    absolute = int(round(pct/100.*np.sum(allvals)))\n",
        "    return \"{:.1f}%\".format(pct)\n",
        "\n",
        "pv_melt.plot(kind='pie', y='value',autopct=lambda pct: func(pct, melt['value']), legend=False)"
      ],
      "execution_count": null,
      "outputs": [
        {
          "output_type": "execute_result",
          "data": {
            "text/plain": [
              "<matplotlib.axes._subplots.AxesSubplot at 0x7f198cf02790>"
            ]
          },
          "metadata": {
            "tags": []
          },
          "execution_count": 90
        },
        {
          "output_type": "display_data",
          "data": {
            "image/png": "[encoded data removed]",
            "text/plain": [
              "<Figure size 432x288 with 1 Axes>"
            ]
          },
          "metadata": {
            "tags": []
          }
        }
      ]
    },
    {
      "cell_type": "markdown",
      "metadata": {
        "id": "7IXylJvalIMZ"
      },
      "source": [
        "![Untitled.png](data:image/png;base64,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)"
      ]
    },
    {
      "cell_type": "code",
      "metadata": {
        "id": "ZiSM9TX7fHU4"
      },
      "source": [
        ""
      ],
      "execution_count": null,
      "outputs": []
    },
    {
      "cell_type": "markdown",
      "metadata": {
        "id": "Hni6CFhG6KuE"
      },
      "source": [
        "# Working with Strings in Pandas "
      ]
    },
    {
      "cell_type": "markdown",
      "metadata": {
        "id": "cf3CVfPdhZzK"
      },
      "source": [
        "Working with the 2015 world Happiness Report and addictional economic data from the World Bank "
      ]
    },
    {
      "cell_type": "code",
      "metadata": {
        "id": "9xvjGk1jhQXx"
      },
      "source": [
        "import pandas as pd\n",
        "\n",
        "happiness2015 = pd.read_csv('/content/mount/MyDrive/my_datasets/Working with Strings in Pandas/World_Happiness_2015.csv')\n",
        "world_dev = pd.read_csv('/content/mount/MyDrive/my_datasets/Working with Strings in Pandas/World_dev.csv')"
      ],
      "execution_count": null,
      "outputs": []
    },
    {
      "cell_type": "code",
      "metadata": {
        "colab": {
          "base_uri": "https://localhost:8080/"
        },
        "id": "No5sc7jdlBqC",
        "outputId": "3fb9daeb-c819-41e6-c38d-e23bc52c4423"
      },
      "source": [
        "print(happiness2015.shape)\n",
        "print(world_dev.shape)"
      ],
      "execution_count": null,
      "outputs": [
        {
          "output_type": "stream",
          "text": [
            "(158, 12)\n",
            "(247, 31)\n"
          ],
          "name": "stdout"
        }
      ]
    },
    {
      "cell_type": "markdown",
      "metadata": {
        "id": "syj5lyf3jB5Z"
      },
      "source": [
        "Descriptions for the columns we'll be working with:\n",
        "\n",
        "* ShortName - Name of the country\n",
        "* Region - The region the country belongs to\n",
        "* IncomeGroup - The income group the country belongs to, based on Gross * National Income (GNI) per capita\n",
        "* CurrencyUnit - Name of country's currency\n",
        "* SourceOfMostRecentIncomeAndExpenditureData - The name of the survey used to collect the income and expenditure data\n",
        "* SpecialNotes - Contains any miscellaneous notes about the data"
      ]
    },
    {
      "cell_type": "markdown",
      "metadata": {
        "id": "JlIQWBokoFbN"
      },
      "source": [
        "## Combining Data"
      ]
    },
    {
      "cell_type": "code",
      "metadata": {
        "colab": {
          "base_uri": "https://localhost:8080/"
        },
        "id": "_R9GBXWji-YR",
        "outputId": "b33c77ad-fd1b-4460-9f5d-389ff80404c2"
      },
      "source": [
        "merged = pd.merge(left=happiness2015, right=world_dev, how='left', left_on='Country', right_on='ShortName')\n",
        "print(merged.shape)\n",
        "print(merged.head(3))\n"
      ],
      "execution_count": null,
      "outputs": [
        {
          "output_type": "stream",
          "text": [
            "(158, 43)\n",
            "       Country        Region_x  ...  LatestTradeData  LatestWaterWithdrawalData\n",
            "0  Switzerland  Western Europe  ...           2013.0                     2000.0\n",
            "1      Iceland  Western Europe  ...           2013.0                     2005.0\n",
            "2      Denmark  Western Europe  ...           2013.0                     2009.0\n",
            "\n",
            "[3 rows x 43 columns]\n"
          ],
          "name": "stdout"
        }
      ]
    },
    {
      "cell_type": "code",
      "metadata": {
        "colab": {
          "base_uri": "https://localhost:8080/",
          "height": 358
        },
        "id": "rjqe0VgGkaPi",
        "outputId": "74d4cd10-709f-47f2-fbde-1d36eab8999d"
      },
      "source": [
        "col_renaming = {'SourceOfMostRecentIncomeAndExpenditureData': 'IESurvey'}\n",
        "merged.rename(columns=col_renaming, inplace=True)\n",
        "merged.head(3)\n"
      ],
      "execution_count": null,
      "outputs": [
        {
          "output_type": "execute_result",
          "data": {
            "text/html": [
              "<div>\n",
              "<style scoped>\n",
              "    .dataframe tbody tr th:only-of-type {\n",
              "        vertical-align: middle;\n",
              "    }\n",
              "\n",
              "    .dataframe tbody tr th {\n",
              "        vertical-align: top;\n",
              "    }\n",
              "\n",
              "    .dataframe thead th {\n",
              "        text-align: right;\n",
              "    }\n",
              "</style>\n",
              "<table border=\"1\" class=\"dataframe\">\n",
              "  <thead>\n",
              "    <tr style=\"text-align: right;\">\n",
              "      <th></th>\n",
              "      <th>Country</th>\n",
              "      <th>Region_x</th>\n",
              "      <th>Happiness Rank</th>\n",
              "      <th>Happiness Score</th>\n",
              "      <th>Standard Error</th>\n",
              "      <th>Economy (GDP per Capita)</th>\n",
              "      <th>Family</th>\n",
              "      <th>Health (Life Expectancy)</th>\n",
              "      <th>Freedom</th>\n",
              "      <th>Trust (Government Corruption)</th>\n",
              "      <th>Generosity</th>\n",
              "      <th>Dystopia Residual</th>\n",
              "      <th>CountryCode</th>\n",
              "      <th>ShortName</th>\n",
              "      <th>TableName</th>\n",
              "      <th>LongName</th>\n",
              "      <th>Alpha2Code</th>\n",
              "      <th>CurrencyUnit</th>\n",
              "      <th>SpecialNotes</th>\n",
              "      <th>Region_y</th>\n",
              "      <th>IncomeGroup</th>\n",
              "      <th>Wb2Code</th>\n",
              "      <th>NationalAccountsBaseYear</th>\n",
              "      <th>NationalAccountsReferenceYear</th>\n",
              "      <th>SnaPriceValuation</th>\n",
              "      <th>LendingCategory</th>\n",
              "      <th>OtherGroups</th>\n",
              "      <th>SystemOfNationalAccounts</th>\n",
              "      <th>AlternativeConversionFactor</th>\n",
              "      <th>PppSurveyYear</th>\n",
              "      <th>BalanceOfPaymentsManualInUse</th>\n",
              "      <th>ExternalDebtReportingStatus</th>\n",
              "      <th>SystemOfTrade</th>\n",
              "      <th>GovernmentAccountingConcept</th>\n",
              "      <th>ImfDataDisseminationStandard</th>\n",
              "      <th>LatestPopulationCensus</th>\n",
              "      <th>LatestHouseholdSurvey</th>\n",
              "      <th>IESurvey</th>\n",
              "      <th>VitalRegistrationComplete</th>\n",
              "      <th>LatestAgriculturalCensus</th>\n",
              "      <th>LatestIndustrialData</th>\n",
              "      <th>LatestTradeData</th>\n",
              "      <th>LatestWaterWithdrawalData</th>\n",
              "    </tr>\n",
              "  </thead>\n",
              "  <tbody>\n",
              "    <tr>\n",
              "      <th>0</th>\n",
              "      <td>Switzerland</td>\n",
              "      <td>Western Europe</td>\n",
              "      <td>1</td>\n",
              "      <td>7.587</td>\n",
              "      <td>0.03411</td>\n",
              "      <td>1.39651</td>\n",
              "      <td>1.34951</td>\n",
              "      <td>0.94143</td>\n",
              "      <td>0.66557</td>\n",
              "      <td>0.41978</td>\n",
              "      <td>0.29678</td>\n",
              "      <td>2.51738</td>\n",
              "      <td>CHE</td>\n",
              "      <td>Switzerland</td>\n",
              "      <td>Switzerland</td>\n",
              "      <td>Switzerland</td>\n",
              "      <td>CH</td>\n",
              "      <td>Swiss franc</td>\n",
              "      <td>NaN</td>\n",
              "      <td>Europe &amp; Central Asia</td>\n",
              "      <td>High income: OECD</td>\n",
              "      <td>CH</td>\n",
              "      <td>Original chained constant price data are resca...</td>\n",
              "      <td>2010</td>\n",
              "      <td>Value added at basic prices (VAB)</td>\n",
              "      <td>NaN</td>\n",
              "      <td>NaN</td>\n",
              "      <td>Country uses the 2008 System of National Accou...</td>\n",
              "      <td>NaN</td>\n",
              "      <td>Rolling</td>\n",
              "      <td>IMF Balance of Payments Manual, 6th edition.</td>\n",
              "      <td>NaN</td>\n",
              "      <td>Special trade system</td>\n",
              "      <td>Consolidated central government</td>\n",
              "      <td>Special Data Dissemination Standard (SDDS)</td>\n",
              "      <td>2010</td>\n",
              "      <td>NaN</td>\n",
              "      <td>Expenditure survey/budget survey (ES/BS), 2004</td>\n",
              "      <td>Yes</td>\n",
              "      <td>2008</td>\n",
              "      <td>2010.0</td>\n",
              "      <td>2013.0</td>\n",
              "      <td>2000.0</td>\n",
              "    </tr>\n",
              "    <tr>\n",
              "      <th>1</th>\n",
              "      <td>Iceland</td>\n",
              "      <td>Western Europe</td>\n",
              "      <td>2</td>\n",
              "      <td>7.561</td>\n",
              "      <td>0.04884</td>\n",
              "      <td>1.30232</td>\n",
              "      <td>1.40223</td>\n",
              "      <td>0.94784</td>\n",
              "      <td>0.62877</td>\n",
              "      <td>0.14145</td>\n",
              "      <td>0.43630</td>\n",
              "      <td>2.70201</td>\n",
              "      <td>ISL</td>\n",
              "      <td>Iceland</td>\n",
              "      <td>Iceland</td>\n",
              "      <td>Republic of Iceland</td>\n",
              "      <td>IS</td>\n",
              "      <td>Iceland krona</td>\n",
              "      <td>NaN</td>\n",
              "      <td>Europe &amp; Central Asia</td>\n",
              "      <td>High income: OECD</td>\n",
              "      <td>IS</td>\n",
              "      <td>Original chained constant price data are resca...</td>\n",
              "      <td>2010</td>\n",
              "      <td>Value added at basic prices (VAB)</td>\n",
              "      <td>NaN</td>\n",
              "      <td>NaN</td>\n",
              "      <td>Country uses the 2008 System of National Accou...</td>\n",
              "      <td>NaN</td>\n",
              "      <td>Rolling</td>\n",
              "      <td>IMF Balance of Payments Manual, 6th edition.</td>\n",
              "      <td>NaN</td>\n",
              "      <td>General trade system</td>\n",
              "      <td>Consolidated central government</td>\n",
              "      <td>Special Data Dissemination Standard (SDDS)</td>\n",
              "      <td>2011</td>\n",
              "      <td>NaN</td>\n",
              "      <td>Integrated household survey (IHS), 2010</td>\n",
              "      <td>Yes</td>\n",
              "      <td>2010</td>\n",
              "      <td>2005.0</td>\n",
              "      <td>2013.0</td>\n",
              "      <td>2005.0</td>\n",
              "    </tr>\n",
              "    <tr>\n",
              "      <th>2</th>\n",
              "      <td>Denmark</td>\n",
              "      <td>Western Europe</td>\n",
              "      <td>3</td>\n",
              "      <td>7.527</td>\n",
              "      <td>0.03328</td>\n",
              "      <td>1.32548</td>\n",
              "      <td>1.36058</td>\n",
              "      <td>0.87464</td>\n",
              "      <td>0.64938</td>\n",
              "      <td>0.48357</td>\n",
              "      <td>0.34139</td>\n",
              "      <td>2.49204</td>\n",
              "      <td>DNK</td>\n",
              "      <td>Denmark</td>\n",
              "      <td>Denmark</td>\n",
              "      <td>Kingdom of Denmark</td>\n",
              "      <td>DK</td>\n",
              "      <td>Danish krone</td>\n",
              "      <td>NaN</td>\n",
              "      <td>Europe &amp; Central Asia</td>\n",
              "      <td>High income: OECD</td>\n",
              "      <td>DK</td>\n",
              "      <td>Original chained constant price data are resca...</td>\n",
              "      <td>2010</td>\n",
              "      <td>Value added at basic prices (VAB)</td>\n",
              "      <td>NaN</td>\n",
              "      <td>NaN</td>\n",
              "      <td>Country uses the 2008 System of National Accou...</td>\n",
              "      <td>NaN</td>\n",
              "      <td>Rolling</td>\n",
              "      <td>IMF Balance of Payments Manual, 6th edition.</td>\n",
              "      <td>NaN</td>\n",
              "      <td>Special trade system</td>\n",
              "      <td>Consolidated central government</td>\n",
              "      <td>Special Data Dissemination Standard (SDDS)</td>\n",
              "      <td>2011</td>\n",
              "      <td>NaN</td>\n",
              "      <td>Income tax registers (ITR), 2010</td>\n",
              "      <td>Yes</td>\n",
              "      <td>2010</td>\n",
              "      <td>2010.0</td>\n",
              "      <td>2013.0</td>\n",
              "      <td>2009.0</td>\n",
              "    </tr>\n",
              "  </tbody>\n",
              "</table>\n",
              "</div>"
            ],
            "text/plain": [
              "       Country        Region_x  ...  LatestTradeData  LatestWaterWithdrawalData\n",
              "0  Switzerland  Western Europe  ...           2013.0                     2000.0\n",
              "1      Iceland  Western Europe  ...           2013.0                     2005.0\n",
              "2      Denmark  Western Europe  ...           2013.0                     2009.0\n",
              "\n",
              "[3 rows x 43 columns]"
            ]
          },
          "metadata": {
            "tags": []
          },
          "execution_count": 5
        }
      ]
    },
    {
      "cell_type": "markdown",
      "metadata": {
        "id": "a0kLEHu7oXXH"
      },
      "source": [
        "## Using Apply to Transform Strings"
      ]
    },
    {
      "cell_type": "markdown",
      "metadata": {
        "id": "gMKVkO1Wv8VW"
      },
      "source": [
        "Extract the unit of currency without the leading nationality. For example, instead of \"Danish krone\" or \"Norwegian krone\", we just needed \"krone\"."
      ]
    },
    {
      "cell_type": "code",
      "metadata": {
        "id": "MYFa7qrUl10i"
      },
      "source": [
        "def extract_last_world(element):\n",
        "    element = str(element)\n",
        "    element = element.split()\n",
        "    return element[-1]\n",
        "\n",
        "merged['Currency Apply'] = merged['CurrencyUnit'].apply(extract_last_world)"
      ],
      "execution_count": null,
      "outputs": []
    },
    {
      "cell_type": "code",
      "metadata": {
        "colab": {
          "base_uri": "https://localhost:8080/"
        },
        "id": "ZOBMqcOWv1HZ",
        "outputId": "7b17cd1f-2b27-4a41-939e-1e1949e9d041"
      },
      "source": [
        "merged['Currency Apply']"
      ],
      "execution_count": null,
      "outputs": [
        {
          "output_type": "execute_result",
          "data": {
            "text/plain": [
              "0       franc\n",
              "1       krona\n",
              "2       krone\n",
              "3       krone\n",
              "4      dollar\n",
              "        ...  \n",
              "153     franc\n",
              "154     franc\n",
              "155       nan\n",
              "156     franc\n",
              "157     franc\n",
              "Name: Currency Apply, Length: 158, dtype: object"
            ]
          },
          "metadata": {
            "tags": []
          },
          "execution_count": 7
        }
      ]
    },
    {
      "cell_type": "markdown",
      "metadata": {
        "id": "XvnfEFX6yJCt"
      },
      "source": [
        "## Vectorized String Methods Overview"
      ]
    },
    {
      "cell_type": "markdown",
      "metadata": {
        "id": "FckwTAKGyO7K"
      },
      "source": [
        "![Untitled2.png](data:image/png;base64,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)"
      ]
    },
    {
      "cell_type": "code",
      "metadata": {
        "id": "UsfjhodDwe3E"
      },
      "source": [
        "merged['Currency Vectorized'] = merged['CurrencyUnit'].str.split().str.get(-1)"
      ],
      "execution_count": null,
      "outputs": []
    },
    {
      "cell_type": "code",
      "metadata": {
        "colab": {
          "base_uri": "https://localhost:8080/"
        },
        "id": "nhUuMncvyY4E",
        "outputId": "1432400d-3c31-40b9-82d7-b654c76766cd"
      },
      "source": [
        "merged['Currency Vectorized'].head()"
      ],
      "execution_count": null,
      "outputs": [
        {
          "output_type": "execute_result",
          "data": {
            "text/plain": [
              "0     franc\n",
              "1     krona\n",
              "2     krone\n",
              "3     krone\n",
              "4    dollar\n",
              "Name: Currency Vectorized, dtype: object"
            ]
          },
          "metadata": {
            "tags": []
          },
          "execution_count": 9
        }
      ]
    },
    {
      "cell_type": "markdown",
      "metadata": {
        "id": "SmirHAAd0N8U"
      },
      "source": [
        "## Exploring Missing Values with Vectorized String Methods"
      ]
    },
    {
      "cell_type": "code",
      "metadata": {
        "colab": {
          "base_uri": "https://localhost:8080/"
        },
        "id": "C0Gt298o0SRN",
        "outputId": "15dea7f8-c3f2-41ab-fad6-63556c8f8493"
      },
      "source": [
        "merged['CurrencyUnit'].isnull().sum()"
      ],
      "execution_count": null,
      "outputs": [
        {
          "output_type": "execute_result",
          "data": {
            "text/plain": [
              "13"
            ]
          },
          "metadata": {
            "tags": []
          },
          "execution_count": 10
        }
      ]
    },
    {
      "cell_type": "code",
      "metadata": {
        "id": "zSM3IQgP0cdH"
      },
      "source": [
        "def compute_lengths(element):\n",
        "    return len(str((element)))\n",
        "\n",
        "lengths_apply = merged['CurrencyUnit'].apply(compute_lengths)"
      ],
      "execution_count": null,
      "outputs": []
    },
    {
      "cell_type": "code",
      "metadata": {
        "colab": {
          "base_uri": "https://localhost:8080/"
        },
        "id": "jS86XBHY0hyS",
        "outputId": "ed49b761-0966-4485-8a1b-d1b6072f6953"
      },
      "source": [
        "lengths_apply.value_counts(dropna=False)"
      ],
      "execution_count": null,
      "outputs": [
        {
          "output_type": "execute_result",
          "data": {
            "text/plain": [
              "14    21\n",
              "4     20\n",
              "12    17\n",
              "13    14\n",
              "3     13\n",
              "15    13\n",
              "16    12\n",
              "18     9\n",
              "17     9\n",
              "11     8\n",
              "22     7\n",
              "25     5\n",
              "19     3\n",
              "9      2\n",
              "26     1\n",
              "20     1\n",
              "23     1\n",
              "10     1\n",
              "39     1\n",
              "Name: CurrencyUnit, dtype: int64"
            ]
          },
          "metadata": {
            "tags": []
          },
          "execution_count": 12
        }
      ]
    },
    {
      "cell_type": "markdown",
      "metadata": {
        "id": "NTwAHOpj1_JC"
      },
      "source": [
        "Since the original column had 13 missing values and NaN doesn't appear in the list of unique values above, we know our function must have treated NaN as a string and returned a length of 3 for each NaN value. This doesn't make sense - missing values shouldn't be treated as strings. They should instead have been excluded from the calculation."
      ]
    },
    {
      "cell_type": "markdown",
      "metadata": {
        "id": "JLWBsUQF2fYo"
      },
      "source": [
        "If we wanted to exclude missing values, we'd have to update our function to something like this:"
      ]
    },
    {
      "cell_type": "code",
      "metadata": {
        "id": "JVosOeIh1o-z"
      },
      "source": [
        "def compute_lengths(element):\n",
        "    if pd.isnull(element):\n",
        "        pass\n",
        "    else:\n",
        "        return len(str(element))\n",
        "lengths_apply = merged['CurrencyUnit'].apply(compute_lengths)"
      ],
      "execution_count": null,
      "outputs": []
    },
    {
      "cell_type": "code",
      "metadata": {
        "colab": {
          "base_uri": "https://localhost:8080/"
        },
        "id": "K6YQ-YSb2DuT",
        "outputId": "295e825d-ef0b-47e2-bf38-de033e9c3205"
      },
      "source": [
        "lengths_apply.value_counts(dropna=False) "
      ],
      "execution_count": null,
      "outputs": [
        {
          "output_type": "execute_result",
          "data": {
            "text/plain": [
              "14.0    21\n",
              "4.0     20\n",
              "12.0    17\n",
              "13.0    14\n",
              "NaN     13\n",
              "15.0    13\n",
              "16.0    12\n",
              "18.0     9\n",
              "17.0     9\n",
              "11.0     8\n",
              "22.0     7\n",
              "25.0     5\n",
              "19.0     3\n",
              "9.0      2\n",
              "10.0     1\n",
              "39.0     1\n",
              "26.0     1\n",
              "23.0     1\n",
              "20.0     1\n",
              "Name: CurrencyUnit, dtype: int64"
            ]
          },
          "metadata": {
            "tags": []
          },
          "execution_count": 14
        }
      ]
    },
    {
      "cell_type": "code",
      "metadata": {
        "id": "SuXnrN2i2Hfy"
      },
      "source": [
        "lengths= merged['CurrencyUnit'].str.len()"
      ],
      "execution_count": null,
      "outputs": []
    },
    {
      "cell_type": "code",
      "metadata": {
        "colab": {
          "base_uri": "https://localhost:8080/"
        },
        "id": "5BMtSdvF2vAh",
        "outputId": "6ff90d3d-224e-4608-dcb5-27c05ccd010c"
      },
      "source": [
        "lengths.value_counts(dropna=False)"
      ],
      "execution_count": null,
      "outputs": [
        {
          "output_type": "execute_result",
          "data": {
            "text/plain": [
              "14.0    21\n",
              "4.0     20\n",
              "12.0    17\n",
              "13.0    14\n",
              "NaN     13\n",
              "15.0    13\n",
              "16.0    12\n",
              "18.0     9\n",
              "17.0     9\n",
              "11.0     8\n",
              "22.0     7\n",
              "25.0     5\n",
              "19.0     3\n",
              "9.0      2\n",
              "10.0     1\n",
              "39.0     1\n",
              "26.0     1\n",
              "23.0     1\n",
              "20.0     1\n",
              "Name: CurrencyUnit, dtype: int64"
            ]
          },
          "metadata": {
            "tags": []
          },
          "execution_count": 16
        }
      ]
    },
    {
      "cell_type": "markdown",
      "metadata": {
        "id": "tZfCuHLq3GYP"
      },
      "source": [
        "value_counts contain NaN, it means the Series.str.len() method excluded them and didn't treat them as strings"
      ]
    },
    {
      "cell_type": "markdown",
      "metadata": {
        "id": "t8jLqYdf3aOh"
      },
      "source": [
        "## Finding Specific Words in Strings"
      ]
    },
    {
      "cell_type": "markdown",
      "metadata": {
        "id": "LGg0ujYA5LFu"
      },
      "source": [
        "In pandas, regular expression is integrated with vectorized string methods to make finding and extracting patterns of characters easier"
      ]
    },
    {
      "cell_type": "code",
      "metadata": {
        "colab": {
          "base_uri": "https://localhost:8080/"
        },
        "id": "mXcoSbKd2066",
        "outputId": "f3fe82a3-d05c-4d1b-c71e-e0464a194fe6"
      },
      "source": [
        "pattern = r\"[Nn]ational accounts\"\n",
        "national_accounts = merged['SpecialNotes'].str.contains(pattern)\n",
        "national_accounts"
      ],
      "execution_count": null,
      "outputs": [
        {
          "output_type": "execute_result",
          "data": {
            "text/plain": [
              "0       NaN\n",
              "1       NaN\n",
              "2       NaN\n",
              "3       NaN\n",
              "4      True\n",
              "       ... \n",
              "153    True\n",
              "154     NaN\n",
              "155     NaN\n",
              "156     NaN\n",
              "157    True\n",
              "Name: SpecialNotes, Length: 158, dtype: object"
            ]
          },
          "metadata": {
            "tags": []
          },
          "execution_count": 17
        }
      ]
    },
    {
      "cell_type": "code",
      "metadata": {
        "id": "hLnRKh5A4pVi"
      },
      "source": [
        "## Finding Special Words in Strings Continued"
      ],
      "execution_count": null,
      "outputs": []
    },
    {
      "cell_type": "code",
      "metadata": {
        "colab": {
          "base_uri": "https://localhost:8080/"
        },
        "id": "VYMcIM6I5STZ",
        "outputId": "fa2350ee-e5ec-484d-f162-cc5d7aad0845"
      },
      "source": [
        "national_accounts = merged['SpecialNotes'].str.contains(r\"[Nn]ational accounts\")\n",
        "#Return the value counts for each value in the Series, including missing values.\n",
        "national_accounts.value_counts(dropna=False)"
      ],
      "execution_count": null,
      "outputs": [
        {
          "output_type": "execute_result",
          "data": {
            "text/plain": [
              "NaN      65\n",
              "True     54\n",
              "False    39\n",
              "Name: SpecialNotes, dtype: int64"
            ]
          },
          "metadata": {
            "tags": []
          },
          "execution_count": 19
        }
      ]
    },
    {
      "cell_type": "code",
      "metadata": {
        "id": "ldrfLPvp6Z5p"
      },
      "source": [
        "# boolean indexing to return only the rows that contain \"national accounts\" or \"National accounts\" in the SpecialNotes column:\n",
        "# merged[national_accounts]"
      ],
      "execution_count": null,
      "outputs": []
    },
    {
      "cell_type": "markdown",
      "metadata": {
        "id": "OU-wqnKG6xJH"
      },
      "source": [
        "It looks like we got an error now because of the NaN values"
      ]
    },
    {
      "cell_type": "code",
      "metadata": {
        "colab": {
          "base_uri": "https://localhost:8080/",
          "height": 551
        },
        "id": "vRffT4xG6qZg",
        "outputId": "4259a34e-d093-488b-a444-3ca5febd6d90"
      },
      "source": [
        "national_accounts = merged['SpecialNotes'].str.contains(pattern, na=False)\n",
        "merged_national_accounts = merged[national_accounts]\n",
        "merged_national_accounts.head()"
      ],
      "execution_count": null,
      "outputs": [
        {
          "output_type": "execute_result",
          "data": {
            "text/html": [
              "<div>\n",
              "<style scoped>\n",
              "    .dataframe tbody tr th:only-of-type {\n",
              "        vertical-align: middle;\n",
              "    }\n",
              "\n",
              "    .dataframe tbody tr th {\n",
              "        vertical-align: top;\n",
              "    }\n",
              "\n",
              "    .dataframe thead th {\n",
              "        text-align: right;\n",
              "    }\n",
              "</style>\n",
              "<table border=\"1\" class=\"dataframe\">\n",
              "  <thead>\n",
              "    <tr style=\"text-align: right;\">\n",
              "      <th></th>\n",
              "      <th>Country</th>\n",
              "      <th>Region_x</th>\n",
              "      <th>Happiness Rank</th>\n",
              "      <th>Happiness Score</th>\n",
              "      <th>Standard Error</th>\n",
              "      <th>Economy (GDP per Capita)</th>\n",
              "      <th>Family</th>\n",
              "      <th>Health (Life Expectancy)</th>\n",
              "      <th>Freedom</th>\n",
              "      <th>Trust (Government Corruption)</th>\n",
              "      <th>Generosity</th>\n",
              "      <th>Dystopia Residual</th>\n",
              "      <th>CountryCode</th>\n",
              "      <th>ShortName</th>\n",
              "      <th>TableName</th>\n",
              "      <th>LongName</th>\n",
              "      <th>Alpha2Code</th>\n",
              "      <th>CurrencyUnit</th>\n",
              "      <th>SpecialNotes</th>\n",
              "      <th>Region_y</th>\n",
              "      <th>IncomeGroup</th>\n",
              "      <th>Wb2Code</th>\n",
              "      <th>NationalAccountsBaseYear</th>\n",
              "      <th>NationalAccountsReferenceYear</th>\n",
              "      <th>SnaPriceValuation</th>\n",
              "      <th>LendingCategory</th>\n",
              "      <th>OtherGroups</th>\n",
              "      <th>SystemOfNationalAccounts</th>\n",
              "      <th>AlternativeConversionFactor</th>\n",
              "      <th>PppSurveyYear</th>\n",
              "      <th>BalanceOfPaymentsManualInUse</th>\n",
              "      <th>ExternalDebtReportingStatus</th>\n",
              "      <th>SystemOfTrade</th>\n",
              "      <th>GovernmentAccountingConcept</th>\n",
              "      <th>ImfDataDisseminationStandard</th>\n",
              "      <th>LatestPopulationCensus</th>\n",
              "      <th>LatestHouseholdSurvey</th>\n",
              "      <th>IESurvey</th>\n",
              "      <th>VitalRegistrationComplete</th>\n",
              "      <th>LatestAgriculturalCensus</th>\n",
              "      <th>LatestIndustrialData</th>\n",
              "      <th>LatestTradeData</th>\n",
              "      <th>LatestWaterWithdrawalData</th>\n",
              "      <th>Currency Apply</th>\n",
              "      <th>Currency Vectorized</th>\n",
              "    </tr>\n",
              "  </thead>\n",
              "  <tbody>\n",
              "    <tr>\n",
              "      <th>4</th>\n",
              "      <td>Canada</td>\n",
              "      <td>North America</td>\n",
              "      <td>5</td>\n",
              "      <td>7.427</td>\n",
              "      <td>0.03553</td>\n",
              "      <td>1.32629</td>\n",
              "      <td>1.32261</td>\n",
              "      <td>0.90563</td>\n",
              "      <td>0.63297</td>\n",
              "      <td>0.32957</td>\n",
              "      <td>0.45811</td>\n",
              "      <td>2.45176</td>\n",
              "      <td>CAN</td>\n",
              "      <td>Canada</td>\n",
              "      <td>Canada</td>\n",
              "      <td>Canada</td>\n",
              "      <td>CA</td>\n",
              "      <td>Canadian dollar</td>\n",
              "      <td>Fiscal year end: March 31; reporting period fo...</td>\n",
              "      <td>North America</td>\n",
              "      <td>High income: OECD</td>\n",
              "      <td>CA</td>\n",
              "      <td>Original chained constant price data are resca...</td>\n",
              "      <td>2010</td>\n",
              "      <td>Value added at basic prices (VAB)</td>\n",
              "      <td>NaN</td>\n",
              "      <td>NaN</td>\n",
              "      <td>Country uses the 2008 System of National Accou...</td>\n",
              "      <td>NaN</td>\n",
              "      <td>2011</td>\n",
              "      <td>IMF Balance of Payments Manual, 6th edition.</td>\n",
              "      <td>NaN</td>\n",
              "      <td>General trade system</td>\n",
              "      <td>Consolidated central government</td>\n",
              "      <td>Special Data Dissemination Standard (SDDS)</td>\n",
              "      <td>2011</td>\n",
              "      <td>NaN</td>\n",
              "      <td>Labor force survey (LFS), 2010</td>\n",
              "      <td>Yes</td>\n",
              "      <td>2011</td>\n",
              "      <td>2011.0</td>\n",
              "      <td>2013.0</td>\n",
              "      <td>1986.0</td>\n",
              "      <td>dollar</td>\n",
              "      <td>dollar</td>\n",
              "    </tr>\n",
              "    <tr>\n",
              "      <th>7</th>\n",
              "      <td>Sweden</td>\n",
              "      <td>Western Europe</td>\n",
              "      <td>8</td>\n",
              "      <td>7.364</td>\n",
              "      <td>0.03157</td>\n",
              "      <td>1.33171</td>\n",
              "      <td>1.28907</td>\n",
              "      <td>0.91087</td>\n",
              "      <td>0.65980</td>\n",
              "      <td>0.43844</td>\n",
              "      <td>0.36262</td>\n",
              "      <td>2.37119</td>\n",
              "      <td>SWE</td>\n",
              "      <td>Sweden</td>\n",
              "      <td>Sweden</td>\n",
              "      <td>Kingdom of Sweden</td>\n",
              "      <td>SE</td>\n",
              "      <td>Swedish krona</td>\n",
              "      <td>Fiscal year end: June 30; reporting period for...</td>\n",
              "      <td>Europe &amp; Central Asia</td>\n",
              "      <td>High income: OECD</td>\n",
              "      <td>SE</td>\n",
              "      <td>Original chained constant price data are resca...</td>\n",
              "      <td>2010</td>\n",
              "      <td>Value added at basic prices (VAB)</td>\n",
              "      <td>NaN</td>\n",
              "      <td>NaN</td>\n",
              "      <td>Country uses the 2008 System of National Accou...</td>\n",
              "      <td>NaN</td>\n",
              "      <td>Rolling</td>\n",
              "      <td>IMF Balance of Payments Manual, 6th edition.</td>\n",
              "      <td>NaN</td>\n",
              "      <td>General trade system</td>\n",
              "      <td>Consolidated central government</td>\n",
              "      <td>Special Data Dissemination Standard (SDDS)</td>\n",
              "      <td>2011</td>\n",
              "      <td>NaN</td>\n",
              "      <td>Income survey (IS), 2005</td>\n",
              "      <td>Yes</td>\n",
              "      <td>2010</td>\n",
              "      <td>2010.0</td>\n",
              "      <td>2013.0</td>\n",
              "      <td>2007.0</td>\n",
              "      <td>krona</td>\n",
              "      <td>krona</td>\n",
              "    </tr>\n",
              "    <tr>\n",
              "      <th>8</th>\n",
              "      <td>New Zealand</td>\n",
              "      <td>Australia and New Zealand</td>\n",
              "      <td>9</td>\n",
              "      <td>7.286</td>\n",
              "      <td>0.03371</td>\n",
              "      <td>1.25018</td>\n",
              "      <td>1.31967</td>\n",
              "      <td>0.90837</td>\n",
              "      <td>0.63938</td>\n",
              "      <td>0.42922</td>\n",
              "      <td>0.47501</td>\n",
              "      <td>2.26425</td>\n",
              "      <td>NZL</td>\n",
              "      <td>New Zealand</td>\n",
              "      <td>New Zealand</td>\n",
              "      <td>New Zealand</td>\n",
              "      <td>NZ</td>\n",
              "      <td>New Zealand dollar</td>\n",
              "      <td>Fiscal year end: March 31; reporting period fo...</td>\n",
              "      <td>East Asia &amp; Pacific</td>\n",
              "      <td>High income: OECD</td>\n",
              "      <td>NZ</td>\n",
              "      <td>Original chained constant price data are resca...</td>\n",
              "      <td>2010</td>\n",
              "      <td>Value added at basic prices (VAB)</td>\n",
              "      <td>NaN</td>\n",
              "      <td>NaN</td>\n",
              "      <td>Country uses the 2008 System of National Accou...</td>\n",
              "      <td>NaN</td>\n",
              "      <td>2011</td>\n",
              "      <td>IMF Balance of Payments Manual, 6th edition.</td>\n",
              "      <td>NaN</td>\n",
              "      <td>General trade system</td>\n",
              "      <td>Consolidated central government</td>\n",
              "      <td>NaN</td>\n",
              "      <td>2013</td>\n",
              "      <td>NaN</td>\n",
              "      <td>NaN</td>\n",
              "      <td>Yes</td>\n",
              "      <td>2012</td>\n",
              "      <td>2010.0</td>\n",
              "      <td>2013.0</td>\n",
              "      <td>2002.0</td>\n",
              "      <td>dollar</td>\n",
              "      <td>dollar</td>\n",
              "    </tr>\n",
              "    <tr>\n",
              "      <th>9</th>\n",
              "      <td>Australia</td>\n",
              "      <td>Australia and New Zealand</td>\n",
              "      <td>10</td>\n",
              "      <td>7.284</td>\n",
              "      <td>0.04083</td>\n",
              "      <td>1.33358</td>\n",
              "      <td>1.30923</td>\n",
              "      <td>0.93156</td>\n",
              "      <td>0.65124</td>\n",
              "      <td>0.35637</td>\n",
              "      <td>0.43562</td>\n",
              "      <td>2.26646</td>\n",
              "      <td>AUS</td>\n",
              "      <td>Australia</td>\n",
              "      <td>Australia</td>\n",
              "      <td>Commonwealth of Australia</td>\n",
              "      <td>AU</td>\n",
              "      <td>Australian dollar</td>\n",
              "      <td>Fiscal year end: June 30; reporting period for...</td>\n",
              "      <td>East Asia &amp; Pacific</td>\n",
              "      <td>High income: OECD</td>\n",
              "      <td>AU</td>\n",
              "      <td>Original chained constant price data are resca...</td>\n",
              "      <td>2013/14</td>\n",
              "      <td>Value added at basic prices (VAB)</td>\n",
              "      <td>NaN</td>\n",
              "      <td>NaN</td>\n",
              "      <td>Country uses the 2008 System of National Accou...</td>\n",
              "      <td>NaN</td>\n",
              "      <td>2011</td>\n",
              "      <td>IMF Balance of Payments Manual, 6th edition.</td>\n",
              "      <td>NaN</td>\n",
              "      <td>General trade system</td>\n",
              "      <td>Consolidated central government</td>\n",
              "      <td>Special Data Dissemination Standard (SDDS)</td>\n",
              "      <td>2011</td>\n",
              "      <td>NaN</td>\n",
              "      <td>Expenditure survey/budget survey (ES/BS), 2003</td>\n",
              "      <td>Yes</td>\n",
              "      <td>2011</td>\n",
              "      <td>2011.0</td>\n",
              "      <td>2013.0</td>\n",
              "      <td>2000.0</td>\n",
              "      <td>dollar</td>\n",
              "      <td>dollar</td>\n",
              "    </tr>\n",
              "    <tr>\n",
              "      <th>14</th>\n",
              "      <td>United States</td>\n",
              "      <td>North America</td>\n",
              "      <td>15</td>\n",
              "      <td>7.119</td>\n",
              "      <td>0.03839</td>\n",
              "      <td>1.39451</td>\n",
              "      <td>1.24711</td>\n",
              "      <td>0.86179</td>\n",
              "      <td>0.54604</td>\n",
              "      <td>0.15890</td>\n",
              "      <td>0.40105</td>\n",
              "      <td>2.51011</td>\n",
              "      <td>USA</td>\n",
              "      <td>United States</td>\n",
              "      <td>United States</td>\n",
              "      <td>United States of America</td>\n",
              "      <td>US</td>\n",
              "      <td>U.S. dollar</td>\n",
              "      <td>Fiscal year end: September 30; reporting perio...</td>\n",
              "      <td>North America</td>\n",
              "      <td>High income: OECD</td>\n",
              "      <td>US</td>\n",
              "      <td>Original chained constant price data are resca...</td>\n",
              "      <td>2010</td>\n",
              "      <td>Value added at basic prices (VAB)</td>\n",
              "      <td>NaN</td>\n",
              "      <td>NaN</td>\n",
              "      <td>Country uses the 2008 System of National Accou...</td>\n",
              "      <td>NaN</td>\n",
              "      <td>2011</td>\n",
              "      <td>IMF Balance of Payments Manual, 6th edition.</td>\n",
              "      <td>NaN</td>\n",
              "      <td>General trade system</td>\n",
              "      <td>Consolidated central government</td>\n",
              "      <td>Special Data Dissemination Standard (SDDS)</td>\n",
              "      <td>2010</td>\n",
              "      <td>NaN</td>\n",
              "      <td>Labor force survey (LFS), 2010</td>\n",
              "      <td>Yes</td>\n",
              "      <td>2012</td>\n",
              "      <td>2008.0</td>\n",
              "      <td>2013.0</td>\n",
              "      <td>2005.0</td>\n",
              "      <td>dollar</td>\n",
              "      <td>dollar</td>\n",
              "    </tr>\n",
              "  </tbody>\n",
              "</table>\n",
              "</div>"
            ],
            "text/plain": [
              "          Country                   Region_x  ...  Currency Apply  Currency Vectorized\n",
              "4          Canada              North America  ...          dollar               dollar\n",
              "7          Sweden             Western Europe  ...           krona                krona\n",
              "8     New Zealand  Australia and New Zealand  ...          dollar               dollar\n",
              "9       Australia  Australia and New Zealand  ...          dollar               dollar\n",
              "14  United States              North America  ...          dollar               dollar\n",
              "\n",
              "[5 rows x 45 columns]"
            ]
          },
          "metadata": {
            "tags": []
          },
          "execution_count": 21
        }
      ]
    },
    {
      "cell_type": "markdown",
      "metadata": {
        "id": "HRBPQvJb9JEb"
      },
      "source": [
        "## Extracting Substrings from a Series"
      ]
    },
    {
      "cell_type": "code",
      "metadata": {
        "colab": {
          "base_uri": "https://localhost:8080/",
          "height": 402
        },
        "id": "AY_27Yvt7jR7",
        "outputId": "5a05a4a8-5e84-4967-edc0-997f6a6eaf7e"
      },
      "source": [
        "pattern = r\"(\\d{4})\"\n",
        "years = merged['SpecialNotes'].str.extract(pattern)\n",
        "years"
      ],
      "execution_count": null,
      "outputs": [
        {
          "output_type": "execute_result",
          "data": {
            "text/html": [
              "<div>\n",
              "<style scoped>\n",
              "    .dataframe tbody tr th:only-of-type {\n",
              "        vertical-align: middle;\n",
              "    }\n",
              "\n",
              "    .dataframe tbody tr th {\n",
              "        vertical-align: top;\n",
              "    }\n",
              "\n",
              "    .dataframe thead th {\n",
              "        text-align: right;\n",
              "    }\n",
              "</style>\n",
              "<table border=\"1\" class=\"dataframe\">\n",
              "  <thead>\n",
              "    <tr style=\"text-align: right;\">\n",
              "      <th></th>\n",
              "      <th>0</th>\n",
              "    </tr>\n",
              "  </thead>\n",
              "  <tbody>\n",
              "    <tr>\n",
              "      <th>0</th>\n",
              "      <td>NaN</td>\n",
              "    </tr>\n",
              "    <tr>\n",
              "      <th>1</th>\n",
              "      <td>NaN</td>\n",
              "    </tr>\n",
              "    <tr>\n",
              "      <th>2</th>\n",
              "      <td>NaN</td>\n",
              "    </tr>\n",
              "    <tr>\n",
              "      <th>3</th>\n",
              "      <td>NaN</td>\n",
              "    </tr>\n",
              "    <tr>\n",
              "      <th>4</th>\n",
              "      <td>NaN</td>\n",
              "    </tr>\n",
              "    <tr>\n",
              "      <th>...</th>\n",
              "      <td>...</td>\n",
              "    </tr>\n",
              "    <tr>\n",
              "      <th>153</th>\n",
              "      <td>2006</td>\n",
              "    </tr>\n",
              "    <tr>\n",
              "      <th>154</th>\n",
              "      <td>NaN</td>\n",
              "    </tr>\n",
              "    <tr>\n",
              "      <th>155</th>\n",
              "      <td>NaN</td>\n",
              "    </tr>\n",
              "    <tr>\n",
              "      <th>156</th>\n",
              "      <td>NaN</td>\n",
              "    </tr>\n",
              "    <tr>\n",
              "      <th>157</th>\n",
              "      <td>2013</td>\n",
              "    </tr>\n",
              "  </tbody>\n",
              "</table>\n",
              "<p>158 rows × 1 columns</p>\n",
              "</div>"
            ],
            "text/plain": [
              "        0\n",
              "0     NaN\n",
              "1     NaN\n",
              "2     NaN\n",
              "3     NaN\n",
              "4     NaN\n",
              "..    ...\n",
              "153  2006\n",
              "154   NaN\n",
              "155   NaN\n",
              "156   NaN\n",
              "157  2013\n",
              "\n",
              "[158 rows x 1 columns]"
            ]
          },
          "metadata": {
            "tags": []
          },
          "execution_count": 22
        }
      ]
    },
    {
      "cell_type": "markdown",
      "metadata": {
        "id": "Kvr068249_KI"
      },
      "source": [
        "When we used the Series.str.extract() method, we enclosed our regular expression in parentheses. The parentheses indicate that only the character pattern matched should be extracted and returned in a series. We call this a **capturing group**.\n",
        "\n",
        "**Series.str.extract(\"(pattern)\")**"
      ]
    },
    {
      "cell_type": "markdown",
      "metadata": {
        "id": "DlE1Q15JYNnA"
      },
      "source": [
        "## Extracting All Mathches of a Pattern from a Series "
      ]
    },
    {
      "cell_type": "markdown",
      "metadata": {
        "id": "PFoR3-v_YXwZ"
      },
      "source": [
        "Make the results easier to read by using the df.set_index() method to set the Country column as the index."
      ]
    },
    {
      "cell_type": "code",
      "metadata": {
        "id": "rPF-ikKC8gpR"
      },
      "source": [
        "merged = merged.set_index('Country')"
      ],
      "execution_count": null,
      "outputs": []
    },
    {
      "cell_type": "code",
      "metadata": {
        "colab": {
          "base_uri": "https://localhost:8080/",
          "height": 387
        },
        "id": "ZXG1NoXmYeLB",
        "outputId": "f2db5b11-e008-4f7a-ec16-c8dcb58add78"
      },
      "source": [
        "merged.head(3)"
      ],
      "execution_count": null,
      "outputs": [
        {
          "output_type": "execute_result",
          "data": {
            "text/html": [
              "<div>\n",
              "<style scoped>\n",
              "    .dataframe tbody tr th:only-of-type {\n",
              "        vertical-align: middle;\n",
              "    }\n",
              "\n",
              "    .dataframe tbody tr th {\n",
              "        vertical-align: top;\n",
              "    }\n",
              "\n",
              "    .dataframe thead th {\n",
              "        text-align: right;\n",
              "    }\n",
              "</style>\n",
              "<table border=\"1\" class=\"dataframe\">\n",
              "  <thead>\n",
              "    <tr style=\"text-align: right;\">\n",
              "      <th></th>\n",
              "      <th>Region_x</th>\n",
              "      <th>Happiness Rank</th>\n",
              "      <th>Happiness Score</th>\n",
              "      <th>Standard Error</th>\n",
              "      <th>Economy (GDP per Capita)</th>\n",
              "      <th>Family</th>\n",
              "      <th>Health (Life Expectancy)</th>\n",
              "      <th>Freedom</th>\n",
              "      <th>Trust (Government Corruption)</th>\n",
              "      <th>Generosity</th>\n",
              "      <th>Dystopia Residual</th>\n",
              "      <th>CountryCode</th>\n",
              "      <th>ShortName</th>\n",
              "      <th>TableName</th>\n",
              "      <th>LongName</th>\n",
              "      <th>Alpha2Code</th>\n",
              "      <th>CurrencyUnit</th>\n",
              "      <th>SpecialNotes</th>\n",
              "      <th>Region_y</th>\n",
              "      <th>IncomeGroup</th>\n",
              "      <th>Wb2Code</th>\n",
              "      <th>NationalAccountsBaseYear</th>\n",
              "      <th>NationalAccountsReferenceYear</th>\n",
              "      <th>SnaPriceValuation</th>\n",
              "      <th>LendingCategory</th>\n",
              "      <th>OtherGroups</th>\n",
              "      <th>SystemOfNationalAccounts</th>\n",
              "      <th>AlternativeConversionFactor</th>\n",
              "      <th>PppSurveyYear</th>\n",
              "      <th>BalanceOfPaymentsManualInUse</th>\n",
              "      <th>ExternalDebtReportingStatus</th>\n",
              "      <th>SystemOfTrade</th>\n",
              "      <th>GovernmentAccountingConcept</th>\n",
              "      <th>ImfDataDisseminationStandard</th>\n",
              "      <th>LatestPopulationCensus</th>\n",
              "      <th>LatestHouseholdSurvey</th>\n",
              "      <th>IESurvey</th>\n",
              "      <th>VitalRegistrationComplete</th>\n",
              "      <th>LatestAgriculturalCensus</th>\n",
              "      <th>LatestIndustrialData</th>\n",
              "      <th>LatestTradeData</th>\n",
              "      <th>LatestWaterWithdrawalData</th>\n",
              "      <th>Currency Apply</th>\n",
              "      <th>Currency Vectorized</th>\n",
              "    </tr>\n",
              "    <tr>\n",
              "      <th>Country</th>\n",
              "      <th></th>\n",
              "      <th></th>\n",
              "      <th></th>\n",
              "      <th></th>\n",
              "      <th></th>\n",
              "      <th></th>\n",
              "      <th></th>\n",
              "      <th></th>\n",
              "      <th></th>\n",
              "      <th></th>\n",
              "      <th></th>\n",
              "      <th></th>\n",
              "      <th></th>\n",
              "      <th></th>\n",
              "      <th></th>\n",
              "      <th></th>\n",
              "      <th></th>\n",
              "      <th></th>\n",
              "      <th></th>\n",
              "      <th></th>\n",
              "      <th></th>\n",
              "      <th></th>\n",
              "      <th></th>\n",
              "      <th></th>\n",
              "      <th></th>\n",
              "      <th></th>\n",
              "      <th></th>\n",
              "      <th></th>\n",
              "      <th></th>\n",
              "      <th></th>\n",
              "      <th></th>\n",
              "      <th></th>\n",
              "      <th></th>\n",
              "      <th></th>\n",
              "      <th></th>\n",
              "      <th></th>\n",
              "      <th></th>\n",
              "      <th></th>\n",
              "      <th></th>\n",
              "      <th></th>\n",
              "      <th></th>\n",
              "      <th></th>\n",
              "      <th></th>\n",
              "      <th></th>\n",
              "    </tr>\n",
              "  </thead>\n",
              "  <tbody>\n",
              "    <tr>\n",
              "      <th>Switzerland</th>\n",
              "      <td>Western Europe</td>\n",
              "      <td>1</td>\n",
              "      <td>7.587</td>\n",
              "      <td>0.03411</td>\n",
              "      <td>1.39651</td>\n",
              "      <td>1.34951</td>\n",
              "      <td>0.94143</td>\n",
              "      <td>0.66557</td>\n",
              "      <td>0.41978</td>\n",
              "      <td>0.29678</td>\n",
              "      <td>2.51738</td>\n",
              "      <td>CHE</td>\n",
              "      <td>Switzerland</td>\n",
              "      <td>Switzerland</td>\n",
              "      <td>Switzerland</td>\n",
              "      <td>CH</td>\n",
              "      <td>Swiss franc</td>\n",
              "      <td>NaN</td>\n",
              "      <td>Europe &amp; Central Asia</td>\n",
              "      <td>High income: OECD</td>\n",
              "      <td>CH</td>\n",
              "      <td>Original chained constant price data are resca...</td>\n",
              "      <td>2010</td>\n",
              "      <td>Value added at basic prices (VAB)</td>\n",
              "      <td>NaN</td>\n",
              "      <td>NaN</td>\n",
              "      <td>Country uses the 2008 System of National Accou...</td>\n",
              "      <td>NaN</td>\n",
              "      <td>Rolling</td>\n",
              "      <td>IMF Balance of Payments Manual, 6th edition.</td>\n",
              "      <td>NaN</td>\n",
              "      <td>Special trade system</td>\n",
              "      <td>Consolidated central government</td>\n",
              "      <td>Special Data Dissemination Standard (SDDS)</td>\n",
              "      <td>2010</td>\n",
              "      <td>NaN</td>\n",
              "      <td>Expenditure survey/budget survey (ES/BS), 2004</td>\n",
              "      <td>Yes</td>\n",
              "      <td>2008</td>\n",
              "      <td>2010.0</td>\n",
              "      <td>2013.0</td>\n",
              "      <td>2000.0</td>\n",
              "      <td>franc</td>\n",
              "      <td>franc</td>\n",
              "    </tr>\n",
              "    <tr>\n",
              "      <th>Iceland</th>\n",
              "      <td>Western Europe</td>\n",
              "      <td>2</td>\n",
              "      <td>7.561</td>\n",
              "      <td>0.04884</td>\n",
              "      <td>1.30232</td>\n",
              "      <td>1.40223</td>\n",
              "      <td>0.94784</td>\n",
              "      <td>0.62877</td>\n",
              "      <td>0.14145</td>\n",
              "      <td>0.43630</td>\n",
              "      <td>2.70201</td>\n",
              "      <td>ISL</td>\n",
              "      <td>Iceland</td>\n",
              "      <td>Iceland</td>\n",
              "      <td>Republic of Iceland</td>\n",
              "      <td>IS</td>\n",
              "      <td>Iceland krona</td>\n",
              "      <td>NaN</td>\n",
              "      <td>Europe &amp; Central Asia</td>\n",
              "      <td>High income: OECD</td>\n",
              "      <td>IS</td>\n",
              "      <td>Original chained constant price data are resca...</td>\n",
              "      <td>2010</td>\n",
              "      <td>Value added at basic prices (VAB)</td>\n",
              "      <td>NaN</td>\n",
              "      <td>NaN</td>\n",
              "      <td>Country uses the 2008 System of National Accou...</td>\n",
              "      <td>NaN</td>\n",
              "      <td>Rolling</td>\n",
              "      <td>IMF Balance of Payments Manual, 6th edition.</td>\n",
              "      <td>NaN</td>\n",
              "      <td>General trade system</td>\n",
              "      <td>Consolidated central government</td>\n",
              "      <td>Special Data Dissemination Standard (SDDS)</td>\n",
              "      <td>2011</td>\n",
              "      <td>NaN</td>\n",
              "      <td>Integrated household survey (IHS), 2010</td>\n",
              "      <td>Yes</td>\n",
              "      <td>2010</td>\n",
              "      <td>2005.0</td>\n",
              "      <td>2013.0</td>\n",
              "      <td>2005.0</td>\n",
              "      <td>krona</td>\n",
              "      <td>krona</td>\n",
              "    </tr>\n",
              "    <tr>\n",
              "      <th>Denmark</th>\n",
              "      <td>Western Europe</td>\n",
              "      <td>3</td>\n",
              "      <td>7.527</td>\n",
              "      <td>0.03328</td>\n",
              "      <td>1.32548</td>\n",
              "      <td>1.36058</td>\n",
              "      <td>0.87464</td>\n",
              "      <td>0.64938</td>\n",
              "      <td>0.48357</td>\n",
              "      <td>0.34139</td>\n",
              "      <td>2.49204</td>\n",
              "      <td>DNK</td>\n",
              "      <td>Denmark</td>\n",
              "      <td>Denmark</td>\n",
              "      <td>Kingdom of Denmark</td>\n",
              "      <td>DK</td>\n",
              "      <td>Danish krone</td>\n",
              "      <td>NaN</td>\n",
              "      <td>Europe &amp; Central Asia</td>\n",
              "      <td>High income: OECD</td>\n",
              "      <td>DK</td>\n",
              "      <td>Original chained constant price data are resca...</td>\n",
              "      <td>2010</td>\n",
              "      <td>Value added at basic prices (VAB)</td>\n",
              "      <td>NaN</td>\n",
              "      <td>NaN</td>\n",
              "      <td>Country uses the 2008 System of National Accou...</td>\n",
              "      <td>NaN</td>\n",
              "      <td>Rolling</td>\n",
              "      <td>IMF Balance of Payments Manual, 6th edition.</td>\n",
              "      <td>NaN</td>\n",
              "      <td>Special trade system</td>\n",
              "      <td>Consolidated central government</td>\n",
              "      <td>Special Data Dissemination Standard (SDDS)</td>\n",
              "      <td>2011</td>\n",
              "      <td>NaN</td>\n",
              "      <td>Income tax registers (ITR), 2010</td>\n",
              "      <td>Yes</td>\n",
              "      <td>2010</td>\n",
              "      <td>2010.0</td>\n",
              "      <td>2013.0</td>\n",
              "      <td>2009.0</td>\n",
              "      <td>krone</td>\n",
              "      <td>krone</td>\n",
              "    </tr>\n",
              "  </tbody>\n",
              "</table>\n",
              "</div>"
            ],
            "text/plain": [
              "                   Region_x  Happiness Rank  ...  Currency Apply  Currency Vectorized\n",
              "Country                                      ...                                     \n",
              "Switzerland  Western Europe               1  ...           franc                franc\n",
              "Iceland      Western Europe               2  ...           krona                krona\n",
              "Denmark      Western Europe               3  ...           krone                krone\n",
              "\n",
              "[3 rows x 44 columns]"
            ]
          },
          "metadata": {
            "tags": []
          },
          "execution_count": 24
        }
      ]
    },
    {
      "cell_type": "code",
      "metadata": {
        "colab": {
          "base_uri": "https://localhost:8080/",
          "height": 431
        },
        "id": "AycTXYheYfSJ",
        "outputId": "09fa3759-1d30-4bd5-baff-024a4a1ed62c"
      },
      "source": [
        "# syntax (?P<Column_Name>...)\n",
        "pattern = r'(?P<Years>[1-2][0-9]{3})'\n",
        "merged['SpecialNotes'].str.extractall(pattern)"
      ],
      "execution_count": null,
      "outputs": [
        {
          "output_type": "execute_result",
          "data": {
            "text/html": [
              "<div>\n",
              "<style scoped>\n",
              "    .dataframe tbody tr th:only-of-type {\n",
              "        vertical-align: middle;\n",
              "    }\n",
              "\n",
              "    .dataframe tbody tr th {\n",
              "        vertical-align: top;\n",
              "    }\n",
              "\n",
              "    .dataframe thead th {\n",
              "        text-align: right;\n",
              "    }\n",
              "</style>\n",
              "<table border=\"1\" class=\"dataframe\">\n",
              "  <thead>\n",
              "    <tr style=\"text-align: right;\">\n",
              "      <th></th>\n",
              "      <th></th>\n",
              "      <th>Years</th>\n",
              "    </tr>\n",
              "    <tr>\n",
              "      <th>Country</th>\n",
              "      <th>match</th>\n",
              "      <th></th>\n",
              "    </tr>\n",
              "  </thead>\n",
              "  <tbody>\n",
              "    <tr>\n",
              "      <th rowspan=\"2\" valign=\"top\">Finland</th>\n",
              "      <th>0</th>\n",
              "      <td>1999</td>\n",
              "    </tr>\n",
              "    <tr>\n",
              "      <th>1</th>\n",
              "      <td>1999</td>\n",
              "    </tr>\n",
              "    <tr>\n",
              "      <th rowspan=\"3\" valign=\"top\">Netherlands</th>\n",
              "      <th>0</th>\n",
              "      <td>1999</td>\n",
              "    </tr>\n",
              "    <tr>\n",
              "      <th>1</th>\n",
              "      <td>2037</td>\n",
              "    </tr>\n",
              "    <tr>\n",
              "      <th>2</th>\n",
              "      <td>1999</td>\n",
              "    </tr>\n",
              "    <tr>\n",
              "      <th>...</th>\n",
              "      <th>...</th>\n",
              "      <td>...</td>\n",
              "    </tr>\n",
              "    <tr>\n",
              "      <th rowspan=\"2\" valign=\"top\">Rwanda</th>\n",
              "      <th>1</th>\n",
              "      <td>2011</td>\n",
              "    </tr>\n",
              "    <tr>\n",
              "      <th>2</th>\n",
              "      <td>2008</td>\n",
              "    </tr>\n",
              "    <tr>\n",
              "      <th rowspan=\"3\" valign=\"top\">Togo</th>\n",
              "      <th>0</th>\n",
              "      <td>2013</td>\n",
              "    </tr>\n",
              "    <tr>\n",
              "      <th>1</th>\n",
              "      <td>2000</td>\n",
              "    </tr>\n",
              "    <tr>\n",
              "      <th>2</th>\n",
              "      <td>2000</td>\n",
              "    </tr>\n",
              "  </tbody>\n",
              "</table>\n",
              "<p>164 rows × 1 columns</p>\n",
              "</div>"
            ],
            "text/plain": [
              "                  Years\n",
              "Country     match      \n",
              "Finland     0      1999\n",
              "            1      1999\n",
              "Netherlands 0      1999\n",
              "            1      2037\n",
              "            2      1999\n",
              "...                 ...\n",
              "Rwanda      1      2011\n",
              "            2      2008\n",
              "Togo        0      2013\n",
              "            1      2000\n",
              "            2      2000\n",
              "\n",
              "[164 rows x 1 columns]"
            ]
          },
          "metadata": {
            "tags": []
          },
          "execution_count": 25
        }
      ]
    },
    {
      "cell_type": "code",
      "metadata": {
        "colab": {
          "base_uri": "https://localhost:8080/"
        },
        "id": "83sQ3UXTYyKS",
        "outputId": "7241e45e-7c0d-4791-b51b-466769ae06e4"
      },
      "source": [
        "pattern = r'(?P<Years>[12]\\d{3})'\n",
        "years = merged['IESurvey'].str.extractall(pattern)\n",
        "years.value_counts()"
      ],
      "execution_count": null,
      "outputs": [
        {
          "output_type": "execute_result",
          "data": {
            "text/plain": [
              "Years\n",
              "2012     33\n",
              "2010     28\n",
              "2011     22\n",
              "2013     12\n",
              "2009      8\n",
              "2005      6\n",
              "2008      6\n",
              "2007      4\n",
              "2004      3\n",
              "2006      1\n",
              "2003      1\n",
              "2002      1\n",
              "2000      1\n",
              "1999      1\n",
              "1998      1\n",
              "1995      1\n",
              "1992      1\n",
              "dtype: int64"
            ]
          },
          "metadata": {
            "tags": []
          },
          "execution_count": 26
        }
      ]
    },
    {
      "cell_type": "markdown",
      "metadata": {
        "id": "gic7n9Qkdb1M"
      },
      "source": [
        "## Extracting more than one group of pattern a Series "
      ]
    },
    {
      "cell_type": "markdown",
      "metadata": {
        "id": "78BSBgiqeJSx"
      },
      "source": [
        "When we tried to extract all of the years from the IESurvey column using the extractall method in the last exercise, we were unsuccessful because some of our years had the following format:\n",
        "\n",
        "2018/19"
      ]
    },
    {
      "cell_type": "code",
      "metadata": {
        "colab": {
          "base_uri": "https://localhost:8080/",
          "height": 225
        },
        "id": "8yDQXfKub_8a",
        "outputId": "6513b621-9909-40f5-d178-31c7807b8df9"
      },
      "source": [
        "pattern = r\"(?P<First_Year>[1-2][0-9]{3})(/)?(?P<Second_Year>[0-9]{2})?\"\n",
        "years = merged['IESurvey'].str.extractall(pattern)\n",
        "years.head(5)"
      ],
      "execution_count": null,
      "outputs": [
        {
          "output_type": "execute_result",
          "data": {
            "text/html": [
              "<div>\n",
              "<style scoped>\n",
              "    .dataframe tbody tr th:only-of-type {\n",
              "        vertical-align: middle;\n",
              "    }\n",
              "\n",
              "    .dataframe tbody tr th {\n",
              "        vertical-align: top;\n",
              "    }\n",
              "\n",
              "    .dataframe thead th {\n",
              "        text-align: right;\n",
              "    }\n",
              "</style>\n",
              "<table border=\"1\" class=\"dataframe\">\n",
              "  <thead>\n",
              "    <tr style=\"text-align: right;\">\n",
              "      <th></th>\n",
              "      <th></th>\n",
              "      <th>First_Year</th>\n",
              "      <th>1</th>\n",
              "      <th>Second_Year</th>\n",
              "    </tr>\n",
              "    <tr>\n",
              "      <th>Country</th>\n",
              "      <th>match</th>\n",
              "      <th></th>\n",
              "      <th></th>\n",
              "      <th></th>\n",
              "    </tr>\n",
              "  </thead>\n",
              "  <tbody>\n",
              "    <tr>\n",
              "      <th>Switzerland</th>\n",
              "      <th>0</th>\n",
              "      <td>2004</td>\n",
              "      <td>NaN</td>\n",
              "      <td>NaN</td>\n",
              "    </tr>\n",
              "    <tr>\n",
              "      <th>Iceland</th>\n",
              "      <th>0</th>\n",
              "      <td>2010</td>\n",
              "      <td>NaN</td>\n",
              "      <td>NaN</td>\n",
              "    </tr>\n",
              "    <tr>\n",
              "      <th>Denmark</th>\n",
              "      <th>0</th>\n",
              "      <td>2010</td>\n",
              "      <td>NaN</td>\n",
              "      <td>NaN</td>\n",
              "    </tr>\n",
              "    <tr>\n",
              "      <th>Norway</th>\n",
              "      <th>0</th>\n",
              "      <td>2010</td>\n",
              "      <td>NaN</td>\n",
              "      <td>NaN</td>\n",
              "    </tr>\n",
              "    <tr>\n",
              "      <th>Canada</th>\n",
              "      <th>0</th>\n",
              "      <td>2010</td>\n",
              "      <td>NaN</td>\n",
              "      <td>NaN</td>\n",
              "    </tr>\n",
              "  </tbody>\n",
              "</table>\n",
              "</div>"
            ],
            "text/plain": [
              "                  First_Year    1 Second_Year\n",
              "Country     match                            \n",
              "Switzerland 0           2004  NaN         NaN\n",
              "Iceland     0           2010  NaN         NaN\n",
              "Denmark     0           2010  NaN         NaN\n",
              "Norway      0           2010  NaN         NaN\n",
              "Canada      0           2010  NaN         NaN"
            ]
          },
          "metadata": {
            "tags": []
          },
          "execution_count": 27
        }
      ]
    },
    {
      "cell_type": "code",
      "metadata": {
        "colab": {
          "base_uri": "https://localhost:8080/",
          "height": 431
        },
        "id": "yRUdMcUaeURl",
        "outputId": "1f569779-a311-414a-dc27-6027ef409031"
      },
      "source": [
        "years.sort_values('Second_Year')"
      ],
      "execution_count": null,
      "outputs": [
        {
          "output_type": "execute_result",
          "data": {
            "text/html": [
              "<div>\n",
              "<style scoped>\n",
              "    .dataframe tbody tr th:only-of-type {\n",
              "        vertical-align: middle;\n",
              "    }\n",
              "\n",
              "    .dataframe tbody tr th {\n",
              "        vertical-align: top;\n",
              "    }\n",
              "\n",
              "    .dataframe thead th {\n",
              "        text-align: right;\n",
              "    }\n",
              "</style>\n",
              "<table border=\"1\" class=\"dataframe\">\n",
              "  <thead>\n",
              "    <tr style=\"text-align: right;\">\n",
              "      <th></th>\n",
              "      <th></th>\n",
              "      <th>First_Year</th>\n",
              "      <th>1</th>\n",
              "      <th>Second_Year</th>\n",
              "    </tr>\n",
              "    <tr>\n",
              "      <th>Country</th>\n",
              "      <th>match</th>\n",
              "      <th></th>\n",
              "      <th></th>\n",
              "      <th></th>\n",
              "    </tr>\n",
              "  </thead>\n",
              "  <tbody>\n",
              "    <tr>\n",
              "      <th>Kenya</th>\n",
              "      <th>0</th>\n",
              "      <td>2005</td>\n",
              "      <td>/</td>\n",
              "      <td>06</td>\n",
              "    </tr>\n",
              "    <tr>\n",
              "      <th>Angola</th>\n",
              "      <th>0</th>\n",
              "      <td>2008</td>\n",
              "      <td>/</td>\n",
              "      <td>09</td>\n",
              "    </tr>\n",
              "    <tr>\n",
              "      <th>Mozambique</th>\n",
              "      <th>0</th>\n",
              "      <td>2008</td>\n",
              "      <td>/</td>\n",
              "      <td>09</td>\n",
              "    </tr>\n",
              "    <tr>\n",
              "      <th>Nigeria</th>\n",
              "      <th>0</th>\n",
              "      <td>2009</td>\n",
              "      <td>/</td>\n",
              "      <td>10</td>\n",
              "    </tr>\n",
              "    <tr>\n",
              "      <th>Mali</th>\n",
              "      <th>0</th>\n",
              "      <td>2009</td>\n",
              "      <td>/</td>\n",
              "      <td>10</td>\n",
              "    </tr>\n",
              "    <tr>\n",
              "      <th>...</th>\n",
              "      <th>...</th>\n",
              "      <td>...</td>\n",
              "      <td>...</td>\n",
              "      <td>...</td>\n",
              "    </tr>\n",
              "    <tr>\n",
              "      <th>Guinea</th>\n",
              "      <th>0</th>\n",
              "      <td>2012</td>\n",
              "      <td>NaN</td>\n",
              "      <td>NaN</td>\n",
              "    </tr>\n",
              "    <tr>\n",
              "      <th>Burkina Faso</th>\n",
              "      <th>0</th>\n",
              "      <td>2009</td>\n",
              "      <td>NaN</td>\n",
              "      <td>NaN</td>\n",
              "    </tr>\n",
              "    <tr>\n",
              "      <th>Afghanistan</th>\n",
              "      <th>0</th>\n",
              "      <td>2008</td>\n",
              "      <td>NaN</td>\n",
              "      <td>NaN</td>\n",
              "    </tr>\n",
              "    <tr>\n",
              "      <th>Burundi</th>\n",
              "      <th>0</th>\n",
              "      <td>2006</td>\n",
              "      <td>NaN</td>\n",
              "      <td>NaN</td>\n",
              "    </tr>\n",
              "    <tr>\n",
              "      <th>Togo</th>\n",
              "      <th>0</th>\n",
              "      <td>2011</td>\n",
              "      <td>NaN</td>\n",
              "      <td>NaN</td>\n",
              "    </tr>\n",
              "  </tbody>\n",
              "</table>\n",
              "<p>130 rows × 3 columns</p>\n",
              "</div>"
            ],
            "text/plain": [
              "                   First_Year    1 Second_Year\n",
              "Country      match                            \n",
              "Kenya        0           2005    /          06\n",
              "Angola       0           2008    /          09\n",
              "Mozambique   0           2008    /          09\n",
              "Nigeria      0           2009    /          10\n",
              "Mali         0           2009    /          10\n",
              "...                       ...  ...         ...\n",
              "Guinea       0           2012  NaN         NaN\n",
              "Burkina Faso 0           2009  NaN         NaN\n",
              "Afghanistan  0           2008  NaN         NaN\n",
              "Burundi      0           2006  NaN         NaN\n",
              "Togo         0           2011  NaN         NaN\n",
              "\n",
              "[130 rows x 3 columns]"
            ]
          },
          "metadata": {
            "tags": []
          },
          "execution_count": 28
        }
      ]
    },
    {
      "cell_type": "code",
      "metadata": {
        "colab": {
          "base_uri": "https://localhost:8080/",
          "height": 431
        },
        "id": "JLPLUymSebtZ",
        "outputId": "2562e849-c2d8-4407-8e29-556c38067cb4"
      },
      "source": [
        "pattern = r\"(?P<First_Year>[1-2][0-9]{3})/?(?P<Second_Year>[0-9]{2})?\"\n",
        "years = merged['IESurvey'].str.extractall(pattern)\n",
        "first_two_year = years['First_Year'].str.extract('(\\d{2})')\n",
        "first_two_year[0]\n",
        "years['Second_Year'] = first_two_year[0] + years['Second_Year']\n",
        "years"
      ],
      "execution_count": null,
      "outputs": [
        {
          "output_type": "execute_result",
          "data": {
            "text/html": [
              "<div>\n",
              "<style scoped>\n",
              "    .dataframe tbody tr th:only-of-type {\n",
              "        vertical-align: middle;\n",
              "    }\n",
              "\n",
              "    .dataframe tbody tr th {\n",
              "        vertical-align: top;\n",
              "    }\n",
              "\n",
              "    .dataframe thead th {\n",
              "        text-align: right;\n",
              "    }\n",
              "</style>\n",
              "<table border=\"1\" class=\"dataframe\">\n",
              "  <thead>\n",
              "    <tr style=\"text-align: right;\">\n",
              "      <th></th>\n",
              "      <th></th>\n",
              "      <th>First_Year</th>\n",
              "      <th>Second_Year</th>\n",
              "    </tr>\n",
              "    <tr>\n",
              "      <th>Country</th>\n",
              "      <th>match</th>\n",
              "      <th></th>\n",
              "      <th></th>\n",
              "    </tr>\n",
              "  </thead>\n",
              "  <tbody>\n",
              "    <tr>\n",
              "      <th>Switzerland</th>\n",
              "      <th>0</th>\n",
              "      <td>2004</td>\n",
              "      <td>NaN</td>\n",
              "    </tr>\n",
              "    <tr>\n",
              "      <th>Iceland</th>\n",
              "      <th>0</th>\n",
              "      <td>2010</td>\n",
              "      <td>NaN</td>\n",
              "    </tr>\n",
              "    <tr>\n",
              "      <th>Denmark</th>\n",
              "      <th>0</th>\n",
              "      <td>2010</td>\n",
              "      <td>NaN</td>\n",
              "    </tr>\n",
              "    <tr>\n",
              "      <th>Norway</th>\n",
              "      <th>0</th>\n",
              "      <td>2010</td>\n",
              "      <td>NaN</td>\n",
              "    </tr>\n",
              "    <tr>\n",
              "      <th>Canada</th>\n",
              "      <th>0</th>\n",
              "      <td>2010</td>\n",
              "      <td>NaN</td>\n",
              "    </tr>\n",
              "    <tr>\n",
              "      <th>...</th>\n",
              "      <th>...</th>\n",
              "      <td>...</td>\n",
              "      <td>...</td>\n",
              "    </tr>\n",
              "    <tr>\n",
              "      <th>Afghanistan</th>\n",
              "      <th>0</th>\n",
              "      <td>2008</td>\n",
              "      <td>NaN</td>\n",
              "    </tr>\n",
              "    <tr>\n",
              "      <th>Rwanda</th>\n",
              "      <th>0</th>\n",
              "      <td>2010</td>\n",
              "      <td>2011</td>\n",
              "    </tr>\n",
              "    <tr>\n",
              "      <th>Benin</th>\n",
              "      <th>0</th>\n",
              "      <td>2011</td>\n",
              "      <td>2012</td>\n",
              "    </tr>\n",
              "    <tr>\n",
              "      <th>Burundi</th>\n",
              "      <th>0</th>\n",
              "      <td>2006</td>\n",
              "      <td>NaN</td>\n",
              "    </tr>\n",
              "    <tr>\n",
              "      <th>Togo</th>\n",
              "      <th>0</th>\n",
              "      <td>2011</td>\n",
              "      <td>NaN</td>\n",
              "    </tr>\n",
              "  </tbody>\n",
              "</table>\n",
              "<p>130 rows × 2 columns</p>\n",
              "</div>"
            ],
            "text/plain": [
              "                  First_Year Second_Year\n",
              "Country     match                       \n",
              "Switzerland 0           2004         NaN\n",
              "Iceland     0           2010         NaN\n",
              "Denmark     0           2010         NaN\n",
              "Norway      0           2010         NaN\n",
              "Canada      0           2010         NaN\n",
              "...                      ...         ...\n",
              "Afghanistan 0           2008         NaN\n",
              "Rwanda      0           2010        2011\n",
              "Benin       0           2011        2012\n",
              "Burundi     0           2006         NaN\n",
              "Togo        0           2011         NaN\n",
              "\n",
              "[130 rows x 2 columns]"
            ]
          },
          "metadata": {
            "tags": []
          },
          "execution_count": 29
        }
      ]
    },
    {
      "cell_type": "markdown",
      "metadata": {
        "id": "5S-q2SS7iZDR"
      },
      "source": [
        "* If part of the regex isn't grouped using parantheses, (), it won't be extracted.\n",
        "* When we add a string to a column using the plus sign, +, pandas will add that string to every value in the column. Note that the strings will be added together without any spaces."
      ]
    },
    {
      "cell_type": "markdown",
      "metadata": {
        "id": "ykmZyqRiilK9"
      },
      "source": [
        "## Challenge: Clean a String Column, Aggregation the Data and Plot the Results"
      ]
    },
    {
      "cell_type": "markdown",
      "metadata": {
        "id": "ra6OXN130HGV"
      },
      "source": [
        "| Current Values       | Updated Values |\n",
        "|----------------------|----------------|\n",
        "| Upper middle income  | UPPER MIDDLE   |\n",
        "| Lower middle income  | LOWER MIDDLE   |\n",
        "| High income: OECD    | HIGHT OECD     |\n",
        "| Low income           | LOW            |\n",
        "| High income: nonOECD | HIGH NONOECD   |\n",
        "\n",
        "\n"
      ]
    },
    {
      "cell_type": "code",
      "metadata": {
        "id": "xM983UJ71KGn",
        "colab": {
          "base_uri": "https://localhost:8080/"
        },
        "outputId": "17c52fe7-1eb4-4cc1-d5d8-f34909ba41e3"
      },
      "source": [
        "merged['IncomeGroup'].value_counts()"
      ],
      "execution_count": null,
      "outputs": [
        {
          "output_type": "execute_result",
          "data": {
            "text/plain": [
              "Upper middle income     39\n",
              "Lower middle income     35\n",
              "High income: OECD       30\n",
              "Low income              24\n",
              "High income: nonOECD    17\n",
              "Name: IncomeGroup, dtype: int64"
            ]
          },
          "metadata": {
            "tags": []
          },
          "execution_count": 30
        }
      ]
    },
    {
      "cell_type": "code",
      "metadata": {
        "colab": {
          "base_uri": "https://localhost:8080/",
          "height": 322
        },
        "id": "1Jj0Wl4AlNW_",
        "outputId": "b8ed72f5-b03e-4a17-af2f-b0218a7e5d13"
      },
      "source": [
        "import matplotlib.pyplot as plt\n",
        "\n",
        "# remove the whitespace at the end of the strings.\n",
        "merged['IncomeGroup'] =  merged['IncomeGroup'].str.rstrip(' ')\n",
        "merged['IncomeGroup'] = merged['IncomeGroup'].str.replace(' income', '').str.replace(':', '').str.upper()\n",
        "pv_incomes = merged.pivot_table(values='Happiness Score', index='IncomeGroup')\n",
        "pv_incomes.plot(kind='bar', rot=30, ylim=(0,10))\n",
        "plt.show()"
      ],
      "execution_count": null,
      "outputs": [
        {
          "output_type": "display_data",
          "data": {
            "image/png": "[encoded data removed]",
            "text/plain": [
              "<Figure size 432x288 with 1 Axes>"
            ]
          },
          "metadata": {
            "tags": [],
            "needs_background": "light"
          }
        }
      ]
    },
    {
      "cell_type": "code",
      "metadata": {
        "id": "Xr_4FwCTlBZN"
      },
      "source": [
        ""
      ],
      "execution_count": null,
      "outputs": []
    }
  ]
}
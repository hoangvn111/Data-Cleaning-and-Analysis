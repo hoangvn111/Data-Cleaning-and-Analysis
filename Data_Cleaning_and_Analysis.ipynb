{
  "nbformat": 4,
  "nbformat_minor": 0,
  "metadata": {
    "colab": {
      "name": "Data Cleaning and Analysis.ipynb",
      "provenance": [],
      "authorship_tag": "ABX9TyNYUJ+nB1lzMK/jXp9o//RF",
      "include_colab_link": true
    },
    "kernelspec": {
      "name": "python3",
      "display_name": "Python 3"
    },
    "language_info": {
      "name": "python"
    }
  },
  "cells": [
    {
      "cell_type": "markdown",
      "metadata": {
        "id": "view-in-github",
        "colab_type": "text"
      },
      "source": [
        "<a href=\"https://colab.research.google.com/github/hoangvn111/Data-Cleaning-and-Analysis/blob/master/Data_Cleaning_and_Analysis.ipynb\" target=\"_parent\"><img src=\"https://colab.research.google.com/assets/colab-badge.svg\" alt=\"Open In Colab\"/></a>"
      ]
    },
    {
      "cell_type": "code",
      "metadata": {
        "colab": {
          "base_uri": "https://localhost:8080/"
        },
        "id": "xHjS5C-Z32nx",
        "outputId": "ed1f6c1d-1db7-45d7-e22c-9ff7d24b428d"
      },
      "source": [
        "from google.colab import drive\n",
        "drive.mount('/content/drive')"
      ],
      "execution_count": 71,
      "outputs": [
        {
          "output_type": "stream",
          "text": [
            "Drive already mounted at /content/drive; to attempt to forcibly remount, call drive.mount(\"/content/drive\", force_remount=True).\n"
          ],
          "name": "stdout"
        }
      ]
    },
    {
      "cell_type": "markdown",
      "metadata": {
        "id": "NeWnwB3T5hiA"
      },
      "source": [
        "# Data Aggregation"
      ]
    },
    {
      "cell_type": "markdown",
      "metadata": {
        "id": "3244LDGNPOgU"
      },
      "source": [
        "## World Happiness 2015"
      ]
    },
    {
      "cell_type": "code",
      "metadata": {
        "id": "sQVClrqb4CcA"
      },
      "source": [
        "import pandas as pd \n",
        "\n",
        "happiness2015 = pd.read_csv('/content/drive/MyDrive/my_datasets/Data Cleaning and Analysis/World_Happiness_2015.csv')"
      ],
      "execution_count": 72,
      "outputs": []
    },
    {
      "cell_type": "markdown",
      "metadata": {
        "id": "6hTGAlE2PZHY"
      },
      "source": [
        "Introduce data"
      ]
    },
    {
      "cell_type": "code",
      "metadata": {
        "id": "HQ9Crpza4952"
      },
      "source": [
        "first_5 = happiness2015.head().copy()"
      ],
      "execution_count": 73,
      "outputs": []
    },
    {
      "cell_type": "code",
      "metadata": {
        "colab": {
          "base_uri": "https://localhost:8080/"
        },
        "id": "naRRvgKo5A2R",
        "outputId": "b98d4486-916b-4495-ab81-528e8284f634"
      },
      "source": [
        "happiness2015.info()"
      ],
      "execution_count": 74,
      "outputs": [
        {
          "output_type": "stream",
          "text": [
            "<class 'pandas.core.frame.DataFrame'>\n",
            "RangeIndex: 158 entries, 0 to 157\n",
            "Data columns (total 12 columns):\n",
            " #   Column                         Non-Null Count  Dtype  \n",
            "---  ------                         --------------  -----  \n",
            " 0   Country                        158 non-null    object \n",
            " 1   Region                         158 non-null    object \n",
            " 2   Happiness Rank                 158 non-null    int64  \n",
            " 3   Happiness Score                158 non-null    float64\n",
            " 4   Standard Error                 158 non-null    float64\n",
            " 5   Economy (GDP per Capita)       158 non-null    float64\n",
            " 6   Family                         158 non-null    float64\n",
            " 7   Health (Life Expectancy)       158 non-null    float64\n",
            " 8   Freedom                        158 non-null    float64\n",
            " 9   Trust (Government Corruption)  158 non-null    float64\n",
            " 10  Generosity                     158 non-null    float64\n",
            " 11  Dystopia Residual              158 non-null    float64\n",
            "dtypes: float64(9), int64(1), object(2)\n",
            "memory usage: 14.9+ KB\n"
          ],
          "name": "stdout"
        }
      ]
    },
    {
      "cell_type": "code",
      "metadata": {
        "colab": {
          "base_uri": "https://localhost:8080/",
          "height": 0
        },
        "id": "IlnXng_S5Fie",
        "outputId": "d4bb30d2-0175-480b-cc39-eb3e8e2d3846"
      },
      "source": [
        "first_5"
      ],
      "execution_count": 75,
      "outputs": [
        {
          "output_type": "execute_result",
          "data": {
            "text/html": [
              "<div>\n",
              "<style scoped>\n",
              "    .dataframe tbody tr th:only-of-type {\n",
              "        vertical-align: middle;\n",
              "    }\n",
              "\n",
              "    .dataframe tbody tr th {\n",
              "        vertical-align: top;\n",
              "    }\n",
              "\n",
              "    .dataframe thead th {\n",
              "        text-align: right;\n",
              "    }\n",
              "</style>\n",
              "<table border=\"1\" class=\"dataframe\">\n",
              "  <thead>\n",
              "    <tr style=\"text-align: right;\">\n",
              "      <th></th>\n",
              "      <th>Country</th>\n",
              "      <th>Region</th>\n",
              "      <th>Happiness Rank</th>\n",
              "      <th>Happiness Score</th>\n",
              "      <th>Standard Error</th>\n",
              "      <th>Economy (GDP per Capita)</th>\n",
              "      <th>Family</th>\n",
              "      <th>Health (Life Expectancy)</th>\n",
              "      <th>Freedom</th>\n",
              "      <th>Trust (Government Corruption)</th>\n",
              "      <th>Generosity</th>\n",
              "      <th>Dystopia Residual</th>\n",
              "    </tr>\n",
              "  </thead>\n",
              "  <tbody>\n",
              "    <tr>\n",
              "      <th>0</th>\n",
              "      <td>Switzerland</td>\n",
              "      <td>Western Europe</td>\n",
              "      <td>1</td>\n",
              "      <td>7.587</td>\n",
              "      <td>0.03411</td>\n",
              "      <td>1.39651</td>\n",
              "      <td>1.34951</td>\n",
              "      <td>0.94143</td>\n",
              "      <td>0.66557</td>\n",
              "      <td>0.41978</td>\n",
              "      <td>0.29678</td>\n",
              "      <td>2.51738</td>\n",
              "    </tr>\n",
              "    <tr>\n",
              "      <th>1</th>\n",
              "      <td>Iceland</td>\n",
              "      <td>Western Europe</td>\n",
              "      <td>2</td>\n",
              "      <td>7.561</td>\n",
              "      <td>0.04884</td>\n",
              "      <td>1.30232</td>\n",
              "      <td>1.40223</td>\n",
              "      <td>0.94784</td>\n",
              "      <td>0.62877</td>\n",
              "      <td>0.14145</td>\n",
              "      <td>0.43630</td>\n",
              "      <td>2.70201</td>\n",
              "    </tr>\n",
              "    <tr>\n",
              "      <th>2</th>\n",
              "      <td>Denmark</td>\n",
              "      <td>Western Europe</td>\n",
              "      <td>3</td>\n",
              "      <td>7.527</td>\n",
              "      <td>0.03328</td>\n",
              "      <td>1.32548</td>\n",
              "      <td>1.36058</td>\n",
              "      <td>0.87464</td>\n",
              "      <td>0.64938</td>\n",
              "      <td>0.48357</td>\n",
              "      <td>0.34139</td>\n",
              "      <td>2.49204</td>\n",
              "    </tr>\n",
              "    <tr>\n",
              "      <th>3</th>\n",
              "      <td>Norway</td>\n",
              "      <td>Western Europe</td>\n",
              "      <td>4</td>\n",
              "      <td>7.522</td>\n",
              "      <td>0.03880</td>\n",
              "      <td>1.45900</td>\n",
              "      <td>1.33095</td>\n",
              "      <td>0.88521</td>\n",
              "      <td>0.66973</td>\n",
              "      <td>0.36503</td>\n",
              "      <td>0.34699</td>\n",
              "      <td>2.46531</td>\n",
              "    </tr>\n",
              "    <tr>\n",
              "      <th>4</th>\n",
              "      <td>Canada</td>\n",
              "      <td>North America</td>\n",
              "      <td>5</td>\n",
              "      <td>7.427</td>\n",
              "      <td>0.03553</td>\n",
              "      <td>1.32629</td>\n",
              "      <td>1.32261</td>\n",
              "      <td>0.90563</td>\n",
              "      <td>0.63297</td>\n",
              "      <td>0.32957</td>\n",
              "      <td>0.45811</td>\n",
              "      <td>2.45176</td>\n",
              "    </tr>\n",
              "  </tbody>\n",
              "</table>\n",
              "</div>"
            ],
            "text/plain": [
              "       Country          Region  ...  Generosity  Dystopia Residual\n",
              "0  Switzerland  Western Europe  ...     0.29678            2.51738\n",
              "1      Iceland  Western Europe  ...     0.43630            2.70201\n",
              "2      Denmark  Western Europe  ...     0.34139            2.49204\n",
              "3       Norway  Western Europe  ...     0.34699            2.46531\n",
              "4       Canada   North America  ...     0.45811            2.45176\n",
              "\n",
              "[5 rows x 12 columns]"
            ]
          },
          "metadata": {
            "tags": []
          },
          "execution_count": 75
        }
      ]
    },
    {
      "cell_type": "code",
      "metadata": {
        "id": "N-0e4jZz5Qxd"
      },
      "source": [
        ""
      ],
      "execution_count": 75,
      "outputs": []
    },
    {
      "cell_type": "markdown",
      "metadata": {
        "id": "xLg5hqUC6mTy"
      },
      "source": [
        "Descriptions for some of the columns we'll be working with:\n",
        "\n",
        "* Country - Name of the country.\n",
        "* Region - Name of the region the country belongs to.\n",
        "* Happiness Rank - The rank of the country, as determined by its happiness score.\n",
        "* Happiness Score - A score assigned to each country based on the answers to a poll question that asks respondents to rate their happiness on a scale of 0-10.\n",
        "* Family - The estimated extent to which family contributes to the happiness score.\n",
        "* Freedom - The estimated extent to which freedom contributes to the happiness score.\n",
        "* Generosity - The estimated extent to which generosity contributes to the happiness score."
      ]
    },
    {
      "cell_type": "markdown",
      "metadata": {
        "id": "eN1pPIdXPhjb"
      },
      "source": [
        "Use Loops to Aggregate Data"
      ]
    },
    {
      "cell_type": "code",
      "metadata": {
        "colab": {
          "base_uri": "https://localhost:8080/",
          "height": 0
        },
        "id": "c0L1vdmh9iQr",
        "outputId": "4b975fde-eea7-401d-f714-f9cf2d69c35c"
      },
      "source": [
        "import matplotlib.pyplot as plt\n",
        "import seaborn as sns\n",
        "\n",
        "happiness2015['Happiness Score'].plot(kind='bar', title='Hapiness Scores', ylim=(0,10))\n",
        "plt.show()"
      ],
      "execution_count": 76,
      "outputs": [
        {
          "output_type": "display_data",
          "data": {
            "image/png": "[encoded data removed]",
            "text/plain": [
              "<Figure size 432x288 with 1 Axes>"
            ]
          },
          "metadata": {
            "tags": [],
            "needs_background": "light"
          }
        }
      ]
    },
    {
      "cell_type": "markdown",
      "metadata": {
        "id": "XdSimP_G_LPI"
      },
      "source": [
        "Plotting the data in its current form isn't helpful at all! There are so many data points that we can't see any of the values or labels.\n",
        "You may have noticed that each country in the **happiness2015** dataframe is assigned to a region, specified in the **Region** column. We can use the Series.unique() method to confirm the unique regions:"
      ]
    },
    {
      "cell_type": "code",
      "metadata": {
        "colab": {
          "base_uri": "https://localhost:8080/"
        },
        "id": "b9emVYQd-e0U",
        "outputId": "ac854a6e-0a77-4295-ff65-e60c9a6d2dc3"
      },
      "source": [
        "happiness2015['Region'].unique()"
      ],
      "execution_count": 77,
      "outputs": [
        {
          "output_type": "execute_result",
          "data": {
            "text/plain": [
              "array(['Western Europe', 'North America', 'Australia and New Zealand',\n",
              "       'Middle East and Northern Africa', 'Latin America and Caribbean',\n",
              "       'Southeastern Asia', 'Central and Eastern Europe', 'Eastern Asia',\n",
              "       'Sub-Saharan Africa', 'Southern Asia'], dtype=object)"
            ]
          },
          "metadata": {
            "tags": []
          },
          "execution_count": 77
        }
      ]
    },
    {
      "cell_type": "code",
      "metadata": {
        "colab": {
          "base_uri": "https://localhost:8080/",
          "height": 0
        },
        "id": "YsFbiwsT_cJT",
        "outputId": "bad41f14-14b9-4367-e409-acf804cb76e5"
      },
      "source": [
        "so_asia = happiness2015[happiness2015['Region'] == 'Southern Asia']\n",
        "so_asia.plot(x='Country', y='Happiness Score', kind='barh', title='Southern Asia Happiness Scores', xlim=(0,10))"
      ],
      "execution_count": 78,
      "outputs": [
        {
          "output_type": "execute_result",
          "data": {
            "text/plain": [
              "<matplotlib.axes._subplots.AxesSubplot at 0x7fb2eb80ccd0>"
            ]
          },
          "metadata": {
            "tags": []
          },
          "execution_count": 78
        },
        {
          "output_type": "display_data",
          "data": {
            "image/png": "[encoded data removed]",
            "text/plain": [
              "<Figure size 432x288 with 1 Axes>"
            ]
          },
          "metadata": {
            "tags": [],
            "needs_background": "light"
          }
        }
      ]
    },
    {
      "cell_type": "markdown",
      "metadata": {
        "id": "fO40AaiZDAzv"
      },
      "source": [
        "It's much easier to read this visualization - we can clearly see the labels and values. However, we wouldn't know if the Southern Asia region is representative of the entire world unless we look at the other regions. What we really want is to create a visualization that uses one number, a summary statistic like the mean, to summarize the data for each region."
      ]
    },
    {
      "cell_type": "code",
      "metadata": {
        "colab": {
          "base_uri": "https://localhost:8080/"
        },
        "id": "fu0MjCNUAV70",
        "outputId": "b5e00e03-b798-416c-864d-d685652490ec"
      },
      "source": [
        "mean_happiness = {}\n",
        "regions= happiness2015['Region'].unique()\n",
        "for reg in regions:\n",
        "    #1. Split the dataframe into groups.\n",
        "    region_group = happiness2015[happiness2015['Region'] == reg]\n",
        "    #2. Apply a function to each group\n",
        "    region_mean = region_group['Happiness Score'].mean()\n",
        "    #3. Combine the results into one data structure\n",
        "    mean_happiness[reg] = region_mean\n",
        "\n",
        "mean_happiness"
      ],
      "execution_count": 79,
      "outputs": [
        {
          "output_type": "execute_result",
          "data": {
            "text/plain": [
              "{'Australia and New Zealand': 7.285,\n",
              " 'Central and Eastern Europe': 5.332931034482758,\n",
              " 'Eastern Asia': 5.626166666666666,\n",
              " 'Latin America and Caribbean': 6.144681818181818,\n",
              " 'Middle East and Northern Africa': 5.406899999999999,\n",
              " 'North America': 7.273,\n",
              " 'Southeastern Asia': 5.317444444444445,\n",
              " 'Southern Asia': 4.580857142857143,\n",
              " 'Sub-Saharan Africa': 4.202800000000001,\n",
              " 'Western Europe': 6.689619047619048}"
            ]
          },
          "metadata": {
            "tags": []
          },
          "execution_count": 79
        }
      ]
    },
    {
      "cell_type": "markdown",
      "metadata": {
        "id": "m5aGSfmpPtT8"
      },
      "source": [
        "Combine Aggregation Methods with GroupBy\n",
        "\n",
        "\n"
      ]
    },
    {
      "cell_type": "code",
      "metadata": {
        "colab": {
          "base_uri": "https://localhost:8080/"
        },
        "id": "DP4xTSLtFUc3",
        "outputId": "11862d09-4c39-4ac1-9fe4-e210d0a87e6f"
      },
      "source": [
        "happiness2015.groupby('Region').mean()['Happiness Score']"
      ],
      "execution_count": 80,
      "outputs": [
        {
          "output_type": "execute_result",
          "data": {
            "text/plain": [
              "Region\n",
              "Australia and New Zealand          7.285000\n",
              "Central and Eastern Europe         5.332931\n",
              "Eastern Asia                       5.626167\n",
              "Latin America and Caribbean        6.144682\n",
              "Middle East and Northern Africa    5.406900\n",
              "North America                      7.273000\n",
              "Southeastern Asia                  5.317444\n",
              "Southern Asia                      4.580857\n",
              "Sub-Saharan Africa                 4.202800\n",
              "Western Europe                     6.689619\n",
              "Name: Happiness Score, dtype: float64"
            ]
          },
          "metadata": {
            "tags": []
          },
          "execution_count": 80
        }
      ]
    },
    {
      "cell_type": "code",
      "metadata": {
        "colab": {
          "base_uri": "https://localhost:8080/",
          "height": 0
        },
        "id": "WmC3eB9ULIMi",
        "outputId": "d783c3da-ad85-4385-bd58-633a5cdb567c"
      },
      "source": [
        "# Use get_group() to select data for a certain group.\n",
        "aus_nz = happiness2015.groupby('Region').get_group('Australia and New Zealand') \n",
        "aus_nz"
      ],
      "execution_count": 81,
      "outputs": [
        {
          "output_type": "execute_result",
          "data": {
            "text/html": [
              "<div>\n",
              "<style scoped>\n",
              "    .dataframe tbody tr th:only-of-type {\n",
              "        vertical-align: middle;\n",
              "    }\n",
              "\n",
              "    .dataframe tbody tr th {\n",
              "        vertical-align: top;\n",
              "    }\n",
              "\n",
              "    .dataframe thead th {\n",
              "        text-align: right;\n",
              "    }\n",
              "</style>\n",
              "<table border=\"1\" class=\"dataframe\">\n",
              "  <thead>\n",
              "    <tr style=\"text-align: right;\">\n",
              "      <th></th>\n",
              "      <th>Country</th>\n",
              "      <th>Region</th>\n",
              "      <th>Happiness Rank</th>\n",
              "      <th>Happiness Score</th>\n",
              "      <th>Standard Error</th>\n",
              "      <th>Economy (GDP per Capita)</th>\n",
              "      <th>Family</th>\n",
              "      <th>Health (Life Expectancy)</th>\n",
              "      <th>Freedom</th>\n",
              "      <th>Trust (Government Corruption)</th>\n",
              "      <th>Generosity</th>\n",
              "      <th>Dystopia Residual</th>\n",
              "    </tr>\n",
              "  </thead>\n",
              "  <tbody>\n",
              "    <tr>\n",
              "      <th>8</th>\n",
              "      <td>New Zealand</td>\n",
              "      <td>Australia and New Zealand</td>\n",
              "      <td>9</td>\n",
              "      <td>7.286</td>\n",
              "      <td>0.03371</td>\n",
              "      <td>1.25018</td>\n",
              "      <td>1.31967</td>\n",
              "      <td>0.90837</td>\n",
              "      <td>0.63938</td>\n",
              "      <td>0.42922</td>\n",
              "      <td>0.47501</td>\n",
              "      <td>2.26425</td>\n",
              "    </tr>\n",
              "    <tr>\n",
              "      <th>9</th>\n",
              "      <td>Australia</td>\n",
              "      <td>Australia and New Zealand</td>\n",
              "      <td>10</td>\n",
              "      <td>7.284</td>\n",
              "      <td>0.04083</td>\n",
              "      <td>1.33358</td>\n",
              "      <td>1.30923</td>\n",
              "      <td>0.93156</td>\n",
              "      <td>0.65124</td>\n",
              "      <td>0.35637</td>\n",
              "      <td>0.43562</td>\n",
              "      <td>2.26646</td>\n",
              "    </tr>\n",
              "  </tbody>\n",
              "</table>\n",
              "</div>"
            ],
            "text/plain": [
              "       Country                     Region  ...  Generosity  Dystopia Residual\n",
              "8  New Zealand  Australia and New Zealand  ...     0.47501            2.26425\n",
              "9    Australia  Australia and New Zealand  ...     0.43562            2.26646\n",
              "\n",
              "[2 rows x 12 columns]"
            ]
          },
          "metadata": {
            "tags": []
          },
          "execution_count": 81
        }
      ]
    },
    {
      "cell_type": "code",
      "metadata": {
        "colab": {
          "base_uri": "https://localhost:8080/"
        },
        "id": "36bHvNaeLRDd",
        "outputId": "b838dedb-6ecb-4c4d-ddc7-6b2e42fcc56a"
      },
      "source": [
        "grouped = happiness2015.groupby('Region')\n",
        "grouped.groups # Get index of rows"
      ],
      "execution_count": 82,
      "outputs": [
        {
          "output_type": "execute_result",
          "data": {
            "text/plain": [
              "{'Australia and New Zealand': [8, 9], 'Central and Eastern Europe': [30, 43, 44, 51, 53, 54, 55, 58, 59, 61, 63, 68, 69, 72, 76, 79, 82, 85, 86, 88, 92, 94, 95, 103, 105, 110, 126, 129, 133], 'Eastern Asia': [37, 45, 46, 71, 83, 99], 'Latin America and Caribbean': [11, 13, 15, 22, 24, 26, 29, 31, 32, 39, 40, 41, 42, 47, 50, 52, 56, 57, 64, 97, 104, 118], 'Middle East and Northern Africa': [10, 19, 21, 27, 34, 38, 48, 62, 67, 75, 81, 91, 102, 106, 107, 109, 111, 134, 135, 155], 'North America': [4, 14], 'Southeastern Asia': [23, 33, 60, 73, 74, 89, 98, 128, 144], 'Southern Asia': [78, 80, 108, 116, 120, 131, 152], 'Sub-Saharan Africa': [70, 77, 84, 90, 93, 96, 100, 112, 113, 114, 115, 117, 119, 121, 122, 123, 124, 125, 127, 130, 132, 136, 137, 138, 139, 140, 141, 142, 143, 145, 146, 147, 148, 149, 150, 151, 153, 154, 156, 157], 'Western Europe': [0, 1, 2, 3, 5, 6, 7, 12, 16, 17, 18, 20, 25, 28, 35, 36, 49, 65, 66, 87, 101]}"
            ]
          },
          "metadata": {
            "tags": []
          },
          "execution_count": 82
        }
      ]
    },
    {
      "cell_type": "code",
      "metadata": {
        "colab": {
          "base_uri": "https://localhost:8080/",
          "height": 0
        },
        "id": "Mhx6x9qzORyF",
        "outputId": "5918d21e-b890-4444-97bc-82584b7de551"
      },
      "source": [
        "north_america = grouped.get_group('North America')\n",
        "na_group = happiness2015.iloc[[4,14]]\n",
        "na_group == north_america"
      ],
      "execution_count": 83,
      "outputs": [
        {
          "output_type": "execute_result",
          "data": {
            "text/html": [
              "<div>\n",
              "<style scoped>\n",
              "    .dataframe tbody tr th:only-of-type {\n",
              "        vertical-align: middle;\n",
              "    }\n",
              "\n",
              "    .dataframe tbody tr th {\n",
              "        vertical-align: top;\n",
              "    }\n",
              "\n",
              "    .dataframe thead th {\n",
              "        text-align: right;\n",
              "    }\n",
              "</style>\n",
              "<table border=\"1\" class=\"dataframe\">\n",
              "  <thead>\n",
              "    <tr style=\"text-align: right;\">\n",
              "      <th></th>\n",
              "      <th>Country</th>\n",
              "      <th>Region</th>\n",
              "      <th>Happiness Rank</th>\n",
              "      <th>Happiness Score</th>\n",
              "      <th>Standard Error</th>\n",
              "      <th>Economy (GDP per Capita)</th>\n",
              "      <th>Family</th>\n",
              "      <th>Health (Life Expectancy)</th>\n",
              "      <th>Freedom</th>\n",
              "      <th>Trust (Government Corruption)</th>\n",
              "      <th>Generosity</th>\n",
              "      <th>Dystopia Residual</th>\n",
              "    </tr>\n",
              "  </thead>\n",
              "  <tbody>\n",
              "    <tr>\n",
              "      <th>4</th>\n",
              "      <td>True</td>\n",
              "      <td>True</td>\n",
              "      <td>True</td>\n",
              "      <td>True</td>\n",
              "      <td>True</td>\n",
              "      <td>True</td>\n",
              "      <td>True</td>\n",
              "      <td>True</td>\n",
              "      <td>True</td>\n",
              "      <td>True</td>\n",
              "      <td>True</td>\n",
              "      <td>True</td>\n",
              "    </tr>\n",
              "    <tr>\n",
              "      <th>14</th>\n",
              "      <td>True</td>\n",
              "      <td>True</td>\n",
              "      <td>True</td>\n",
              "      <td>True</td>\n",
              "      <td>True</td>\n",
              "      <td>True</td>\n",
              "      <td>True</td>\n",
              "      <td>True</td>\n",
              "      <td>True</td>\n",
              "      <td>True</td>\n",
              "      <td>True</td>\n",
              "      <td>True</td>\n",
              "    </tr>\n",
              "  </tbody>\n",
              "</table>\n",
              "</div>"
            ],
            "text/plain": [
              "    Country  Region  ...  Generosity  Dystopia Residual\n",
              "4      True    True  ...        True               True\n",
              "14     True    True  ...        True               True\n",
              "\n",
              "[2 rows x 12 columns]"
            ]
          },
          "metadata": {
            "tags": []
          },
          "execution_count": 83
        }
      ]
    },
    {
      "cell_type": "code",
      "metadata": {
        "colab": {
          "base_uri": "https://localhost:8080/"
        },
        "id": "seFzXsI6OAuB",
        "outputId": "65c5a128-7bd8-4ae2-aa66-b36e5ccc1f07"
      },
      "source": [
        "# GroupBy.size() method to confirm the size of each region group\n",
        "grouped.size()"
      ],
      "execution_count": 84,
      "outputs": [
        {
          "output_type": "execute_result",
          "data": {
            "text/plain": [
              "Region\n",
              "Australia and New Zealand           2\n",
              "Central and Eastern Europe         29\n",
              "Eastern Asia                        6\n",
              "Latin America and Caribbean        22\n",
              "Middle East and Northern Africa    20\n",
              "North America                       2\n",
              "Southeastern Asia                   9\n",
              "Southern Asia                       7\n",
              "Sub-Saharan Africa                 40\n",
              "Western Europe                     21\n",
              "dtype: int64"
            ]
          },
          "metadata": {
            "tags": []
          },
          "execution_count": 84
        }
      ]
    },
    {
      "cell_type": "markdown",
      "metadata": {
        "id": "2FBC1XpjQhpk"
      },
      "source": [
        "Agg() Medthod"
      ]
    },
    {
      "cell_type": "code",
      "metadata": {
        "colab": {
          "base_uri": "https://localhost:8080/",
          "height": 0
        },
        "id": "zSd8kx5JTJ98",
        "outputId": "74095502-4317-49da-eaa4-f85ad9dc09b8"
      },
      "source": [
        "# GroupBy.agg() method can perform both aggregations at once\n",
        "import numpy as np\n",
        "grouped.agg([np.max, np.min, np.sum, np.mean])"
      ],
      "execution_count": 85,
      "outputs": [
        {
          "output_type": "execute_result",
          "data": {
            "text/html": [
              "<div>\n",
              "<style scoped>\n",
              "    .dataframe tbody tr th:only-of-type {\n",
              "        vertical-align: middle;\n",
              "    }\n",
              "\n",
              "    .dataframe tbody tr th {\n",
              "        vertical-align: top;\n",
              "    }\n",
              "\n",
              "    .dataframe thead tr th {\n",
              "        text-align: left;\n",
              "    }\n",
              "\n",
              "    .dataframe thead tr:last-of-type th {\n",
              "        text-align: right;\n",
              "    }\n",
              "</style>\n",
              "<table border=\"1\" class=\"dataframe\">\n",
              "  <thead>\n",
              "    <tr>\n",
              "      <th></th>\n",
              "      <th colspan=\"4\" halign=\"left\">Happiness Rank</th>\n",
              "      <th colspan=\"4\" halign=\"left\">Happiness Score</th>\n",
              "      <th colspan=\"4\" halign=\"left\">Standard Error</th>\n",
              "      <th colspan=\"4\" halign=\"left\">Economy (GDP per Capita)</th>\n",
              "      <th colspan=\"4\" halign=\"left\">Family</th>\n",
              "      <th colspan=\"4\" halign=\"left\">Health (Life Expectancy)</th>\n",
              "      <th colspan=\"4\" halign=\"left\">Freedom</th>\n",
              "      <th colspan=\"4\" halign=\"left\">Trust (Government Corruption)</th>\n",
              "      <th colspan=\"4\" halign=\"left\">Generosity</th>\n",
              "      <th colspan=\"4\" halign=\"left\">Dystopia Residual</th>\n",
              "    </tr>\n",
              "    <tr>\n",
              "      <th></th>\n",
              "      <th>amax</th>\n",
              "      <th>amin</th>\n",
              "      <th>sum</th>\n",
              "      <th>mean</th>\n",
              "      <th>amax</th>\n",
              "      <th>amin</th>\n",
              "      <th>sum</th>\n",
              "      <th>mean</th>\n",
              "      <th>amax</th>\n",
              "      <th>amin</th>\n",
              "      <th>sum</th>\n",
              "      <th>mean</th>\n",
              "      <th>amax</th>\n",
              "      <th>amin</th>\n",
              "      <th>sum</th>\n",
              "      <th>mean</th>\n",
              "      <th>amax</th>\n",
              "      <th>amin</th>\n",
              "      <th>sum</th>\n",
              "      <th>mean</th>\n",
              "      <th>amax</th>\n",
              "      <th>amin</th>\n",
              "      <th>sum</th>\n",
              "      <th>mean</th>\n",
              "      <th>amax</th>\n",
              "      <th>amin</th>\n",
              "      <th>sum</th>\n",
              "      <th>mean</th>\n",
              "      <th>amax</th>\n",
              "      <th>amin</th>\n",
              "      <th>sum</th>\n",
              "      <th>mean</th>\n",
              "      <th>amax</th>\n",
              "      <th>amin</th>\n",
              "      <th>sum</th>\n",
              "      <th>mean</th>\n",
              "      <th>amax</th>\n",
              "      <th>amin</th>\n",
              "      <th>sum</th>\n",
              "      <th>mean</th>\n",
              "    </tr>\n",
              "    <tr>\n",
              "      <th>Region</th>\n",
              "      <th></th>\n",
              "      <th></th>\n",
              "      <th></th>\n",
              "      <th></th>\n",
              "      <th></th>\n",
              "      <th></th>\n",
              "      <th></th>\n",
              "      <th></th>\n",
              "      <th></th>\n",
              "      <th></th>\n",
              "      <th></th>\n",
              "      <th></th>\n",
              "      <th></th>\n",
              "      <th></th>\n",
              "      <th></th>\n",
              "      <th></th>\n",
              "      <th></th>\n",
              "      <th></th>\n",
              "      <th></th>\n",
              "      <th></th>\n",
              "      <th></th>\n",
              "      <th></th>\n",
              "      <th></th>\n",
              "      <th></th>\n",
              "      <th></th>\n",
              "      <th></th>\n",
              "      <th></th>\n",
              "      <th></th>\n",
              "      <th></th>\n",
              "      <th></th>\n",
              "      <th></th>\n",
              "      <th></th>\n",
              "      <th></th>\n",
              "      <th></th>\n",
              "      <th></th>\n",
              "      <th></th>\n",
              "      <th></th>\n",
              "      <th></th>\n",
              "      <th></th>\n",
              "      <th></th>\n",
              "    </tr>\n",
              "  </thead>\n",
              "  <tbody>\n",
              "    <tr>\n",
              "      <th>Australia and New Zealand</th>\n",
              "      <td>10</td>\n",
              "      <td>9</td>\n",
              "      <td>19</td>\n",
              "      <td>9.500000</td>\n",
              "      <td>7.286</td>\n",
              "      <td>7.284</td>\n",
              "      <td>14.570</td>\n",
              "      <td>7.285000</td>\n",
              "      <td>0.04083</td>\n",
              "      <td>0.03371</td>\n",
              "      <td>0.07454</td>\n",
              "      <td>0.037270</td>\n",
              "      <td>1.33358</td>\n",
              "      <td>1.25018</td>\n",
              "      <td>2.58376</td>\n",
              "      <td>1.291880</td>\n",
              "      <td>1.31967</td>\n",
              "      <td>1.30923</td>\n",
              "      <td>2.62890</td>\n",
              "      <td>1.314450</td>\n",
              "      <td>0.93156</td>\n",
              "      <td>0.90837</td>\n",
              "      <td>1.83993</td>\n",
              "      <td>0.919965</td>\n",
              "      <td>0.65124</td>\n",
              "      <td>0.63938</td>\n",
              "      <td>1.29062</td>\n",
              "      <td>0.645310</td>\n",
              "      <td>0.42922</td>\n",
              "      <td>0.35637</td>\n",
              "      <td>0.78559</td>\n",
              "      <td>0.392795</td>\n",
              "      <td>0.47501</td>\n",
              "      <td>0.43562</td>\n",
              "      <td>0.91063</td>\n",
              "      <td>0.455315</td>\n",
              "      <td>2.26646</td>\n",
              "      <td>2.26425</td>\n",
              "      <td>4.53071</td>\n",
              "      <td>2.265355</td>\n",
              "    </tr>\n",
              "    <tr>\n",
              "      <th>Central and Eastern Europe</th>\n",
              "      <td>134</td>\n",
              "      <td>31</td>\n",
              "      <td>2291</td>\n",
              "      <td>79.000000</td>\n",
              "      <td>6.505</td>\n",
              "      <td>4.218</td>\n",
              "      <td>154.655</td>\n",
              "      <td>5.332931</td>\n",
              "      <td>0.06913</td>\n",
              "      <td>0.03135</td>\n",
              "      <td>1.31102</td>\n",
              "      <td>0.045208</td>\n",
              "      <td>1.18498</td>\n",
              "      <td>0.39047</td>\n",
              "      <td>27.33071</td>\n",
              "      <td>0.942438</td>\n",
              "      <td>1.34043</td>\n",
              "      <td>0.38562</td>\n",
              "      <td>30.53823</td>\n",
              "      <td>1.053042</td>\n",
              "      <td>0.87337</td>\n",
              "      <td>0.53886</td>\n",
              "      <td>20.84444</td>\n",
              "      <td>0.718774</td>\n",
              "      <td>0.65821</td>\n",
              "      <td>0.09245</td>\n",
              "      <td>10.38979</td>\n",
              "      <td>0.358269</td>\n",
              "      <td>0.38331</td>\n",
              "      <td>0.00227</td>\n",
              "      <td>2.51354</td>\n",
              "      <td>0.086674</td>\n",
              "      <td>0.30030</td>\n",
              "      <td>0.00199</td>\n",
              "      <td>4.41565</td>\n",
              "      <td>0.152264</td>\n",
              "      <td>3.10712</td>\n",
              "      <td>0.89991</td>\n",
              "      <td>58.62059</td>\n",
              "      <td>2.021400</td>\n",
              "    </tr>\n",
              "    <tr>\n",
              "      <th>Eastern Asia</th>\n",
              "      <td>100</td>\n",
              "      <td>38</td>\n",
              "      <td>387</td>\n",
              "      <td>64.500000</td>\n",
              "      <td>6.298</td>\n",
              "      <td>4.874</td>\n",
              "      <td>33.757</td>\n",
              "      <td>5.626167</td>\n",
              "      <td>0.05051</td>\n",
              "      <td>0.02424</td>\n",
              "      <td>0.22335</td>\n",
              "      <td>0.037225</td>\n",
              "      <td>1.38604</td>\n",
              "      <td>0.82819</td>\n",
              "      <td>6.91068</td>\n",
              "      <td>1.151780</td>\n",
              "      <td>1.30060</td>\n",
              "      <td>0.94675</td>\n",
              "      <td>6.59656</td>\n",
              "      <td>1.099427</td>\n",
              "      <td>1.01328</td>\n",
              "      <td>0.60268</td>\n",
              "      <td>5.26433</td>\n",
              "      <td>0.877388</td>\n",
              "      <td>0.59608</td>\n",
              "      <td>0.33208</td>\n",
              "      <td>2.77494</td>\n",
              "      <td>0.462490</td>\n",
              "      <td>0.37124</td>\n",
              "      <td>0.02666</td>\n",
              "      <td>0.76617</td>\n",
              "      <td>0.127695</td>\n",
              "      <td>0.39478</td>\n",
              "      <td>0.08185</td>\n",
              "      <td>1.35531</td>\n",
              "      <td>0.225885</td>\n",
              "      <td>2.32323</td>\n",
              "      <td>0.65429</td>\n",
              "      <td>10.08964</td>\n",
              "      <td>1.681607</td>\n",
              "    </tr>\n",
              "    <tr>\n",
              "      <th>Latin America and Caribbean</th>\n",
              "      <td>119</td>\n",
              "      <td>12</td>\n",
              "      <td>1032</td>\n",
              "      <td>46.909091</td>\n",
              "      <td>7.226</td>\n",
              "      <td>4.518</td>\n",
              "      <td>135.183</td>\n",
              "      <td>6.144682</td>\n",
              "      <td>0.13693</td>\n",
              "      <td>0.04076</td>\n",
              "      <td>1.34479</td>\n",
              "      <td>0.061127</td>\n",
              "      <td>1.21183</td>\n",
              "      <td>0.26673</td>\n",
              "      <td>19.28994</td>\n",
              "      <td>0.876815</td>\n",
              "      <td>1.30477</td>\n",
              "      <td>0.74302</td>\n",
              "      <td>24.30385</td>\n",
              "      <td>1.104720</td>\n",
              "      <td>0.86027</td>\n",
              "      <td>0.38847</td>\n",
              "      <td>15.48515</td>\n",
              "      <td>0.703870</td>\n",
              "      <td>0.63376</td>\n",
              "      <td>0.24425</td>\n",
              "      <td>11.03827</td>\n",
              "      <td>0.501740</td>\n",
              "      <td>0.24558</td>\n",
              "      <td>0.01140</td>\n",
              "      <td>2.57778</td>\n",
              "      <td>0.117172</td>\n",
              "      <td>0.46187</td>\n",
              "      <td>0.05841</td>\n",
              "      <td>4.79133</td>\n",
              "      <td>0.217788</td>\n",
              "      <td>3.60214</td>\n",
              "      <td>1.21305</td>\n",
              "      <td>57.69670</td>\n",
              "      <td>2.622577</td>\n",
              "    </tr>\n",
              "    <tr>\n",
              "      <th>Middle East and Northern Africa</th>\n",
              "      <td>156</td>\n",
              "      <td>11</td>\n",
              "      <td>1552</td>\n",
              "      <td>77.600000</td>\n",
              "      <td>7.278</td>\n",
              "      <td>3.006</td>\n",
              "      <td>108.138</td>\n",
              "      <td>5.406900</td>\n",
              "      <td>0.07832</td>\n",
              "      <td>0.03260</td>\n",
              "      <td>0.92674</td>\n",
              "      <td>0.046337</td>\n",
              "      <td>1.69042</td>\n",
              "      <td>0.54649</td>\n",
              "      <td>21.33947</td>\n",
              "      <td>1.066973</td>\n",
              "      <td>1.22393</td>\n",
              "      <td>0.47489</td>\n",
              "      <td>18.40980</td>\n",
              "      <td>0.920490</td>\n",
              "      <td>0.91387</td>\n",
              "      <td>0.40064</td>\n",
              "      <td>14.11231</td>\n",
              "      <td>0.705616</td>\n",
              "      <td>0.64157</td>\n",
              "      <td>0.00000</td>\n",
              "      <td>7.23502</td>\n",
              "      <td>0.361751</td>\n",
              "      <td>0.52208</td>\n",
              "      <td>0.04582</td>\n",
              "      <td>3.63404</td>\n",
              "      <td>0.181702</td>\n",
              "      <td>0.47179</td>\n",
              "      <td>0.06431</td>\n",
              "      <td>3.80751</td>\n",
              "      <td>0.190375</td>\n",
              "      <td>3.08854</td>\n",
              "      <td>0.32858</td>\n",
              "      <td>39.60017</td>\n",
              "      <td>1.980009</td>\n",
              "    </tr>\n",
              "    <tr>\n",
              "      <th>North America</th>\n",
              "      <td>15</td>\n",
              "      <td>5</td>\n",
              "      <td>20</td>\n",
              "      <td>10.000000</td>\n",
              "      <td>7.427</td>\n",
              "      <td>7.119</td>\n",
              "      <td>14.546</td>\n",
              "      <td>7.273000</td>\n",
              "      <td>0.03839</td>\n",
              "      <td>0.03553</td>\n",
              "      <td>0.07392</td>\n",
              "      <td>0.036960</td>\n",
              "      <td>1.39451</td>\n",
              "      <td>1.32629</td>\n",
              "      <td>2.72080</td>\n",
              "      <td>1.360400</td>\n",
              "      <td>1.32261</td>\n",
              "      <td>1.24711</td>\n",
              "      <td>2.56972</td>\n",
              "      <td>1.284860</td>\n",
              "      <td>0.90563</td>\n",
              "      <td>0.86179</td>\n",
              "      <td>1.76742</td>\n",
              "      <td>0.883710</td>\n",
              "      <td>0.63297</td>\n",
              "      <td>0.54604</td>\n",
              "      <td>1.17901</td>\n",
              "      <td>0.589505</td>\n",
              "      <td>0.32957</td>\n",
              "      <td>0.15890</td>\n",
              "      <td>0.48847</td>\n",
              "      <td>0.244235</td>\n",
              "      <td>0.45811</td>\n",
              "      <td>0.40105</td>\n",
              "      <td>0.85916</td>\n",
              "      <td>0.429580</td>\n",
              "      <td>2.51011</td>\n",
              "      <td>2.45176</td>\n",
              "      <td>4.96187</td>\n",
              "      <td>2.480935</td>\n",
              "    </tr>\n",
              "    <tr>\n",
              "      <th>Southeastern Asia</th>\n",
              "      <td>145</td>\n",
              "      <td>24</td>\n",
              "      <td>731</td>\n",
              "      <td>81.222222</td>\n",
              "      <td>6.798</td>\n",
              "      <td>3.819</td>\n",
              "      <td>47.857</td>\n",
              "      <td>5.317444</td>\n",
              "      <td>0.06698</td>\n",
              "      <td>0.02596</td>\n",
              "      <td>0.38422</td>\n",
              "      <td>0.042691</td>\n",
              "      <td>1.52186</td>\n",
              "      <td>0.27108</td>\n",
              "      <td>7.10149</td>\n",
              "      <td>0.789054</td>\n",
              "      <td>1.26504</td>\n",
              "      <td>0.62736</td>\n",
              "      <td>8.46421</td>\n",
              "      <td>0.940468</td>\n",
              "      <td>1.02525</td>\n",
              "      <td>0.48246</td>\n",
              "      <td>6.09621</td>\n",
              "      <td>0.677357</td>\n",
              "      <td>0.66246</td>\n",
              "      <td>0.44017</td>\n",
              "      <td>5.01394</td>\n",
              "      <td>0.557104</td>\n",
              "      <td>0.49210</td>\n",
              "      <td>0.00000</td>\n",
              "      <td>1.36148</td>\n",
              "      <td>0.151276</td>\n",
              "      <td>0.79588</td>\n",
              "      <td>0.16860</td>\n",
              "      <td>3.77335</td>\n",
              "      <td>0.419261</td>\n",
              "      <td>2.31945</td>\n",
              "      <td>0.98195</td>\n",
              "      <td>16.04718</td>\n",
              "      <td>1.783020</td>\n",
              "    </tr>\n",
              "    <tr>\n",
              "      <th>Southern Asia</th>\n",
              "      <td>153</td>\n",
              "      <td>79</td>\n",
              "      <td>792</td>\n",
              "      <td>113.142857</td>\n",
              "      <td>5.253</td>\n",
              "      <td>3.575</td>\n",
              "      <td>32.066</td>\n",
              "      <td>4.580857</td>\n",
              "      <td>0.03751</td>\n",
              "      <td>0.02043</td>\n",
              "      <td>0.22513</td>\n",
              "      <td>0.032161</td>\n",
              "      <td>0.83524</td>\n",
              "      <td>0.31982</td>\n",
              "      <td>3.92340</td>\n",
              "      <td>0.560486</td>\n",
              "      <td>1.10395</td>\n",
              "      <td>0.30285</td>\n",
              "      <td>4.51725</td>\n",
              "      <td>0.645321</td>\n",
              "      <td>0.70806</td>\n",
              "      <td>0.30335</td>\n",
              "      <td>3.78581</td>\n",
              "      <td>0.540830</td>\n",
              "      <td>0.53726</td>\n",
              "      <td>0.12102</td>\n",
              "      <td>2.61336</td>\n",
              "      <td>0.373337</td>\n",
              "      <td>0.15445</td>\n",
              "      <td>0.05907</td>\n",
              "      <td>0.71775</td>\n",
              "      <td>0.102536</td>\n",
              "      <td>0.47998</td>\n",
              "      <td>0.21222</td>\n",
              "      <td>2.39000</td>\n",
              "      <td>0.341429</td>\n",
              "      <td>3.10709</td>\n",
              "      <td>0.67108</td>\n",
              "      <td>14.11738</td>\n",
              "      <td>2.016769</td>\n",
              "    </tr>\n",
              "    <tr>\n",
              "      <th>Sub-Saharan Africa</th>\n",
              "      <td>158</td>\n",
              "      <td>71</td>\n",
              "      <td>5116</td>\n",
              "      <td>127.900000</td>\n",
              "      <td>5.477</td>\n",
              "      <td>2.839</td>\n",
              "      <td>168.112</td>\n",
              "      <td>4.202800</td>\n",
              "      <td>0.11068</td>\n",
              "      <td>0.03464</td>\n",
              "      <td>2.21195</td>\n",
              "      <td>0.055299</td>\n",
              "      <td>1.06024</td>\n",
              "      <td>0.00000</td>\n",
              "      <td>15.21892</td>\n",
              "      <td>0.380473</td>\n",
              "      <td>1.18468</td>\n",
              "      <td>0.00000</td>\n",
              "      <td>32.36340</td>\n",
              "      <td>0.809085</td>\n",
              "      <td>0.70950</td>\n",
              "      <td>0.00000</td>\n",
              "      <td>11.29327</td>\n",
              "      <td>0.282332</td>\n",
              "      <td>0.59201</td>\n",
              "      <td>0.10081</td>\n",
              "      <td>14.63776</td>\n",
              "      <td>0.365944</td>\n",
              "      <td>0.55191</td>\n",
              "      <td>0.03060</td>\n",
              "      <td>4.95511</td>\n",
              "      <td>0.123878</td>\n",
              "      <td>0.50318</td>\n",
              "      <td>0.06822</td>\n",
              "      <td>8.84547</td>\n",
              "      <td>0.221137</td>\n",
              "      <td>3.05137</td>\n",
              "      <td>0.67042</td>\n",
              "      <td>80.79920</td>\n",
              "      <td>2.019980</td>\n",
              "    </tr>\n",
              "    <tr>\n",
              "      <th>Western Europe</th>\n",
              "      <td>102</td>\n",
              "      <td>1</td>\n",
              "      <td>620</td>\n",
              "      <td>29.523810</td>\n",
              "      <td>7.587</td>\n",
              "      <td>4.857</td>\n",
              "      <td>140.482</td>\n",
              "      <td>6.689619</td>\n",
              "      <td>0.05635</td>\n",
              "      <td>0.01848</td>\n",
              "      <td>0.79013</td>\n",
              "      <td>0.037625</td>\n",
              "      <td>1.56391</td>\n",
              "      <td>1.15406</td>\n",
              "      <td>27.27051</td>\n",
              "      <td>1.298596</td>\n",
              "      <td>1.40223</td>\n",
              "      <td>0.89318</td>\n",
              "      <td>26.19334</td>\n",
              "      <td>1.247302</td>\n",
              "      <td>0.95562</td>\n",
              "      <td>0.87464</td>\n",
              "      <td>19.09211</td>\n",
              "      <td>0.909148</td>\n",
              "      <td>0.66973</td>\n",
              "      <td>0.07699</td>\n",
              "      <td>11.54845</td>\n",
              "      <td>0.549926</td>\n",
              "      <td>0.48357</td>\n",
              "      <td>0.01078</td>\n",
              "      <td>4.86072</td>\n",
              "      <td>0.231463</td>\n",
              "      <td>0.51912</td>\n",
              "      <td>0.00000</td>\n",
              "      <td>6.34428</td>\n",
              "      <td>0.302109</td>\n",
              "      <td>2.70201</td>\n",
              "      <td>1.26462</td>\n",
              "      <td>45.17489</td>\n",
              "      <td>2.151185</td>\n",
              "    </tr>\n",
              "  </tbody>\n",
              "</table>\n",
              "</div>"
            ],
            "text/plain": [
              "                                Happiness Rank       ... Dystopia Residual          \n",
              "                                          amax amin  ...               sum      mean\n",
              "Region                                               ...                            \n",
              "Australia and New Zealand                   10    9  ...           4.53071  2.265355\n",
              "Central and Eastern Europe                 134   31  ...          58.62059  2.021400\n",
              "Eastern Asia                               100   38  ...          10.08964  1.681607\n",
              "Latin America and Caribbean                119   12  ...          57.69670  2.622577\n",
              "Middle East and Northern Africa            156   11  ...          39.60017  1.980009\n",
              "North America                               15    5  ...           4.96187  2.480935\n",
              "Southeastern Asia                          145   24  ...          16.04718  1.783020\n",
              "Southern Asia                              153   79  ...          14.11738  2.016769\n",
              "Sub-Saharan Africa                         158   71  ...          80.79920  2.019980\n",
              "Western Europe                             102    1  ...          45.17489  2.151185\n",
              "\n",
              "[10 rows x 40 columns]"
            ]
          },
          "metadata": {
            "tags": []
          },
          "execution_count": 85
        }
      ]
    },
    {
      "cell_type": "markdown",
      "metadata": {
        "id": "20OkERMuRiJa"
      },
      "source": [
        "Aggregation with Pivot Tables"
      ]
    },
    {
      "cell_type": "code",
      "metadata": {
        "colab": {
          "base_uri": "https://localhost:8080/",
          "height": 0
        },
        "id": "vfR8GrlBTfMX",
        "outputId": "728d0684-528f-48a2-d07f-9117636e1dfc"
      },
      "source": [
        "# DataFrame.pivot_table() method\n",
        "pv_happiness = happiness2015.pivot_table(values='Happiness Score', index='Region', aggfunc=np.mean)\n",
        "pv_happiness"
      ],
      "execution_count": 86,
      "outputs": [
        {
          "output_type": "execute_result",
          "data": {
            "text/html": [
              "<div>\n",
              "<style scoped>\n",
              "    .dataframe tbody tr th:only-of-type {\n",
              "        vertical-align: middle;\n",
              "    }\n",
              "\n",
              "    .dataframe tbody tr th {\n",
              "        vertical-align: top;\n",
              "    }\n",
              "\n",
              "    .dataframe thead th {\n",
              "        text-align: right;\n",
              "    }\n",
              "</style>\n",
              "<table border=\"1\" class=\"dataframe\">\n",
              "  <thead>\n",
              "    <tr style=\"text-align: right;\">\n",
              "      <th></th>\n",
              "      <th>Happiness Score</th>\n",
              "    </tr>\n",
              "    <tr>\n",
              "      <th>Region</th>\n",
              "      <th></th>\n",
              "    </tr>\n",
              "  </thead>\n",
              "  <tbody>\n",
              "    <tr>\n",
              "      <th>Australia and New Zealand</th>\n",
              "      <td>7.285000</td>\n",
              "    </tr>\n",
              "    <tr>\n",
              "      <th>Central and Eastern Europe</th>\n",
              "      <td>5.332931</td>\n",
              "    </tr>\n",
              "    <tr>\n",
              "      <th>Eastern Asia</th>\n",
              "      <td>5.626167</td>\n",
              "    </tr>\n",
              "    <tr>\n",
              "      <th>Latin America and Caribbean</th>\n",
              "      <td>6.144682</td>\n",
              "    </tr>\n",
              "    <tr>\n",
              "      <th>Middle East and Northern Africa</th>\n",
              "      <td>5.406900</td>\n",
              "    </tr>\n",
              "    <tr>\n",
              "      <th>North America</th>\n",
              "      <td>7.273000</td>\n",
              "    </tr>\n",
              "    <tr>\n",
              "      <th>Southeastern Asia</th>\n",
              "      <td>5.317444</td>\n",
              "    </tr>\n",
              "    <tr>\n",
              "      <th>Southern Asia</th>\n",
              "      <td>4.580857</td>\n",
              "    </tr>\n",
              "    <tr>\n",
              "      <th>Sub-Saharan Africa</th>\n",
              "      <td>4.202800</td>\n",
              "    </tr>\n",
              "    <tr>\n",
              "      <th>Western Europe</th>\n",
              "      <td>6.689619</td>\n",
              "    </tr>\n",
              "  </tbody>\n",
              "</table>\n",
              "</div>"
            ],
            "text/plain": [
              "                                 Happiness Score\n",
              "Region                                          \n",
              "Australia and New Zealand               7.285000\n",
              "Central and Eastern Europe              5.332931\n",
              "Eastern Asia                            5.626167\n",
              "Latin America and Caribbean             6.144682\n",
              "Middle East and Northern Africa         5.406900\n",
              "North America                           7.273000\n",
              "Southeastern Asia                       5.317444\n",
              "Southern Asia                           4.580857\n",
              "Sub-Saharan Africa                      4.202800\n",
              "Western Europe                          6.689619"
            ]
          },
          "metadata": {
            "tags": []
          },
          "execution_count": 86
        }
      ]
    },
    {
      "cell_type": "code",
      "metadata": {
        "colab": {
          "base_uri": "https://localhost:8080/",
          "height": 0
        },
        "id": "s2ZzS1XdtqwL",
        "outputId": "5679efab-f3a1-4359-b834-3ad0de81f696"
      },
      "source": [
        "pv_happiness = happiness2015.pivot_table(values='Happiness Score', index='Region', aggfunc=np.mean, margins=True)\n",
        "pv_happiness"
      ],
      "execution_count": 87,
      "outputs": [
        {
          "output_type": "execute_result",
          "data": {
            "text/html": [
              "<div>\n",
              "<style scoped>\n",
              "    .dataframe tbody tr th:only-of-type {\n",
              "        vertical-align: middle;\n",
              "    }\n",
              "\n",
              "    .dataframe tbody tr th {\n",
              "        vertical-align: top;\n",
              "    }\n",
              "\n",
              "    .dataframe thead th {\n",
              "        text-align: right;\n",
              "    }\n",
              "</style>\n",
              "<table border=\"1\" class=\"dataframe\">\n",
              "  <thead>\n",
              "    <tr style=\"text-align: right;\">\n",
              "      <th></th>\n",
              "      <th>Happiness Score</th>\n",
              "    </tr>\n",
              "    <tr>\n",
              "      <th>Region</th>\n",
              "      <th></th>\n",
              "    </tr>\n",
              "  </thead>\n",
              "  <tbody>\n",
              "    <tr>\n",
              "      <th>Australia and New Zealand</th>\n",
              "      <td>7.285000</td>\n",
              "    </tr>\n",
              "    <tr>\n",
              "      <th>Central and Eastern Europe</th>\n",
              "      <td>5.332931</td>\n",
              "    </tr>\n",
              "    <tr>\n",
              "      <th>Eastern Asia</th>\n",
              "      <td>5.626167</td>\n",
              "    </tr>\n",
              "    <tr>\n",
              "      <th>Latin America and Caribbean</th>\n",
              "      <td>6.144682</td>\n",
              "    </tr>\n",
              "    <tr>\n",
              "      <th>Middle East and Northern Africa</th>\n",
              "      <td>5.406900</td>\n",
              "    </tr>\n",
              "    <tr>\n",
              "      <th>North America</th>\n",
              "      <td>7.273000</td>\n",
              "    </tr>\n",
              "    <tr>\n",
              "      <th>Southeastern Asia</th>\n",
              "      <td>5.317444</td>\n",
              "    </tr>\n",
              "    <tr>\n",
              "      <th>Southern Asia</th>\n",
              "      <td>4.580857</td>\n",
              "    </tr>\n",
              "    <tr>\n",
              "      <th>Sub-Saharan Africa</th>\n",
              "      <td>4.202800</td>\n",
              "    </tr>\n",
              "    <tr>\n",
              "      <th>Western Europe</th>\n",
              "      <td>6.689619</td>\n",
              "    </tr>\n",
              "    <tr>\n",
              "      <th>All</th>\n",
              "      <td>5.375734</td>\n",
              "    </tr>\n",
              "  </tbody>\n",
              "</table>\n",
              "</div>"
            ],
            "text/plain": [
              "                                 Happiness Score\n",
              "Region                                          \n",
              "Australia and New Zealand               7.285000\n",
              "Central and Eastern Europe              5.332931\n",
              "Eastern Asia                            5.626167\n",
              "Latin America and Caribbean             6.144682\n",
              "Middle East and Northern Africa         5.406900\n",
              "North America                           7.273000\n",
              "Southeastern Asia                       5.317444\n",
              "Southern Asia                           4.580857\n",
              "Sub-Saharan Africa                      4.202800\n",
              "Western Europe                          6.689619\n",
              "All                                     5.375734"
            ]
          },
          "metadata": {
            "tags": []
          },
          "execution_count": 87
        }
      ]
    },
    {
      "cell_type": "markdown",
      "metadata": {
        "id": "eujtRJLTt2rp"
      },
      "source": [
        "When we set the margins parameter equal to True, All will be added to the index of the resulting dataframe and the corresponding value will be the result of applying the aggregation method to the entire column\n"
      ]
    },
    {
      "cell_type": "code",
      "metadata": {
        "colab": {
          "base_uri": "https://localhost:8080/",
          "height": 0
        },
        "id": "z42MoVzGZyKz",
        "outputId": "857b85f7-6b57-4d9e-91e9-cb5b1169ad98"
      },
      "source": [
        "pv_happiness.plot(kind='barh', title='Mean Happiness Scores by Region', xlim=(0,10))"
      ],
      "execution_count": 88,
      "outputs": [
        {
          "output_type": "execute_result",
          "data": {
            "text/plain": [
              "<matplotlib.axes._subplots.AxesSubplot at 0x7fb2eb80cc50>"
            ]
          },
          "metadata": {
            "tags": []
          },
          "execution_count": 88
        },
        {
          "output_type": "display_data",
          "data": {
            "image/png": "[encoded data removed]",
            "text/plain": [
              "<Figure size 432x288 with 1 Axes>"
            ]
          },
          "metadata": {
            "tags": [],
            "needs_background": "light"
          }
        }
      ]
    },
    {
      "cell_type": "code",
      "metadata": {
        "colab": {
          "base_uri": "https://localhost:8080/"
        },
        "id": "fGyq5eHceiUA",
        "outputId": "d77f1171-74c8-4bae-c648-f198057dc970"
      },
      "source": [
        "happiness2015['Happiness Score'].mean() == pv_happiness['Happiness Score'].mean()\n"
      ],
      "execution_count": 89,
      "outputs": [
        {
          "output_type": "execute_result",
          "data": {
            "text/plain": [
              "False"
            ]
          },
          "metadata": {
            "tags": []
          },
          "execution_count": 89
        }
      ]
    },
    {
      "cell_type": "code",
      "metadata": {
        "colab": {
          "base_uri": "https://localhost:8080/"
        },
        "id": "vfhfduB9fee8",
        "outputId": "ba9d1e94-8d19-40a5-ffe8-cc9b15e7634e"
      },
      "source": [
        "pv_happiness['Happiness Score'].mean()"
      ],
      "execution_count": 90,
      "outputs": [
        {
          "output_type": "execute_result",
          "data": {
            "text/plain": [
              "5.748648575587915"
            ]
          },
          "metadata": {
            "tags": []
          },
          "execution_count": 90
        }
      ]
    },
    {
      "cell_type": "code",
      "metadata": {
        "colab": {
          "base_uri": "https://localhost:8080/"
        },
        "id": "gYLsdTRGfueh",
        "outputId": "bb929938-eb57-42be-c01c-08f67d439f51"
      },
      "source": [
        "happiness2015['Happiness Score'].mean()"
      ],
      "execution_count": 91,
      "outputs": [
        {
          "output_type": "execute_result",
          "data": {
            "text/plain": [
              "5.3757341772151905"
            ]
          },
          "metadata": {
            "tags": []
          },
          "execution_count": 91
        }
      ]
    },
    {
      "cell_type": "code",
      "metadata": {
        "id": "D5NLzJf1fwEJ"
      },
      "source": [
        "grouped = happiness2015.groupby('Region')[['Happiness Score', 'Family']].mean()"
      ],
      "execution_count": 92,
      "outputs": []
    },
    {
      "cell_type": "markdown",
      "metadata": {
        "id": "WAqb9QRIRsiH"
      },
      "source": [
        "Aggregation Multiple Columns and Function with Pilot Tables"
      ]
    },
    {
      "cell_type": "code",
      "metadata": {
        "colab": {
          "base_uri": "https://localhost:8080/",
          "height": 0
        },
        "id": "Xt6tIZVGuZxT",
        "outputId": "25527e2b-0899-425b-fd7a-93f0009849b2"
      },
      "source": [
        "grouped_pv_table = happiness2015.pivot_table(['Happiness Score', 'Family'], 'Region', aggfunc=np.mean, margins=True)\n",
        "grouped_pv_table.plot(kind='barh')\n",
        "plt.show()"
      ],
      "execution_count": 93,
      "outputs": [
        {
          "output_type": "display_data",
          "data": {
            "image/png": "[encoded data removed]",
            "text/plain": [
              "<Figure size 432x288 with 1 Axes>"
            ]
          },
          "metadata": {
            "tags": [],
            "needs_background": "light"
          }
        }
      ]
    },
    {
      "cell_type": "code",
      "metadata": {
        "colab": {
          "base_uri": "https://localhost:8080/",
          "height": 0
        },
        "id": "YUbZ9tzPiefL",
        "outputId": "c1b6b705-9c31-4f80-9ea2-dd122459f93f"
      },
      "source": [
        "grouped = happiness2015.groupby('Region')[['Happiness Score', 'Family']]\n",
        "happy_family_stats = grouped.agg([np.min, np.max, np.mean])\n",
        "pv_happy_family_stats = pd.pivot_table(happiness2015, values=['Happiness Score', 'Family'], index='Region',  aggfunc=[np.min, np.max, np.mean], margins=True)\n",
        "\n",
        "pv_happy_family_stats"
      ],
      "execution_count": 94,
      "outputs": [
        {
          "output_type": "execute_result",
          "data": {
            "text/html": [
              "<div>\n",
              "<style scoped>\n",
              "    .dataframe tbody tr th:only-of-type {\n",
              "        vertical-align: middle;\n",
              "    }\n",
              "\n",
              "    .dataframe tbody tr th {\n",
              "        vertical-align: top;\n",
              "    }\n",
              "\n",
              "    .dataframe thead tr th {\n",
              "        text-align: left;\n",
              "    }\n",
              "\n",
              "    .dataframe thead tr:last-of-type th {\n",
              "        text-align: right;\n",
              "    }\n",
              "</style>\n",
              "<table border=\"1\" class=\"dataframe\">\n",
              "  <thead>\n",
              "    <tr>\n",
              "      <th></th>\n",
              "      <th colspan=\"2\" halign=\"left\">amin</th>\n",
              "      <th colspan=\"2\" halign=\"left\">amax</th>\n",
              "      <th colspan=\"2\" halign=\"left\">mean</th>\n",
              "    </tr>\n",
              "    <tr>\n",
              "      <th></th>\n",
              "      <th>Family</th>\n",
              "      <th>Happiness Score</th>\n",
              "      <th>Family</th>\n",
              "      <th>Happiness Score</th>\n",
              "      <th>Family</th>\n",
              "      <th>Happiness Score</th>\n",
              "    </tr>\n",
              "    <tr>\n",
              "      <th>Region</th>\n",
              "      <th></th>\n",
              "      <th></th>\n",
              "      <th></th>\n",
              "      <th></th>\n",
              "      <th></th>\n",
              "      <th></th>\n",
              "    </tr>\n",
              "  </thead>\n",
              "  <tbody>\n",
              "    <tr>\n",
              "      <th>Australia and New Zealand</th>\n",
              "      <td>1.30923</td>\n",
              "      <td>7.284</td>\n",
              "      <td>1.31967</td>\n",
              "      <td>7.286</td>\n",
              "      <td>1.314450</td>\n",
              "      <td>7.285000</td>\n",
              "    </tr>\n",
              "    <tr>\n",
              "      <th>Central and Eastern Europe</th>\n",
              "      <td>0.38562</td>\n",
              "      <td>4.218</td>\n",
              "      <td>1.34043</td>\n",
              "      <td>6.505</td>\n",
              "      <td>1.053042</td>\n",
              "      <td>5.332931</td>\n",
              "    </tr>\n",
              "    <tr>\n",
              "      <th>Eastern Asia</th>\n",
              "      <td>0.94675</td>\n",
              "      <td>4.874</td>\n",
              "      <td>1.30060</td>\n",
              "      <td>6.298</td>\n",
              "      <td>1.099427</td>\n",
              "      <td>5.626167</td>\n",
              "    </tr>\n",
              "    <tr>\n",
              "      <th>Latin America and Caribbean</th>\n",
              "      <td>0.74302</td>\n",
              "      <td>4.518</td>\n",
              "      <td>1.30477</td>\n",
              "      <td>7.226</td>\n",
              "      <td>1.104720</td>\n",
              "      <td>6.144682</td>\n",
              "    </tr>\n",
              "    <tr>\n",
              "      <th>Middle East and Northern Africa</th>\n",
              "      <td>0.47489</td>\n",
              "      <td>3.006</td>\n",
              "      <td>1.22393</td>\n",
              "      <td>7.278</td>\n",
              "      <td>0.920490</td>\n",
              "      <td>5.406900</td>\n",
              "    </tr>\n",
              "    <tr>\n",
              "      <th>North America</th>\n",
              "      <td>1.24711</td>\n",
              "      <td>7.119</td>\n",
              "      <td>1.32261</td>\n",
              "      <td>7.427</td>\n",
              "      <td>1.284860</td>\n",
              "      <td>7.273000</td>\n",
              "    </tr>\n",
              "    <tr>\n",
              "      <th>Southeastern Asia</th>\n",
              "      <td>0.62736</td>\n",
              "      <td>3.819</td>\n",
              "      <td>1.26504</td>\n",
              "      <td>6.798</td>\n",
              "      <td>0.940468</td>\n",
              "      <td>5.317444</td>\n",
              "    </tr>\n",
              "    <tr>\n",
              "      <th>Southern Asia</th>\n",
              "      <td>0.30285</td>\n",
              "      <td>3.575</td>\n",
              "      <td>1.10395</td>\n",
              "      <td>5.253</td>\n",
              "      <td>0.645321</td>\n",
              "      <td>4.580857</td>\n",
              "    </tr>\n",
              "    <tr>\n",
              "      <th>Sub-Saharan Africa</th>\n",
              "      <td>0.00000</td>\n",
              "      <td>2.839</td>\n",
              "      <td>1.18468</td>\n",
              "      <td>5.477</td>\n",
              "      <td>0.809085</td>\n",
              "      <td>4.202800</td>\n",
              "    </tr>\n",
              "    <tr>\n",
              "      <th>Western Europe</th>\n",
              "      <td>0.89318</td>\n",
              "      <td>4.857</td>\n",
              "      <td>1.40223</td>\n",
              "      <td>7.587</td>\n",
              "      <td>1.247302</td>\n",
              "      <td>6.689619</td>\n",
              "    </tr>\n",
              "    <tr>\n",
              "      <th>All</th>\n",
              "      <td>0.00000</td>\n",
              "      <td>2.839</td>\n",
              "      <td>1.40223</td>\n",
              "      <td>7.587</td>\n",
              "      <td>0.991046</td>\n",
              "      <td>5.375734</td>\n",
              "    </tr>\n",
              "  </tbody>\n",
              "</table>\n",
              "</div>"
            ],
            "text/plain": [
              "                                    amin  ...            mean\n",
              "                                  Family  ... Happiness Score\n",
              "Region                                    ...                \n",
              "Australia and New Zealand        1.30923  ...        7.285000\n",
              "Central and Eastern Europe       0.38562  ...        5.332931\n",
              "Eastern Asia                     0.94675  ...        5.626167\n",
              "Latin America and Caribbean      0.74302  ...        6.144682\n",
              "Middle East and Northern Africa  0.47489  ...        5.406900\n",
              "North America                    1.24711  ...        7.273000\n",
              "Southeastern Asia                0.62736  ...        5.317444\n",
              "Southern Asia                    0.30285  ...        4.580857\n",
              "Sub-Saharan Africa               0.00000  ...        4.202800\n",
              "Western Europe                   0.89318  ...        6.689619\n",
              "All                              0.00000  ...        5.375734\n",
              "\n",
              "[11 rows x 6 columns]"
            ]
          },
          "metadata": {
            "tags": []
          },
          "execution_count": 94
        }
      ]
    },
    {
      "cell_type": "markdown",
      "metadata": {
        "id": "-cI5G1DWSG_w"
      },
      "source": [
        "# Combining Data With Pandas"
      ]
    },
    {
      "cell_type": "code",
      "metadata": {
        "id": "aR3UGZgwsau3"
      },
      "source": [
        "happiness2016 = pd.read_csv('/content/drive/MyDrive/my_datasets/Data Cleaning and Analysis/World_Happiness_2016.csv')\n",
        "happiness2017 = pd.read_csv('/content/drive/MyDrive/my_datasets/Data Cleaning and Analysis/World_Happiness_2017.csv')"
      ],
      "execution_count": 95,
      "outputs": []
    },
    {
      "cell_type": "code",
      "metadata": {
        "id": "Sp-7oXAvSFZ5"
      },
      "source": [
        "happiness2015['Year'] = 2015\n",
        "happiness2016['Year'] = 2016\n",
        "happiness2017['Year'] = 2017"
      ],
      "execution_count": 97,
      "outputs": []
    },
    {
      "cell_type": "code",
      "metadata": {
        "id": "vH7RUrPpUiCr"
      },
      "source": [
        "head_2015 = happiness2015[['Year','Country','Happiness Score', 'Standard Error']].head(4)\n",
        "head_2016 = happiness2016[['Country','Happiness Score', 'Year']].head(3)"
      ],
      "execution_count": 98,
      "outputs": []
    },
    {
      "cell_type": "code",
      "metadata": {
        "colab": {
          "base_uri": "https://localhost:8080/",
          "height": 350
        },
        "id": "nGP8H8cTUVsF",
        "outputId": "2b1bbd4e-8db3-4533-c814-582f57d9e40c"
      },
      "source": [
        "happiness2015.head()"
      ],
      "execution_count": 99,
      "outputs": [
        {
          "output_type": "execute_result",
          "data": {
            "text/html": [
              "<div>\n",
              "<style scoped>\n",
              "    .dataframe tbody tr th:only-of-type {\n",
              "        vertical-align: middle;\n",
              "    }\n",
              "\n",
              "    .dataframe tbody tr th {\n",
              "        vertical-align: top;\n",
              "    }\n",
              "\n",
              "    .dataframe thead th {\n",
              "        text-align: right;\n",
              "    }\n",
              "</style>\n",
              "<table border=\"1\" class=\"dataframe\">\n",
              "  <thead>\n",
              "    <tr style=\"text-align: right;\">\n",
              "      <th></th>\n",
              "      <th>Country</th>\n",
              "      <th>Region</th>\n",
              "      <th>Happiness Rank</th>\n",
              "      <th>Happiness Score</th>\n",
              "      <th>Standard Error</th>\n",
              "      <th>Economy (GDP per Capita)</th>\n",
              "      <th>Family</th>\n",
              "      <th>Health (Life Expectancy)</th>\n",
              "      <th>Freedom</th>\n",
              "      <th>Trust (Government Corruption)</th>\n",
              "      <th>Generosity</th>\n",
              "      <th>Dystopia Residual</th>\n",
              "      <th>Year</th>\n",
              "    </tr>\n",
              "  </thead>\n",
              "  <tbody>\n",
              "    <tr>\n",
              "      <th>0</th>\n",
              "      <td>Switzerland</td>\n",
              "      <td>Western Europe</td>\n",
              "      <td>1</td>\n",
              "      <td>7.587</td>\n",
              "      <td>0.03411</td>\n",
              "      <td>1.39651</td>\n",
              "      <td>1.34951</td>\n",
              "      <td>0.94143</td>\n",
              "      <td>0.66557</td>\n",
              "      <td>0.41978</td>\n",
              "      <td>0.29678</td>\n",
              "      <td>2.51738</td>\n",
              "      <td>2015</td>\n",
              "    </tr>\n",
              "    <tr>\n",
              "      <th>1</th>\n",
              "      <td>Iceland</td>\n",
              "      <td>Western Europe</td>\n",
              "      <td>2</td>\n",
              "      <td>7.561</td>\n",
              "      <td>0.04884</td>\n",
              "      <td>1.30232</td>\n",
              "      <td>1.40223</td>\n",
              "      <td>0.94784</td>\n",
              "      <td>0.62877</td>\n",
              "      <td>0.14145</td>\n",
              "      <td>0.43630</td>\n",
              "      <td>2.70201</td>\n",
              "      <td>2015</td>\n",
              "    </tr>\n",
              "    <tr>\n",
              "      <th>2</th>\n",
              "      <td>Denmark</td>\n",
              "      <td>Western Europe</td>\n",
              "      <td>3</td>\n",
              "      <td>7.527</td>\n",
              "      <td>0.03328</td>\n",
              "      <td>1.32548</td>\n",
              "      <td>1.36058</td>\n",
              "      <td>0.87464</td>\n",
              "      <td>0.64938</td>\n",
              "      <td>0.48357</td>\n",
              "      <td>0.34139</td>\n",
              "      <td>2.49204</td>\n",
              "      <td>2015</td>\n",
              "    </tr>\n",
              "    <tr>\n",
              "      <th>3</th>\n",
              "      <td>Norway</td>\n",
              "      <td>Western Europe</td>\n",
              "      <td>4</td>\n",
              "      <td>7.522</td>\n",
              "      <td>0.03880</td>\n",
              "      <td>1.45900</td>\n",
              "      <td>1.33095</td>\n",
              "      <td>0.88521</td>\n",
              "      <td>0.66973</td>\n",
              "      <td>0.36503</td>\n",
              "      <td>0.34699</td>\n",
              "      <td>2.46531</td>\n",
              "      <td>2015</td>\n",
              "    </tr>\n",
              "    <tr>\n",
              "      <th>4</th>\n",
              "      <td>Canada</td>\n",
              "      <td>North America</td>\n",
              "      <td>5</td>\n",
              "      <td>7.427</td>\n",
              "      <td>0.03553</td>\n",
              "      <td>1.32629</td>\n",
              "      <td>1.32261</td>\n",
              "      <td>0.90563</td>\n",
              "      <td>0.63297</td>\n",
              "      <td>0.32957</td>\n",
              "      <td>0.45811</td>\n",
              "      <td>2.45176</td>\n",
              "      <td>2015</td>\n",
              "    </tr>\n",
              "  </tbody>\n",
              "</table>\n",
              "</div>"
            ],
            "text/plain": [
              "       Country          Region  ...  Dystopia Residual  Year\n",
              "0  Switzerland  Western Europe  ...            2.51738  2015\n",
              "1      Iceland  Western Europe  ...            2.70201  2015\n",
              "2      Denmark  Western Europe  ...            2.49204  2015\n",
              "3       Norway  Western Europe  ...            2.46531  2015\n",
              "4       Canada   North America  ...            2.45176  2015\n",
              "\n",
              "[5 rows x 13 columns]"
            ]
          },
          "metadata": {
            "tags": []
          },
          "execution_count": 99
        }
      ]
    },
    {
      "cell_type": "markdown",
      "metadata": {
        "id": "zyymdFEYVrec"
      },
      "source": [
        "Combining Dataframes with the Concat Function"
      ]
    },
    {
      "cell_type": "markdown",
      "metadata": {
        "id": "WUrJIx1vW89W"
      },
      "source": [
        "head_2015, head_2016 has the same shape"
      ]
    },
    {
      "cell_type": "code",
      "metadata": {
        "id": "ZIgLiwVlU8Y_"
      },
      "source": [
        "head_2015 = happiness2015[['Country','Happiness Score', 'Year']].head(3)\n",
        "head_2016 = happiness2016[['Country','Happiness Score', 'Year']].head(3)\n",
        "\n",
        "concat_axis0 = pd.concat([head_2015, head_2016], axis=0)\n",
        "concat_axis1 = pd.concat([head_2015, head_2016], axis=1)"
      ],
      "execution_count": 100,
      "outputs": []
    },
    {
      "cell_type": "code",
      "metadata": {
        "colab": {
          "base_uri": "https://localhost:8080/",
          "height": 225
        },
        "id": "pQndCoacWTFv",
        "outputId": "6751205b-2984-435e-9881-b0d90c78be5c"
      },
      "source": [
        "concat_axis0"
      ],
      "execution_count": 101,
      "outputs": [
        {
          "output_type": "execute_result",
          "data": {
            "text/html": [
              "<div>\n",
              "<style scoped>\n",
              "    .dataframe tbody tr th:only-of-type {\n",
              "        vertical-align: middle;\n",
              "    }\n",
              "\n",
              "    .dataframe tbody tr th {\n",
              "        vertical-align: top;\n",
              "    }\n",
              "\n",
              "    .dataframe thead th {\n",
              "        text-align: right;\n",
              "    }\n",
              "</style>\n",
              "<table border=\"1\" class=\"dataframe\">\n",
              "  <thead>\n",
              "    <tr style=\"text-align: right;\">\n",
              "      <th></th>\n",
              "      <th>Country</th>\n",
              "      <th>Happiness Score</th>\n",
              "      <th>Year</th>\n",
              "    </tr>\n",
              "  </thead>\n",
              "  <tbody>\n",
              "    <tr>\n",
              "      <th>0</th>\n",
              "      <td>Switzerland</td>\n",
              "      <td>7.587</td>\n",
              "      <td>2015</td>\n",
              "    </tr>\n",
              "    <tr>\n",
              "      <th>1</th>\n",
              "      <td>Iceland</td>\n",
              "      <td>7.561</td>\n",
              "      <td>2015</td>\n",
              "    </tr>\n",
              "    <tr>\n",
              "      <th>2</th>\n",
              "      <td>Denmark</td>\n",
              "      <td>7.527</td>\n",
              "      <td>2015</td>\n",
              "    </tr>\n",
              "    <tr>\n",
              "      <th>0</th>\n",
              "      <td>Denmark</td>\n",
              "      <td>7.526</td>\n",
              "      <td>2016</td>\n",
              "    </tr>\n",
              "    <tr>\n",
              "      <th>1</th>\n",
              "      <td>Switzerland</td>\n",
              "      <td>7.509</td>\n",
              "      <td>2016</td>\n",
              "    </tr>\n",
              "    <tr>\n",
              "      <th>2</th>\n",
              "      <td>Iceland</td>\n",
              "      <td>7.501</td>\n",
              "      <td>2016</td>\n",
              "    </tr>\n",
              "  </tbody>\n",
              "</table>\n",
              "</div>"
            ],
            "text/plain": [
              "       Country  Happiness Score  Year\n",
              "0  Switzerland            7.587  2015\n",
              "1      Iceland            7.561  2015\n",
              "2      Denmark            7.527  2015\n",
              "0      Denmark            7.526  2016\n",
              "1  Switzerland            7.509  2016\n",
              "2      Iceland            7.501  2016"
            ]
          },
          "metadata": {
            "tags": []
          },
          "execution_count": 101
        }
      ]
    },
    {
      "cell_type": "code",
      "metadata": {
        "colab": {
          "base_uri": "https://localhost:8080/",
          "height": 136
        },
        "id": "EFLigEZIWVm5",
        "outputId": "8bc2abf4-d727-4c3d-ab29-8ddf7db7deea"
      },
      "source": [
        "concat_axis1"
      ],
      "execution_count": 102,
      "outputs": [
        {
          "output_type": "execute_result",
          "data": {
            "text/html": [
              "<div>\n",
              "<style scoped>\n",
              "    .dataframe tbody tr th:only-of-type {\n",
              "        vertical-align: middle;\n",
              "    }\n",
              "\n",
              "    .dataframe tbody tr th {\n",
              "        vertical-align: top;\n",
              "    }\n",
              "\n",
              "    .dataframe thead th {\n",
              "        text-align: right;\n",
              "    }\n",
              "</style>\n",
              "<table border=\"1\" class=\"dataframe\">\n",
              "  <thead>\n",
              "    <tr style=\"text-align: right;\">\n",
              "      <th></th>\n",
              "      <th>Country</th>\n",
              "      <th>Happiness Score</th>\n",
              "      <th>Year</th>\n",
              "      <th>Country</th>\n",
              "      <th>Happiness Score</th>\n",
              "      <th>Year</th>\n",
              "    </tr>\n",
              "  </thead>\n",
              "  <tbody>\n",
              "    <tr>\n",
              "      <th>0</th>\n",
              "      <td>Switzerland</td>\n",
              "      <td>7.587</td>\n",
              "      <td>2015</td>\n",
              "      <td>Denmark</td>\n",
              "      <td>7.526</td>\n",
              "      <td>2016</td>\n",
              "    </tr>\n",
              "    <tr>\n",
              "      <th>1</th>\n",
              "      <td>Iceland</td>\n",
              "      <td>7.561</td>\n",
              "      <td>2015</td>\n",
              "      <td>Switzerland</td>\n",
              "      <td>7.509</td>\n",
              "      <td>2016</td>\n",
              "    </tr>\n",
              "    <tr>\n",
              "      <th>2</th>\n",
              "      <td>Denmark</td>\n",
              "      <td>7.527</td>\n",
              "      <td>2015</td>\n",
              "      <td>Iceland</td>\n",
              "      <td>7.501</td>\n",
              "      <td>2016</td>\n",
              "    </tr>\n",
              "  </tbody>\n",
              "</table>\n",
              "</div>"
            ],
            "text/plain": [
              "       Country  Happiness Score  Year      Country  Happiness Score  Year\n",
              "0  Switzerland            7.587  2015      Denmark            7.526  2016\n",
              "1      Iceland            7.561  2015  Switzerland            7.509  2016\n",
              "2      Denmark            7.527  2015      Iceland            7.501  2016"
            ]
          },
          "metadata": {
            "tags": []
          },
          "execution_count": 102
        }
      ]
    },
    {
      "cell_type": "markdown",
      "metadata": {
        "id": "-zYZgYW6WQeU"
      },
      "source": [
        "Combining Dataframes with the Concat Function Continued"
      ]
    },
    {
      "cell_type": "markdown",
      "metadata": {
        "id": "BRshZF0bXR1R"
      },
      "source": [
        "head_2015, head_2016 hasn't the same shape"
      ]
    },
    {
      "cell_type": "code",
      "metadata": {
        "id": "ViGPH1IlWxp2"
      },
      "source": [
        "head_2015 = happiness2015[['Year','Country','Happiness Score', 'Standard Error']].head(4)\n",
        "head_2016 = happiness2016[['Country','Happiness Score', 'Year']].head(3)"
      ],
      "execution_count": 103,
      "outputs": []
    },
    {
      "cell_type": "code",
      "metadata": {
        "id": "u12oWfnKVxCd"
      },
      "source": [
        "concat_axis0 = pd.concat([head_2015, head_2016], axis=0)\n",
        "concat_axis1 = pd.concat([head_2015, head_2016], axis=1)"
      ],
      "execution_count": 104,
      "outputs": []
    },
    {
      "cell_type": "code",
      "metadata": {
        "colab": {
          "base_uri": "https://localhost:8080/",
          "height": 254
        },
        "id": "5VsXLCueWrKX",
        "outputId": "7b8d7367-8fa4-4432-a274-31b01c7ca2ed"
      },
      "source": [
        "concat_axis0"
      ],
      "execution_count": 105,
      "outputs": [
        {
          "output_type": "execute_result",
          "data": {
            "text/html": [
              "<div>\n",
              "<style scoped>\n",
              "    .dataframe tbody tr th:only-of-type {\n",
              "        vertical-align: middle;\n",
              "    }\n",
              "\n",
              "    .dataframe tbody tr th {\n",
              "        vertical-align: top;\n",
              "    }\n",
              "\n",
              "    .dataframe thead th {\n",
              "        text-align: right;\n",
              "    }\n",
              "</style>\n",
              "<table border=\"1\" class=\"dataframe\">\n",
              "  <thead>\n",
              "    <tr style=\"text-align: right;\">\n",
              "      <th></th>\n",
              "      <th>Year</th>\n",
              "      <th>Country</th>\n",
              "      <th>Happiness Score</th>\n",
              "      <th>Standard Error</th>\n",
              "    </tr>\n",
              "  </thead>\n",
              "  <tbody>\n",
              "    <tr>\n",
              "      <th>0</th>\n",
              "      <td>2015</td>\n",
              "      <td>Switzerland</td>\n",
              "      <td>7.587</td>\n",
              "      <td>0.03411</td>\n",
              "    </tr>\n",
              "    <tr>\n",
              "      <th>1</th>\n",
              "      <td>2015</td>\n",
              "      <td>Iceland</td>\n",
              "      <td>7.561</td>\n",
              "      <td>0.04884</td>\n",
              "    </tr>\n",
              "    <tr>\n",
              "      <th>2</th>\n",
              "      <td>2015</td>\n",
              "      <td>Denmark</td>\n",
              "      <td>7.527</td>\n",
              "      <td>0.03328</td>\n",
              "    </tr>\n",
              "    <tr>\n",
              "      <th>3</th>\n",
              "      <td>2015</td>\n",
              "      <td>Norway</td>\n",
              "      <td>7.522</td>\n",
              "      <td>0.03880</td>\n",
              "    </tr>\n",
              "    <tr>\n",
              "      <th>0</th>\n",
              "      <td>2016</td>\n",
              "      <td>Denmark</td>\n",
              "      <td>7.526</td>\n",
              "      <td>NaN</td>\n",
              "    </tr>\n",
              "    <tr>\n",
              "      <th>1</th>\n",
              "      <td>2016</td>\n",
              "      <td>Switzerland</td>\n",
              "      <td>7.509</td>\n",
              "      <td>NaN</td>\n",
              "    </tr>\n",
              "    <tr>\n",
              "      <th>2</th>\n",
              "      <td>2016</td>\n",
              "      <td>Iceland</td>\n",
              "      <td>7.501</td>\n",
              "      <td>NaN</td>\n",
              "    </tr>\n",
              "  </tbody>\n",
              "</table>\n",
              "</div>"
            ],
            "text/plain": [
              "   Year      Country  Happiness Score  Standard Error\n",
              "0  2015  Switzerland            7.587         0.03411\n",
              "1  2015      Iceland            7.561         0.04884\n",
              "2  2015      Denmark            7.527         0.03328\n",
              "3  2015       Norway            7.522         0.03880\n",
              "0  2016      Denmark            7.526             NaN\n",
              "1  2016  Switzerland            7.509             NaN\n",
              "2  2016      Iceland            7.501             NaN"
            ]
          },
          "metadata": {
            "tags": []
          },
          "execution_count": 105
        }
      ]
    },
    {
      "cell_type": "code",
      "metadata": {
        "colab": {
          "base_uri": "https://localhost:8080/",
          "height": 182
        },
        "id": "Czxst5LtWsE6",
        "outputId": "97e4b3d8-bb5c-4d0f-9d95-14ecf5013b7f"
      },
      "source": [
        "concat_axis1"
      ],
      "execution_count": 106,
      "outputs": [
        {
          "output_type": "execute_result",
          "data": {
            "text/html": [
              "<div>\n",
              "<style scoped>\n",
              "    .dataframe tbody tr th:only-of-type {\n",
              "        vertical-align: middle;\n",
              "    }\n",
              "\n",
              "    .dataframe tbody tr th {\n",
              "        vertical-align: top;\n",
              "    }\n",
              "\n",
              "    .dataframe thead th {\n",
              "        text-align: right;\n",
              "    }\n",
              "</style>\n",
              "<table border=\"1\" class=\"dataframe\">\n",
              "  <thead>\n",
              "    <tr style=\"text-align: right;\">\n",
              "      <th></th>\n",
              "      <th>Year</th>\n",
              "      <th>Country</th>\n",
              "      <th>Happiness Score</th>\n",
              "      <th>Standard Error</th>\n",
              "      <th>Country</th>\n",
              "      <th>Happiness Score</th>\n",
              "      <th>Year</th>\n",
              "    </tr>\n",
              "  </thead>\n",
              "  <tbody>\n",
              "    <tr>\n",
              "      <th>0</th>\n",
              "      <td>2015</td>\n",
              "      <td>Switzerland</td>\n",
              "      <td>7.587</td>\n",
              "      <td>0.03411</td>\n",
              "      <td>Denmark</td>\n",
              "      <td>7.526</td>\n",
              "      <td>2016.0</td>\n",
              "    </tr>\n",
              "    <tr>\n",
              "      <th>1</th>\n",
              "      <td>2015</td>\n",
              "      <td>Iceland</td>\n",
              "      <td>7.561</td>\n",
              "      <td>0.04884</td>\n",
              "      <td>Switzerland</td>\n",
              "      <td>7.509</td>\n",
              "      <td>2016.0</td>\n",
              "    </tr>\n",
              "    <tr>\n",
              "      <th>2</th>\n",
              "      <td>2015</td>\n",
              "      <td>Denmark</td>\n",
              "      <td>7.527</td>\n",
              "      <td>0.03328</td>\n",
              "      <td>Iceland</td>\n",
              "      <td>7.501</td>\n",
              "      <td>2016.0</td>\n",
              "    </tr>\n",
              "    <tr>\n",
              "      <th>3</th>\n",
              "      <td>2015</td>\n",
              "      <td>Norway</td>\n",
              "      <td>7.522</td>\n",
              "      <td>0.03880</td>\n",
              "      <td>NaN</td>\n",
              "      <td>NaN</td>\n",
              "      <td>NaN</td>\n",
              "    </tr>\n",
              "  </tbody>\n",
              "</table>\n",
              "</div>"
            ],
            "text/plain": [
              "   Year      Country Happiness Score  ...      Country Happiness Score    Year\n",
              "0  2015  Switzerland           7.587  ...      Denmark           7.526  2016.0\n",
              "1  2015      Iceland           7.561  ...  Switzerland           7.509  2016.0\n",
              "2  2015      Denmark           7.527  ...      Iceland           7.501  2016.0\n",
              "3  2015       Norway           7.522  ...          NaN             NaN     NaN\n",
              "\n",
              "[4 rows x 7 columns]"
            ]
          },
          "metadata": {
            "tags": []
          },
          "execution_count": 106
        }
      ]
    },
    {
      "cell_type": "markdown",
      "metadata": {
        "id": "QCDKyUsXYWGt"
      },
      "source": [
        "Combining Dataframes with Different Shapes Using the Concat Function "
      ]
    },
    {
      "cell_type": "code",
      "metadata": {
        "colab": {
          "base_uri": "https://localhost:8080/",
          "height": 254
        },
        "id": "so11C1nkYixz",
        "outputId": "2317c69e-e6f0-4d98-a9c4-c1af10d2396c"
      },
      "source": [
        "concat_update_index = pd.concat([head_2015, head_2016], ignore_index=True)\n",
        "concat_update_index"
      ],
      "execution_count": 107,
      "outputs": [
        {
          "output_type": "execute_result",
          "data": {
            "text/html": [
              "<div>\n",
              "<style scoped>\n",
              "    .dataframe tbody tr th:only-of-type {\n",
              "        vertical-align: middle;\n",
              "    }\n",
              "\n",
              "    .dataframe tbody tr th {\n",
              "        vertical-align: top;\n",
              "    }\n",
              "\n",
              "    .dataframe thead th {\n",
              "        text-align: right;\n",
              "    }\n",
              "</style>\n",
              "<table border=\"1\" class=\"dataframe\">\n",
              "  <thead>\n",
              "    <tr style=\"text-align: right;\">\n",
              "      <th></th>\n",
              "      <th>Year</th>\n",
              "      <th>Country</th>\n",
              "      <th>Happiness Score</th>\n",
              "      <th>Standard Error</th>\n",
              "    </tr>\n",
              "  </thead>\n",
              "  <tbody>\n",
              "    <tr>\n",
              "      <th>0</th>\n",
              "      <td>2015</td>\n",
              "      <td>Switzerland</td>\n",
              "      <td>7.587</td>\n",
              "      <td>0.03411</td>\n",
              "    </tr>\n",
              "    <tr>\n",
              "      <th>1</th>\n",
              "      <td>2015</td>\n",
              "      <td>Iceland</td>\n",
              "      <td>7.561</td>\n",
              "      <td>0.04884</td>\n",
              "    </tr>\n",
              "    <tr>\n",
              "      <th>2</th>\n",
              "      <td>2015</td>\n",
              "      <td>Denmark</td>\n",
              "      <td>7.527</td>\n",
              "      <td>0.03328</td>\n",
              "    </tr>\n",
              "    <tr>\n",
              "      <th>3</th>\n",
              "      <td>2015</td>\n",
              "      <td>Norway</td>\n",
              "      <td>7.522</td>\n",
              "      <td>0.03880</td>\n",
              "    </tr>\n",
              "    <tr>\n",
              "      <th>4</th>\n",
              "      <td>2016</td>\n",
              "      <td>Denmark</td>\n",
              "      <td>7.526</td>\n",
              "      <td>NaN</td>\n",
              "    </tr>\n",
              "    <tr>\n",
              "      <th>5</th>\n",
              "      <td>2016</td>\n",
              "      <td>Switzerland</td>\n",
              "      <td>7.509</td>\n",
              "      <td>NaN</td>\n",
              "    </tr>\n",
              "    <tr>\n",
              "      <th>6</th>\n",
              "      <td>2016</td>\n",
              "      <td>Iceland</td>\n",
              "      <td>7.501</td>\n",
              "      <td>NaN</td>\n",
              "    </tr>\n",
              "  </tbody>\n",
              "</table>\n",
              "</div>"
            ],
            "text/plain": [
              "   Year      Country  Happiness Score  Standard Error\n",
              "0  2015  Switzerland            7.587         0.03411\n",
              "1  2015      Iceland            7.561         0.04884\n",
              "2  2015      Denmark            7.527         0.03328\n",
              "3  2015       Norway            7.522         0.03880\n",
              "4  2016      Denmark            7.526             NaN\n",
              "5  2016  Switzerland            7.509             NaN\n",
              "6  2016      Iceland            7.501             NaN"
            ]
          },
          "metadata": {
            "tags": []
          },
          "execution_count": 107
        }
      ]
    },
    {
      "cell_type": "markdown",
      "metadata": {
        "id": "-EPio1AsY99R"
      },
      "source": [
        "Joining Dataframes with the Merge Function "
      ]
    },
    {
      "cell_type": "code",
      "metadata": {
        "id": "fjADQNcQYwr9"
      },
      "source": [
        "three_2015 = happiness2015[['Country','Happiness Rank','Year']].iloc[2:5]\n",
        "three_2016 = happiness2016[['Country','Happiness Rank','Year']].iloc[2:5]"
      ],
      "execution_count": 108,
      "outputs": []
    },
    {
      "cell_type": "code",
      "metadata": {
        "colab": {
          "base_uri": "https://localhost:8080/"
        },
        "id": "ROyJ5OzcaCMz",
        "outputId": "f50ebbf2-f66e-49ef-bf40-65b8104c3e77"
      },
      "source": [
        "print(three_2015)\n",
        "print('\\n')\n",
        "print(three_2016)"
      ],
      "execution_count": 109,
      "outputs": [
        {
          "output_type": "stream",
          "text": [
            "   Country  Happiness Rank  Year\n",
            "2  Denmark               3  2015\n",
            "3   Norway               4  2015\n",
            "4   Canada               5  2015\n",
            "\n",
            "\n",
            "   Country  Happiness Rank  Year\n",
            "2  Iceland               3  2016\n",
            "3   Norway               4  2016\n",
            "4  Finland               5  2016\n"
          ],
          "name": "stdout"
        }
      ]
    },
    {
      "cell_type": "code",
      "metadata": {
        "id": "gUmuGTbTaFcB"
      },
      "source": [
        "merged = pd.merge(left=three_2015, right=three_2016, on='Country')"
      ],
      "execution_count": 110,
      "outputs": []
    },
    {
      "cell_type": "code",
      "metadata": {
        "colab": {
          "base_uri": "https://localhost:8080/",
          "height": 77
        },
        "id": "8jM4Yx7IaajM",
        "outputId": "40892d52-a453-437a-fe52-369b11e47ddb"
      },
      "source": [
        "merged"
      ],
      "execution_count": 111,
      "outputs": [
        {
          "output_type": "execute_result",
          "data": {
            "text/html": [
              "<div>\n",
              "<style scoped>\n",
              "    .dataframe tbody tr th:only-of-type {\n",
              "        vertical-align: middle;\n",
              "    }\n",
              "\n",
              "    .dataframe tbody tr th {\n",
              "        vertical-align: top;\n",
              "    }\n",
              "\n",
              "    .dataframe thead th {\n",
              "        text-align: right;\n",
              "    }\n",
              "</style>\n",
              "<table border=\"1\" class=\"dataframe\">\n",
              "  <thead>\n",
              "    <tr style=\"text-align: right;\">\n",
              "      <th></th>\n",
              "      <th>Country</th>\n",
              "      <th>Happiness Rank_x</th>\n",
              "      <th>Year_x</th>\n",
              "      <th>Happiness Rank_y</th>\n",
              "      <th>Year_y</th>\n",
              "    </tr>\n",
              "  </thead>\n",
              "  <tbody>\n",
              "    <tr>\n",
              "      <th>0</th>\n",
              "      <td>Norway</td>\n",
              "      <td>4</td>\n",
              "      <td>2015</td>\n",
              "      <td>4</td>\n",
              "      <td>2016</td>\n",
              "    </tr>\n",
              "  </tbody>\n",
              "</table>\n",
              "</div>"
            ],
            "text/plain": [
              "  Country  Happiness Rank_x  Year_x  Happiness Rank_y  Year_y\n",
              "0  Norway                 4    2015                 4    2016"
            ]
          },
          "metadata": {
            "tags": []
          },
          "execution_count": 111
        }
      ]
    },
    {
      "cell_type": "markdown",
      "metadata": {
        "id": "dPxS9jr-b7i8"
      },
      "source": [
        "Joining on Columns with the Merge Function"
      ]
    },
    {
      "cell_type": "code",
      "metadata": {
        "colab": {
          "base_uri": "https://localhost:8080/"
        },
        "id": "0FdiCc82absM",
        "outputId": "1c36da16-15d8-4361-c10e-ff7f0f57abad"
      },
      "source": [
        "# how option\n",
        "merged_left = pd.merge(left=three_2015, right=three_2016, how='left', on='Country')\n",
        "merged_left_updated = pd.merge(left=three_2016, right=three_2015, how='left', on='Country')\n",
        "\n",
        "print(merged_left)\n",
        "print('\\n')\n",
        "print(merged_left_updated)"
      ],
      "execution_count": 112,
      "outputs": [
        {
          "output_type": "stream",
          "text": [
            "   Country  Happiness Rank_x  Year_x  Happiness Rank_y  Year_y\n",
            "0  Denmark                 3    2015               NaN     NaN\n",
            "1   Norway                 4    2015               4.0  2016.0\n",
            "2   Canada                 5    2015               NaN     NaN\n",
            "\n",
            "\n",
            "   Country  Happiness Rank_x  Year_x  Happiness Rank_y  Year_y\n",
            "0  Iceland                 3    2016               NaN     NaN\n",
            "1   Norway                 4    2016               4.0  2015.0\n",
            "2  Finland                 5    2016               NaN     NaN\n"
          ],
          "name": "stdout"
        }
      ]
    },
    {
      "cell_type": "code",
      "metadata": {
        "colab": {
          "base_uri": "https://localhost:8080/"
        },
        "id": "Y4b0EXV_dECn",
        "outputId": "7f4c1781-b64d-4703-a764-798194a77ce2"
      },
      "source": [
        "# suffixes option\n",
        "merged_suffixes = pd.merge(left=three_2015, right=three_2016, suffixes=('_2015', '_2016'), how='left', on='Country')\n",
        "merged_updated_suffixes = pd.merge(left=three_2016, right=three_2015, suffixes=('_2016', '_2015'), how='left', on='Country')\n",
        "\n",
        "print(merged_suffixes)\n",
        "print('\\n')\n",
        "print(merged_updated_suffixes)"
      ],
      "execution_count": 113,
      "outputs": [
        {
          "output_type": "stream",
          "text": [
            "   Country  Happiness Rank_2015  Year_2015  Happiness Rank_2016  Year_2016\n",
            "0  Denmark                    3       2015                  NaN        NaN\n",
            "1   Norway                    4       2015                  4.0     2016.0\n",
            "2   Canada                    5       2015                  NaN        NaN\n",
            "\n",
            "\n",
            "   Country  Happiness Rank_2016  Year_2016  Happiness Rank_2015  Year_2015\n",
            "0  Iceland                    3       2016                  NaN        NaN\n",
            "1   Norway                    4       2016                  4.0     2015.0\n",
            "2  Finland                    5       2016                  NaN        NaN\n"
          ],
          "name": "stdout"
        }
      ]
    },
    {
      "cell_type": "markdown",
      "metadata": {
        "id": "Yvgevw8PgLr4"
      },
      "source": [
        "Join on Index with the Merge Function"
      ]
    },
    {
      "cell_type": "code",
      "metadata": {
        "colab": {
          "base_uri": "https://localhost:8080/"
        },
        "id": "jsSqvNCGfcF1",
        "outputId": "80194353-0dec-4e12-d301-211de5ef3103"
      },
      "source": [
        "four_2015 = happiness2015[['Country','Happiness Rank','Year']].iloc[2:6]\n",
        "three_2016 = happiness2016[['Country','Happiness Rank','Year']].iloc[2:5]\n",
        "\n",
        "merge_index = pd.merge(left=four_2015, right=three_2016, left_index=True, right_index=True, suffixes=('_2015', '_2016'))\n",
        "merge_index_left = pd.merge(left = four_2015,right = three_2016, left_index = True, right_index = True, suffixes = ('_2015','_2016'), how='left')\n",
        "\n",
        "print(merge_index)\n",
        "print('\\n')\n",
        "print(merge_index_left)"
      ],
      "execution_count": 114,
      "outputs": [
        {
          "output_type": "stream",
          "text": [
            "  Country_2015  Happiness Rank_2015  ...  Happiness Rank_2016 Year_2016\n",
            "2      Denmark                    3  ...                    3      2016\n",
            "3       Norway                    4  ...                    4      2016\n",
            "4       Canada                    5  ...                    5      2016\n",
            "\n",
            "[3 rows x 6 columns]\n",
            "\n",
            "\n",
            "  Country_2015  Happiness Rank_2015  ...  Happiness Rank_2016 Year_2016\n",
            "2      Denmark                    3  ...                  3.0    2016.0\n",
            "3       Norway                    4  ...                  4.0    2016.0\n",
            "4       Canada                    5  ...                  5.0    2016.0\n",
            "5      Finland                    6  ...                  NaN       NaN\n",
            "\n",
            "[4 rows x 6 columns]\n"
          ],
          "name": "stdout"
        }
      ]
    },
    {
      "cell_type": "code",
      "metadata": {
        "colab": {
          "base_uri": "https://localhost:8080/"
        },
        "id": "hPApuGBBg-hF",
        "outputId": "013f3cd3-5cf9-4473-85ad-98f547aaa66f"
      },
      "source": [
        "merge_index = pd.merge(left = four_2015,right = three_2016, left_index = True, right_index = True, suffixes = ('_2015','_2016'))\n",
        "merge_index_left = pd.merge(left = four_2015,right = three_2016, left_index = True, right_index = True, suffixes = ('_2015','_2016'), how='left')\n",
        "\n",
        "print(merge_index)\n",
        "print('/n')\n",
        "print(merge_index_left)"
      ],
      "execution_count": 116,
      "outputs": [
        {
          "output_type": "stream",
          "text": [
            "  Country_2015  Happiness Rank_2015  ...  Happiness Rank_2016 Year_2016\n",
            "2      Denmark                    3  ...                    3      2016\n",
            "3       Norway                    4  ...                    4      2016\n",
            "4       Canada                    5  ...                    5      2016\n",
            "\n",
            "[3 rows x 6 columns]\n",
            "/n\n",
            "  Country_2015  Happiness Rank_2015  ...  Happiness Rank_2016 Year_2016\n",
            "2      Denmark                    3  ...                  3.0    2016.0\n",
            "3       Norway                    4  ...                  4.0    2016.0\n",
            "4       Canada                    5  ...                  5.0    2016.0\n",
            "5      Finland                    6  ...                  NaN       NaN\n",
            "\n",
            "[4 rows x 6 columns]\n"
          ],
          "name": "stdout"
        }
      ]
    },
    {
      "cell_type": "markdown",
      "metadata": {
        "id": "qgDTXNz1lQ7d"
      },
      "source": [
        "Challenge: Combine Data and Create a Visualization"
      ]
    },
    {
      "cell_type": "code",
      "metadata": {
        "colab": {
          "base_uri": "https://localhost:8080/",
          "height": 373
        },
        "id": "_yHBmpVjjjXm",
        "outputId": "8e68456a-1447-46d5-dced-741aad74af90"
      },
      "source": [
        "means = happiness2015.pivot_table('Happiness Score', 'Region', aggfunc=np.mean)\n",
        "means"
      ],
      "execution_count": 119,
      "outputs": [
        {
          "output_type": "execute_result",
          "data": {
            "text/html": [
              "<div>\n",
              "<style scoped>\n",
              "    .dataframe tbody tr th:only-of-type {\n",
              "        vertical-align: middle;\n",
              "    }\n",
              "\n",
              "    .dataframe tbody tr th {\n",
              "        vertical-align: top;\n",
              "    }\n",
              "\n",
              "    .dataframe thead th {\n",
              "        text-align: right;\n",
              "    }\n",
              "</style>\n",
              "<table border=\"1\" class=\"dataframe\">\n",
              "  <thead>\n",
              "    <tr style=\"text-align: right;\">\n",
              "      <th></th>\n",
              "      <th>Happiness Score</th>\n",
              "    </tr>\n",
              "    <tr>\n",
              "      <th>Region</th>\n",
              "      <th></th>\n",
              "    </tr>\n",
              "  </thead>\n",
              "  <tbody>\n",
              "    <tr>\n",
              "      <th>Australia and New Zealand</th>\n",
              "      <td>7.285000</td>\n",
              "    </tr>\n",
              "    <tr>\n",
              "      <th>Central and Eastern Europe</th>\n",
              "      <td>5.332931</td>\n",
              "    </tr>\n",
              "    <tr>\n",
              "      <th>Eastern Asia</th>\n",
              "      <td>5.626167</td>\n",
              "    </tr>\n",
              "    <tr>\n",
              "      <th>Latin America and Caribbean</th>\n",
              "      <td>6.144682</td>\n",
              "    </tr>\n",
              "    <tr>\n",
              "      <th>Middle East and Northern Africa</th>\n",
              "      <td>5.406900</td>\n",
              "    </tr>\n",
              "    <tr>\n",
              "      <th>North America</th>\n",
              "      <td>7.273000</td>\n",
              "    </tr>\n",
              "    <tr>\n",
              "      <th>Southeastern Asia</th>\n",
              "      <td>5.317444</td>\n",
              "    </tr>\n",
              "    <tr>\n",
              "      <th>Southern Asia</th>\n",
              "      <td>4.580857</td>\n",
              "    </tr>\n",
              "    <tr>\n",
              "      <th>Sub-Saharan Africa</th>\n",
              "      <td>4.202800</td>\n",
              "    </tr>\n",
              "    <tr>\n",
              "      <th>Western Europe</th>\n",
              "      <td>6.689619</td>\n",
              "    </tr>\n",
              "  </tbody>\n",
              "</table>\n",
              "</div>"
            ],
            "text/plain": [
              "                                 Happiness Score\n",
              "Region                                          \n",
              "Australia and New Zealand               7.285000\n",
              "Central and Eastern Europe              5.332931\n",
              "Eastern Asia                            5.626167\n",
              "Latin America and Caribbean             6.144682\n",
              "Middle East and Northern Africa         5.406900\n",
              "North America                           7.273000\n",
              "Southeastern Asia                       5.317444\n",
              "Southern Asia                           4.580857\n",
              "Sub-Saharan Africa                      4.202800\n",
              "Western Europe                          6.689619"
            ]
          },
          "metadata": {
            "tags": []
          },
          "execution_count": 119
        }
      ]
    },
    {
      "cell_type": "code",
      "metadata": {
        "colab": {
          "base_uri": "https://localhost:8080/",
          "height": 298
        },
        "id": "tjuQHVC7lpQg",
        "outputId": "962a3675-fcfa-435f-e194-cb7ff46735ab"
      },
      "source": [
        "means.plot(kind='barh', title='Mean Happiness Scores by Region', xlim=(0,10), legend=False)"
      ],
      "execution_count": 122,
      "outputs": [
        {
          "output_type": "execute_result",
          "data": {
            "text/plain": [
              "<matplotlib.axes._subplots.AxesSubplot at 0x7fb2eb6c6e50>"
            ]
          },
          "metadata": {
            "tags": []
          },
          "execution_count": 122
        },
        {
          "output_type": "display_data",
          "data": {
            "image/png": "[encoded data removed]",
            "text/plain": [
              "<Figure size 432x288 with 1 Axes>"
            ]
          },
          "metadata": {
            "tags": [],
            "needs_background": "light"
          }
        }
      ]
    },
    {
      "cell_type": "code",
      "metadata": {
        "colab": {
          "base_uri": "https://localhost:8080/"
        },
        "id": "iJZRlJ4YmPpU",
        "outputId": "5ee734b3-41bd-4b3e-d700-feda02759cf6"
      },
      "source": [
        "happiness2017.columns"
      ],
      "execution_count": 123,
      "outputs": [
        {
          "output_type": "execute_result",
          "data": {
            "text/plain": [
              "Index(['Country', 'Happiness.Rank', 'Happiness.Score', 'Whisker.high',\n",
              "       'Whisker.low', 'Economy..GDP.per.Capita.', 'Family',\n",
              "       'Health..Life.Expectancy.', 'Freedom', 'Generosity',\n",
              "       'Trust..Government.Corruption.', 'Dystopia.Residual', 'Year'],\n",
              "      dtype='object')"
            ]
          },
          "metadata": {
            "tags": []
          },
          "execution_count": 123
        }
      ]
    },
    {
      "cell_type": "code",
      "metadata": {
        "id": "rqMoOxLulyt_"
      },
      "source": [
        "happiness2017.rename(columns={'Happiness.Score':'Happiness Score'}, inplace=True)"
      ],
      "execution_count": 124,
      "outputs": []
    },
    {
      "cell_type": "code",
      "metadata": {
        "colab": {
          "base_uri": "https://localhost:8080/",
          "height": 590
        },
        "id": "MS0BiSF3mgOK",
        "outputId": "4520c992-30c5-482b-df73-181825d715f9"
      },
      "source": [
        "combined = pd.concat([happiness2015, happiness2016, happiness2017], axis=0)\n",
        "combined"
      ],
      "execution_count": 129,
      "outputs": [
        {
          "output_type": "execute_result",
          "data": {
            "text/html": [
              "<div>\n",
              "<style scoped>\n",
              "    .dataframe tbody tr th:only-of-type {\n",
              "        vertical-align: middle;\n",
              "    }\n",
              "\n",
              "    .dataframe tbody tr th {\n",
              "        vertical-align: top;\n",
              "    }\n",
              "\n",
              "    .dataframe thead th {\n",
              "        text-align: right;\n",
              "    }\n",
              "</style>\n",
              "<table border=\"1\" class=\"dataframe\">\n",
              "  <thead>\n",
              "    <tr style=\"text-align: right;\">\n",
              "      <th></th>\n",
              "      <th>Country</th>\n",
              "      <th>Region</th>\n",
              "      <th>Happiness Rank</th>\n",
              "      <th>Happiness Score</th>\n",
              "      <th>Standard Error</th>\n",
              "      <th>Economy (GDP per Capita)</th>\n",
              "      <th>Family</th>\n",
              "      <th>Health (Life Expectancy)</th>\n",
              "      <th>Freedom</th>\n",
              "      <th>Trust (Government Corruption)</th>\n",
              "      <th>Generosity</th>\n",
              "      <th>Dystopia Residual</th>\n",
              "      <th>Year</th>\n",
              "      <th>Lower Confidence Interval</th>\n",
              "      <th>Upper Confidence Interval</th>\n",
              "      <th>Happiness.Rank</th>\n",
              "      <th>Whisker.high</th>\n",
              "      <th>Whisker.low</th>\n",
              "      <th>Economy..GDP.per.Capita.</th>\n",
              "      <th>Health..Life.Expectancy.</th>\n",
              "      <th>Trust..Government.Corruption.</th>\n",
              "      <th>Dystopia.Residual</th>\n",
              "    </tr>\n",
              "  </thead>\n",
              "  <tbody>\n",
              "    <tr>\n",
              "      <th>0</th>\n",
              "      <td>Switzerland</td>\n",
              "      <td>Western Europe</td>\n",
              "      <td>1.0</td>\n",
              "      <td>7.587</td>\n",
              "      <td>0.03411</td>\n",
              "      <td>1.39651</td>\n",
              "      <td>1.349510</td>\n",
              "      <td>0.94143</td>\n",
              "      <td>0.665570</td>\n",
              "      <td>0.41978</td>\n",
              "      <td>0.296780</td>\n",
              "      <td>2.51738</td>\n",
              "      <td>2015</td>\n",
              "      <td>NaN</td>\n",
              "      <td>NaN</td>\n",
              "      <td>NaN</td>\n",
              "      <td>NaN</td>\n",
              "      <td>NaN</td>\n",
              "      <td>NaN</td>\n",
              "      <td>NaN</td>\n",
              "      <td>NaN</td>\n",
              "      <td>NaN</td>\n",
              "    </tr>\n",
              "    <tr>\n",
              "      <th>1</th>\n",
              "      <td>Iceland</td>\n",
              "      <td>Western Europe</td>\n",
              "      <td>2.0</td>\n",
              "      <td>7.561</td>\n",
              "      <td>0.04884</td>\n",
              "      <td>1.30232</td>\n",
              "      <td>1.402230</td>\n",
              "      <td>0.94784</td>\n",
              "      <td>0.628770</td>\n",
              "      <td>0.14145</td>\n",
              "      <td>0.436300</td>\n",
              "      <td>2.70201</td>\n",
              "      <td>2015</td>\n",
              "      <td>NaN</td>\n",
              "      <td>NaN</td>\n",
              "      <td>NaN</td>\n",
              "      <td>NaN</td>\n",
              "      <td>NaN</td>\n",
              "      <td>NaN</td>\n",
              "      <td>NaN</td>\n",
              "      <td>NaN</td>\n",
              "      <td>NaN</td>\n",
              "    </tr>\n",
              "    <tr>\n",
              "      <th>2</th>\n",
              "      <td>Denmark</td>\n",
              "      <td>Western Europe</td>\n",
              "      <td>3.0</td>\n",
              "      <td>7.527</td>\n",
              "      <td>0.03328</td>\n",
              "      <td>1.32548</td>\n",
              "      <td>1.360580</td>\n",
              "      <td>0.87464</td>\n",
              "      <td>0.649380</td>\n",
              "      <td>0.48357</td>\n",
              "      <td>0.341390</td>\n",
              "      <td>2.49204</td>\n",
              "      <td>2015</td>\n",
              "      <td>NaN</td>\n",
              "      <td>NaN</td>\n",
              "      <td>NaN</td>\n",
              "      <td>NaN</td>\n",
              "      <td>NaN</td>\n",
              "      <td>NaN</td>\n",
              "      <td>NaN</td>\n",
              "      <td>NaN</td>\n",
              "      <td>NaN</td>\n",
              "    </tr>\n",
              "    <tr>\n",
              "      <th>3</th>\n",
              "      <td>Norway</td>\n",
              "      <td>Western Europe</td>\n",
              "      <td>4.0</td>\n",
              "      <td>7.522</td>\n",
              "      <td>0.03880</td>\n",
              "      <td>1.45900</td>\n",
              "      <td>1.330950</td>\n",
              "      <td>0.88521</td>\n",
              "      <td>0.669730</td>\n",
              "      <td>0.36503</td>\n",
              "      <td>0.346990</td>\n",
              "      <td>2.46531</td>\n",
              "      <td>2015</td>\n",
              "      <td>NaN</td>\n",
              "      <td>NaN</td>\n",
              "      <td>NaN</td>\n",
              "      <td>NaN</td>\n",
              "      <td>NaN</td>\n",
              "      <td>NaN</td>\n",
              "      <td>NaN</td>\n",
              "      <td>NaN</td>\n",
              "      <td>NaN</td>\n",
              "    </tr>\n",
              "    <tr>\n",
              "      <th>4</th>\n",
              "      <td>Canada</td>\n",
              "      <td>North America</td>\n",
              "      <td>5.0</td>\n",
              "      <td>7.427</td>\n",
              "      <td>0.03553</td>\n",
              "      <td>1.32629</td>\n",
              "      <td>1.322610</td>\n",
              "      <td>0.90563</td>\n",
              "      <td>0.632970</td>\n",
              "      <td>0.32957</td>\n",
              "      <td>0.458110</td>\n",
              "      <td>2.45176</td>\n",
              "      <td>2015</td>\n",
              "      <td>NaN</td>\n",
              "      <td>NaN</td>\n",
              "      <td>NaN</td>\n",
              "      <td>NaN</td>\n",
              "      <td>NaN</td>\n",
              "      <td>NaN</td>\n",
              "      <td>NaN</td>\n",
              "      <td>NaN</td>\n",
              "      <td>NaN</td>\n",
              "    </tr>\n",
              "    <tr>\n",
              "      <th>...</th>\n",
              "      <td>...</td>\n",
              "      <td>...</td>\n",
              "      <td>...</td>\n",
              "      <td>...</td>\n",
              "      <td>...</td>\n",
              "      <td>...</td>\n",
              "      <td>...</td>\n",
              "      <td>...</td>\n",
              "      <td>...</td>\n",
              "      <td>...</td>\n",
              "      <td>...</td>\n",
              "      <td>...</td>\n",
              "      <td>...</td>\n",
              "      <td>...</td>\n",
              "      <td>...</td>\n",
              "      <td>...</td>\n",
              "      <td>...</td>\n",
              "      <td>...</td>\n",
              "      <td>...</td>\n",
              "      <td>...</td>\n",
              "      <td>...</td>\n",
              "      <td>...</td>\n",
              "    </tr>\n",
              "    <tr>\n",
              "      <th>150</th>\n",
              "      <td>Rwanda</td>\n",
              "      <td>NaN</td>\n",
              "      <td>NaN</td>\n",
              "      <td>3.471</td>\n",
              "      <td>NaN</td>\n",
              "      <td>NaN</td>\n",
              "      <td>0.945707</td>\n",
              "      <td>NaN</td>\n",
              "      <td>0.581844</td>\n",
              "      <td>NaN</td>\n",
              "      <td>0.252756</td>\n",
              "      <td>NaN</td>\n",
              "      <td>2017</td>\n",
              "      <td>NaN</td>\n",
              "      <td>NaN</td>\n",
              "      <td>151.0</td>\n",
              "      <td>3.543030</td>\n",
              "      <td>3.398970</td>\n",
              "      <td>0.368746</td>\n",
              "      <td>0.326425</td>\n",
              "      <td>0.455220</td>\n",
              "      <td>0.540061</td>\n",
              "    </tr>\n",
              "    <tr>\n",
              "      <th>151</th>\n",
              "      <td>Syria</td>\n",
              "      <td>NaN</td>\n",
              "      <td>NaN</td>\n",
              "      <td>3.462</td>\n",
              "      <td>NaN</td>\n",
              "      <td>NaN</td>\n",
              "      <td>0.396103</td>\n",
              "      <td>NaN</td>\n",
              "      <td>0.081539</td>\n",
              "      <td>NaN</td>\n",
              "      <td>0.493664</td>\n",
              "      <td>NaN</td>\n",
              "      <td>2017</td>\n",
              "      <td>NaN</td>\n",
              "      <td>NaN</td>\n",
              "      <td>152.0</td>\n",
              "      <td>3.663669</td>\n",
              "      <td>3.260331</td>\n",
              "      <td>0.777153</td>\n",
              "      <td>0.500533</td>\n",
              "      <td>0.151347</td>\n",
              "      <td>1.061574</td>\n",
              "    </tr>\n",
              "    <tr>\n",
              "      <th>152</th>\n",
              "      <td>Tanzania</td>\n",
              "      <td>NaN</td>\n",
              "      <td>NaN</td>\n",
              "      <td>3.349</td>\n",
              "      <td>NaN</td>\n",
              "      <td>NaN</td>\n",
              "      <td>1.041990</td>\n",
              "      <td>NaN</td>\n",
              "      <td>0.390018</td>\n",
              "      <td>NaN</td>\n",
              "      <td>0.354256</td>\n",
              "      <td>NaN</td>\n",
              "      <td>2017</td>\n",
              "      <td>NaN</td>\n",
              "      <td>NaN</td>\n",
              "      <td>153.0</td>\n",
              "      <td>3.461430</td>\n",
              "      <td>3.236570</td>\n",
              "      <td>0.511136</td>\n",
              "      <td>0.364509</td>\n",
              "      <td>0.066035</td>\n",
              "      <td>0.621130</td>\n",
              "    </tr>\n",
              "    <tr>\n",
              "      <th>153</th>\n",
              "      <td>Burundi</td>\n",
              "      <td>NaN</td>\n",
              "      <td>NaN</td>\n",
              "      <td>2.905</td>\n",
              "      <td>NaN</td>\n",
              "      <td>NaN</td>\n",
              "      <td>0.629794</td>\n",
              "      <td>NaN</td>\n",
              "      <td>0.059901</td>\n",
              "      <td>NaN</td>\n",
              "      <td>0.204435</td>\n",
              "      <td>NaN</td>\n",
              "      <td>2017</td>\n",
              "      <td>NaN</td>\n",
              "      <td>NaN</td>\n",
              "      <td>154.0</td>\n",
              "      <td>3.074690</td>\n",
              "      <td>2.735310</td>\n",
              "      <td>0.091623</td>\n",
              "      <td>0.151611</td>\n",
              "      <td>0.084148</td>\n",
              "      <td>1.683024</td>\n",
              "    </tr>\n",
              "    <tr>\n",
              "      <th>154</th>\n",
              "      <td>Central African Republic</td>\n",
              "      <td>NaN</td>\n",
              "      <td>NaN</td>\n",
              "      <td>2.693</td>\n",
              "      <td>NaN</td>\n",
              "      <td>NaN</td>\n",
              "      <td>0.000000</td>\n",
              "      <td>NaN</td>\n",
              "      <td>0.270842</td>\n",
              "      <td>NaN</td>\n",
              "      <td>0.280876</td>\n",
              "      <td>NaN</td>\n",
              "      <td>2017</td>\n",
              "      <td>NaN</td>\n",
              "      <td>NaN</td>\n",
              "      <td>155.0</td>\n",
              "      <td>2.864884</td>\n",
              "      <td>2.521116</td>\n",
              "      <td>0.000000</td>\n",
              "      <td>0.018773</td>\n",
              "      <td>0.056565</td>\n",
              "      <td>2.066005</td>\n",
              "    </tr>\n",
              "  </tbody>\n",
              "</table>\n",
              "<p>470 rows × 22 columns</p>\n",
              "</div>"
            ],
            "text/plain": [
              "                      Country  ... Dystopia.Residual\n",
              "0                 Switzerland  ...               NaN\n",
              "1                     Iceland  ...               NaN\n",
              "2                     Denmark  ...               NaN\n",
              "3                      Norway  ...               NaN\n",
              "4                      Canada  ...               NaN\n",
              "..                        ...  ...               ...\n",
              "150                    Rwanda  ...          0.540061\n",
              "151                     Syria  ...          1.061574\n",
              "152                  Tanzania  ...          0.621130\n",
              "153                   Burundi  ...          1.683024\n",
              "154  Central African Republic  ...          2.066005\n",
              "\n",
              "[470 rows x 22 columns]"
            ]
          },
          "metadata": {
            "tags": []
          },
          "execution_count": 129
        }
      ]
    },
    {
      "cell_type": "code",
      "metadata": {
        "colab": {
          "base_uri": "https://localhost:8080/",
          "height": 166
        },
        "id": "e6Y1GDSNnLbJ",
        "outputId": "b66c8364-05cd-4a93-a5c0-258b536185c2"
      },
      "source": [
        "pivot_table_combined = combined.pivot_table('Happiness Score', 'Year')\n",
        "pivot_table_combined"
      ],
      "execution_count": 130,
      "outputs": [
        {
          "output_type": "execute_result",
          "data": {
            "text/html": [
              "<div>\n",
              "<style scoped>\n",
              "    .dataframe tbody tr th:only-of-type {\n",
              "        vertical-align: middle;\n",
              "    }\n",
              "\n",
              "    .dataframe tbody tr th {\n",
              "        vertical-align: top;\n",
              "    }\n",
              "\n",
              "    .dataframe thead th {\n",
              "        text-align: right;\n",
              "    }\n",
              "</style>\n",
              "<table border=\"1\" class=\"dataframe\">\n",
              "  <thead>\n",
              "    <tr style=\"text-align: right;\">\n",
              "      <th></th>\n",
              "      <th>Happiness Score</th>\n",
              "    </tr>\n",
              "    <tr>\n",
              "      <th>Year</th>\n",
              "      <th></th>\n",
              "    </tr>\n",
              "  </thead>\n",
              "  <tbody>\n",
              "    <tr>\n",
              "      <th>2015</th>\n",
              "      <td>5.375734</td>\n",
              "    </tr>\n",
              "    <tr>\n",
              "      <th>2016</th>\n",
              "      <td>5.382185</td>\n",
              "    </tr>\n",
              "    <tr>\n",
              "      <th>2017</th>\n",
              "      <td>5.354019</td>\n",
              "    </tr>\n",
              "  </tbody>\n",
              "</table>\n",
              "</div>"
            ],
            "text/plain": [
              "      Happiness Score\n",
              "Year                 \n",
              "2015         5.375734\n",
              "2016         5.382185\n",
              "2017         5.354019"
            ]
          },
          "metadata": {
            "tags": []
          },
          "execution_count": 130
        }
      ]
    },
    {
      "cell_type": "code",
      "metadata": {
        "colab": {
          "base_uri": "https://localhost:8080/",
          "height": 298
        },
        "id": "_XK9XWnJndge",
        "outputId": "09f5bbce-e9cb-4926-aac2-c3df6c01bf49"
      },
      "source": [
        "pivot_table_combined.plot(kind='barh', title='Mean Happiness Scores by Year', xlim=(0,10), legend=True)"
      ],
      "execution_count": 133,
      "outputs": [
        {
          "output_type": "execute_result",
          "data": {
            "text/plain": [
              "<matplotlib.axes._subplots.AxesSubplot at 0x7fb2eb49e3d0>"
            ]
          },
          "metadata": {
            "tags": []
          },
          "execution_count": 133
        },
        {
          "output_type": "display_data",
          "data": {
            "image/png": "[encoded data removed]",
            "text/plain": [
              "<Figure size 432x288 with 1 Axes>"
            ]
          },
          "metadata": {
            "tags": [],
            "needs_background": "light"
          }
        }
      ]
    },
    {
      "cell_type": "code",
      "metadata": {
        "id": "FouGmWkQn0L1"
      },
      "source": [
        ""
      ],
      "execution_count": null,
      "outputs": []
    }
  ]
}